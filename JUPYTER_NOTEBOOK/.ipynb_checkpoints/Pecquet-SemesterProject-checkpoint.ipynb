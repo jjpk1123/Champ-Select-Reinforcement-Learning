{
 "cells": [
  {
   "cell_type": "markdown",
   "metadata": {},
   "source": [
    "$\\newcommand{\\xv}{\\mathbf{x}}\n",
    "\\newcommand{\\Xv}{\\mathbf{X}}\n",
    "\\newcommand{\\yv}{\\mathbf{y}}\n",
    "\\newcommand{\\zv}{\\mathbf{z}}\n",
    "\\newcommand{\\av}{\\mathbf{a}}\n",
    "\\newcommand{\\Wv}{\\mathbf{W}}\n",
    "\\newcommand{\\wv}{\\mathbf{w}}\n",
    "\\newcommand{\\tv}{\\mathbf{t}}\n",
    "\\newcommand{\\Tv}{\\mathbf{T}}\n",
    "\\newcommand{\\muv}{\\boldsymbol{\\mu}}\n",
    "\\newcommand{\\sigmav}{\\boldsymbol{\\sigma}}\n",
    "\\newcommand{\\phiv}{\\boldsymbol{\\phi}}\n",
    "\\newcommand{\\Phiv}{\\boldsymbol{\\Phi}}\n",
    "\\newcommand{\\Sigmav}{\\boldsymbol{\\Sigma}}\n",
    "\\newcommand{\\Lambdav}{\\boldsymbol{\\Lambda}}\n",
    "\\newcommand{\\half}{\\frac{1}{2}}\n",
    "\\newcommand{\\argmax}[1]{\\underset{#1}{\\operatorname{argmax}}}\n",
    "\\newcommand{\\argmin}[1]{\\underset{#1}{\\operatorname{argmin}}}$"
   ]
  },
  {
   "cell_type": "markdown",
   "metadata": {},
   "source": [
    "# Reinforcement Learning Project for League of Legends Champion Select"
   ]
  },
  {
   "cell_type": "markdown",
   "metadata": {},
   "source": [
    "by Julien Pecquet, December 11th, 2018"
   ]
  },
  {
   "cell_type": "markdown",
   "metadata": {},
   "source": [
    "# Introduction"
   ]
  },
  {
   "cell_type": "markdown",
   "metadata": {},
   "source": [
    "League of Legends (A.K.A. LoL or League) is an Multiplayer Online Battle Arena (MOBA) game, where teams of 5 fight each other with the goal of destroying the opposing teams nexus (home base). [The League of Legends wikipedia](https://en.wikipedia.org/wiki/League_of_Legends) notes that in September 2016, the company who owns LoL, Riot Games, estimated that there are over 100 million active players each month. Currently, the 2018 World Championship is ongoing, which featured teams from North America, Europe, Latin America, South Korea, China, Taiwan, and many more. Last year's championship boasted 60 million unique viewers and a total prize pool of over 4 million USD. Needless to say, the pay off for succeeding in the League of Legends esports scene is enormous, and noticed by a huge population. This is one of my motivations for solving this problem.\n",
    "    \n",
    "While it would be incredible to focus on a program who could play the real-time game against real people, this would be an incredibly deep problem requiring much more resources. This is in fact the part of the game which most people think of when they think about LoL. This being said, the portion of the game I want to focus on is similar to a card game. It is known as Champion Select. Before players can get to the MOBA action, they go through a turn-based game which takes about 5 minutes to decide which champions they get to play. It has many formats and I want to explore them all to see what my implementation will think is best within each format. I also am very excited to compare what my program will value as opposed to what players come up in different countries and different ranks, to my own ideas, and also to professional play. "
   ]
  },
  {
   "cell_type": "markdown",
   "metadata": {},
   "source": [
    "Before I dive into the specifics, let's think for a moment about the space complexity of this problem given the different drafts. There are (as of December 5th, 2018) 142 Champions in the League. Basic rules of league's interactive draft state that you can only have unique champions in the pick/bans. There are 5 bans per team, 5 champions per team. So there are (142 choose 20)=1.12 * 10^24 possible board states.<br>\n",
    "\n",
    "Now, how do we cut this number up so that this problem is doable? We can potentially completely remove ban's from the game, when training. This would mean that the problem goes to (142 choose 10)=6.64 * 10^14, significantly smaller! Something else to note is that not every champion can play in every role. Some champions only play in 1 role, so once that role is chosen they no longer are a choice for that game state. Implied in this statement is the fact that each team needs 1 and only 1 of each role. From data gathered using methods defined below, there are 107 top laners, 86 junglers, 101 mid laners, 84 duo_carries, 83 duo_supports. This drastically reduces the space of the problem to be less than before. Perhaps it would work something like this:"
   ]
  },
  {
   "cell_type": "code",
   "execution_count": 81,
   "metadata": {},
   "outputs": [
    {
     "data": {
      "text/plain": [
       "3232609275050.784"
      ]
     },
     "execution_count": 81,
     "metadata": {},
     "output_type": "execute_result"
    }
   ],
   "source": [
    "((142)*(141)*(140)*(139)*(138)*(137)*(136)*(135)*(107)*(107))/(10*9*8*7*6*5*4*3*2*(142-10))"
   ]
  },
  {
   "cell_type": "markdown",
   "metadata": {},
   "source": [
    "My reasoning is that the first 4 choices per team (8 choices total) will, at worst, still allow choices of every remaining champion. But once you get to your last choice, you only have one role. I'm assuming the worst again, in that the last role picked is Top. "
   ]
  },
  {
   "cell_type": "markdown",
   "metadata": {},
   "source": [
    "How can we make the players pick things more randomly in a way that reflects a real game? We could have a mechanism for banning either a high general win-rate champ, or a random champ. This would mean that the most overpowered compositions would be found less often, and we wouldnt adhere to the meta quite as much. Making bans random would also reduce the amount of choices by a very significant amount. We can also make the opponent player randomly pick champions in order to increase processing time."
   ]
  },
  {
   "cell_type": "code",
   "execution_count": 82,
   "metadata": {},
   "outputs": [
    {
     "data": {
      "text/plain": [
       "1920070742519.672"
      ]
     },
     "execution_count": 82,
     "metadata": {},
     "output_type": "execute_result"
    }
   ],
   "source": [
    "((132)*(131)*(130)*(129)*(128)*(127)*(126)*(125)*(107)*(107))/(10*9*8*7*6*5*4*3*2*(132-10))"
   ]
  },
  {
   "cell_type": "markdown",
   "metadata": {},
   "source": [
    "Now, before you continue reading... this problem space is still just absolutely massive. My naivete brought me into this project thinking \"it won't be so bad, what could go wrong?\".\n",
    "Well I'll tell you right now, the experiment failed because the problem is just too large to train the AI in a decent amount of time given the methods, organization, etc that I came up with. I would love to continue this problem and figure out where and why my code is so slow. As it stands, this is what I've got. I still think the project was very interesting and worth the read! Perhaps it is possible to see just where I went wrong. Hopefully, I didn't go wrong when I made the choice to pick this problem."
   ]
  },
  {
   "cell_type": "markdown",
   "metadata": {},
   "source": [
    "# Methods"
   ]
  },
  {
   "cell_type": "markdown",
   "metadata": {},
   "source": [
    "To start the project, I wanted to make sure I understood how to use the API's in question before attempting to set up anything with the actual artificial intelligence algorithms. To do this, I ran a few tests with the API's and learned about the bits of each JSON that I was retrieving.\n",
    "The services I am using are:\n",
    "   * Champion.gg: Documentation found here: http://api.champion.gg/docs/#api-Champions\n",
    "        * This tool is my primary one, which will get me an enormous amount of statistics for different champions in different roles with different other champions as their teammates or enemies. It has *almost* everything I need for the project.\n",
    "   * Riot Games' Data Dragon: Documentation found here: https://developer.riotgames.com/static-data.html\n",
    "        * This tool will allow me to do a great number of things to make my software easily usable (for me) and to make the output pretty! This service allows me to get images of champions, abilities, etc and more importantly for development it will allow me to get champion's descriptions by id (given to me from champion.gg requests)."
   ]
  },
  {
   "cell_type": "markdown",
   "metadata": {},
   "source": [
    "First, let's import some useful stuff, as we always do."
   ]
  },
  {
   "cell_type": "code",
   "execution_count": 83,
   "metadata": {},
   "outputs": [],
   "source": [
    "import requests as req\n",
    "import urllib\n",
    "import numpy as np\n",
    "import matplotlib.pyplot as plt\n",
    "import matplotlib.image as mpimg\n",
    "import copy"
   ]
  },
  {
   "cell_type": "markdown",
   "metadata": {},
   "source": [
    "This is an example query for [Champion.gg](https://champion.gg/)"
   ]
  },
  {
   "cell_type": "code",
   "execution_count": 84,
   "metadata": {},
   "outputs": [],
   "source": [
    "api_key = 'e29bf7c5e411c43e2db51ceb2255e3d1' #This will be used in many functions down the road, so I declare it now.\n",
    "championgg = req.get(\"http://api.champion.gg/v2/champions?&limit=500&api_key=\"+api_key).json()"
   ]
  },
  {
   "cell_type": "markdown",
   "metadata": {},
   "source": [
    "This is an example query for [Data Dragon](https://developer.riotgames.com/static-data.html)"
   ]
  },
  {
   "cell_type": "code",
   "execution_count": 85,
   "metadata": {},
   "outputs": [],
   "source": [
    "dd = req.get(\"http://ddragon.leagueoflegends.com/cdn/9.3.1/data/en_US/champion.json\").json()"
   ]
  },
  {
   "cell_type": "markdown",
   "metadata": {},
   "source": [
    "Once I understood how to use these amazing assets, I began to think about design. After fiddling with the different queries these API's accept, it quickly became clear that I wouldn't want to write long complicated queries very often as it would get tedious, be error prone, and ultimately hard to digest for a reader. Besides this, there is a limited number of requests per unit time. At least for Champion.gg, this is a beta API which is completely free and open to anyone, so they simply don't have the infrastructure of a million queries whenever I want to train. More importantly for me, it will lock my key out (temporarily or permanently, I am not sure). Also, it would be more time and space efficient to only have to query the minimum amount of times, and to hold this information on my machine.\n",
    "\n",
    "Something else I wanted to take into account was applying object-oriented design to make it simpler to read, write, and manage. If something went wrong, or if I wanted to add more functionality to a piece of my code, or perhaps if something worked very differently than I anticipated, I know that I would particularly want encapsulation implemented. This is reflected in my design below."
   ]
  },
  {
   "cell_type": "markdown",
   "metadata": {},
   "source": [
    "I borrowed the reinforcement learning code from class, looking at the Maze and particularly Tic-Tac-Toe code much like in one of our assignments. I also, of course, reviewed my own assignment code to remember what alterations I made to the courses code to make it work on a new problem. That being said, this problem is closer to Tic-Tac-Toe than it is to Maze or Hanoi, since it is a two-player game."
   ]
  },
  {
   "cell_type": "markdown",
   "metadata": {},
   "source": [
    "## Class: Champion\n",
    "![alt text](http://ddragon.leagueoflegends.com/cdn/img/champion/splash/Aatrox_0.jpg)\n",
    "\n",
    "This class is key to my design. It holds important information regarding a specific champion. When we are training the AI in Champion Select, it will need access to this information every time it gets to decides which champion to pick (i.e. when it is not a random choice). Within the realm of reinforcement learning, think of this class as each of the choices. For each champion not yet chosen at each node, there is a branch in the tree of choices which constitutes picking that champion.<br>\n",
    "The data it holds looks like this:\n",
    "   - `name`: The human-recognizable identifier for the Champion, such as \"Aatrox\" as shown above.\n",
    "   - `id`: The consistent identifier for grabbing a champion from Data Dragon or Champion.gg, such as '266'.\n",
    "   - `winrate`: The averaged winrate over all of the Champion's roles.\n",
    "   - `roles`: Any one champion can have any combination of the following entires of this list as their roles: \n",
    "    - `[TOP, JUNGLE, MIDDLE, DUO_CARRY, DUO_SUPPORT, SYNERGY, ADCSUPPORT]`.<br>\n",
    "     - `TOP, JUNGLE, MIDDLE, DUO_CARRY, DUO_SUPPORT`: describe what is known as a \"lane assignment\". In the community, these are what people think of when they think of roles in a composition within League of Legends. In this program, I will limit each team of 5 to one of each within this list. Can't make a team with 5 `DUO_SUPPORT`, for example. \n",
    "     - `SYNERGY`: refers to two champions played on the same team, either playing in any role as long as it is not the same role. \n",
    "     - `ADCSUPPORT`: refers to part of the `DUO_SUPPORT`/`DUO_CARRY` relationship, and can be thought of as `BOTTOM SYNERGY` since `DUO_SUPPORT` and `DUO_CARRY` both play in the bottom lane.\n",
    "   - `matchups`: A list in the form \n",
    "    -`[ROLE: {ENEMY/ALLY: WINRATE WITH/AGAINST}, ...]`<br> \n",
    "    This structure describes how `Champion A` relates to `Champion B` in terms of `winrate`. For every entry in the Champion's `roles` list, there is an entry in this list which goes more in depth. This could, for example, be used to find the winrate between Aatrox and Alistar, or the winrate when Aatrox and Alistar are on the same team.<br>"
   ]
  },
  {
   "cell_type": "code",
   "execution_count": 86,
   "metadata": {},
   "outputs": [],
   "source": [
    "#Given an id number, and Data Dragon, returns all champion info\n",
    "def getChampInfoById(champId, dataDragon):\n",
    "    for key, value in dataDragon['data'].items():\n",
    "        if int(value['key']) == int(champId):\n",
    "            return value\n",
    "    return None\n",
    "\n",
    "#[ROLE: {<ENEMY/ALLY Champion>: <Winrate AGAINST/WITH>}, ...}, ...]\n",
    "def getAllMatchups(champId, championgg, dataDragon, limit=10):\n",
    "    #Every matchup\n",
    "    champId = str(champId)\n",
    "    matchups = req.get(\"http://api.champion.gg/v2/champions/\"+champId+\"/matchups?&limit=500&api_key=\"+api_key).json()\n",
    "\n",
    "    #All champions: {64: 'LeeSin',...}\n",
    "    allChamps = getAllChamps(championgg, dataDragon)\n",
    "\n",
    "    #Filter the matchups, limiting it to only *limit* games as bottom threshold.\n",
    "    #For example if limit=10, trim off all matchups with less than 10 games played.\n",
    "    fm = filterMatchups(matchups, limit)\n",
    "    all_roles = ['TOP', 'JUNGLE', 'MIDDLE', 'DUO_CARRY', 'DUO_SUPPORT', 'SYNERGY', 'ADCSUPPORT']\n",
    "    all_matchups = {}\n",
    "\n",
    "    #Iterate through each role type\n",
    "    for role in all_roles:\n",
    "        #Role_fm = role with filtered matchups. Looks at Lee Sin Jungle vs all(x) Jungle.\n",
    "        role_fm = [x for i, x in enumerate(fm) if fm[i]['_id']['role'] == role]\n",
    "        #print(role)\n",
    "        #print(role_fm)\n",
    "\n",
    "        #If there is at least one game...\n",
    "        if role_fm:\n",
    "\n",
    "            role_matchup = []\n",
    "            for i, x in enumerate(role_fm):\n",
    "                #Figure out which champ_id is our champ, and which is the enemy, get the winrate AGAINST:\n",
    "                if int(x['_id']['champ2_id']) != int(champId):\n",
    "                    enemyChamp = allChamps[x['_id']['champ2_id']]\n",
    "                    enemyChampId = x['_id']['champ2_id']\n",
    "                    winrate = role_fm[i]['champ1']['winrate']\n",
    "                else:\n",
    "                    enemyChamp = allChamps[x['_id']['champ1_id']]\n",
    "                    enemyChampId = x['_id']['champ1_id']\n",
    "                    winrate = role_fm[i]['champ2']['winrate']\n",
    "                #Add this information to a dictionary\n",
    "                matchup = {}\n",
    "                matchup[enemyChamp] = winrate\n",
    "\n",
    "                #Add it to the collection of role_matchups\n",
    "                role_matchup.append(matchup)\n",
    "            #Add this role_matchup to all matchups\n",
    "            all_matchups[role] = role_matchup\n",
    "    return all_matchups\n",
    "\n",
    "#Given champion.gg and Data Dragon champion data jsons, returns a dictionary of {id : champion name}\n",
    "def getAllChamps(championgg, datadragon):\n",
    "    champs = {}\n",
    "\n",
    "    #Iterate through all champions in championgg\n",
    "    for i in range(len(championgg)):\n",
    "        championggKey = championgg[i]['_id']['championId']\n",
    "\n",
    "        #Iterate through all champions in datadragon\n",
    "        for key, value in datadragon['data'].items():\n",
    "\n",
    "            #If the champion id's match...\n",
    "            if int(value['key']) == int(championggKey):\n",
    "                #... add it to the list, and go to next\n",
    "                champs[championggKey] = key\n",
    "                break\n",
    "    return champs\n",
    "\n",
    "#Given a name, and Data Dragon, returns the champion's id\n",
    "def getChampId(champName, dataDragon):\n",
    "    return dd['data'][champName]['key']\n",
    "\n",
    "def getWinrate(matchups):\n",
    "    winrate = 0\n",
    "    total = 0\n",
    "    for role in matchups:\n",
    "        for matchup in matchups[role]:\n",
    "            winrate += list(matchup.values())[0]\n",
    "            total += 1\n",
    "    return winrate/total\n",
    "\n",
    "def getWinrate(matchups, role):\n",
    "    roleMatchups = matchups[role]\n",
    "    winrate = 0\n",
    "    total = 0\n",
    "    for matchup in roleMatchups:\n",
    "        winrate += list(matchup.values())[0]\n",
    "        total += 1\n",
    "    if total == 0:\n",
    "        return .5\n",
    "    return winrate/total\n",
    "\n",
    "#Given a set of matchups, filter the set by how big the data size is, defaulting at limit=100.\n",
    "def filterMatchups(matchups, limit=100):\n",
    "    return [matchup for matchup in matchups if matchup['count'] >= limit]"
   ]
  },
  {
   "cell_type": "code",
   "execution_count": 87,
   "metadata": {},
   "outputs": [],
   "source": [
    "#Holds information about one champion\n",
    "class Champion:    \n",
    "    def showIcon(self):\n",
    "        plt.imshow(img)\n",
    "        plt.show()\n",
    "        \n",
    "    #Given a lane, gives the best match up aka the champ this champ has the highest win rate against/with.\n",
    "    def getBestMatchup(self, lane):\n",
    "        winrates = self.matchups[lane]\n",
    "        bestWinrate = 0\n",
    "        bestIndex = -1\n",
    "        for i in range(len(winrates)):\n",
    "            win = list(winrates[i].values())[0]\n",
    "            #print(win)\n",
    "            if win > bestWinrate:\n",
    "                bestWinrate = win\n",
    "                bestIndex = i\n",
    "        return winrates[bestIndex]\n",
    "\n",
    "\n",
    "    def getWorstMatchup(self, lane):\n",
    "        winrates = self.matchups[lane]\n",
    "        bestWinrate = 1\n",
    "        bestIndex = -1\n",
    "        for i in range(len(winrates)):\n",
    "            win = list(winrates[i].values())[0]\n",
    "            #print(win)\n",
    "            if win < bestWinrate:\n",
    "                bestWinrate = win\n",
    "                bestIndex = i\n",
    "        return winrates[bestIndex]\n",
    "    \n",
    "    def __init__(self, championId, championgg, dataDragon):\n",
    "        self.dataDragon = getChampInfoById(championId, dataDragon)\n",
    "        self.championgg = championgg                                  #TODO: Make League filter this field.           \n",
    "        \n",
    "        #Matchups\n",
    "        self.matchups = getAllMatchups(championId, championgg, dataDragon)\n",
    "        \n",
    "        #Roles in matchups that are not SYNERGY or ADCSUPPORT\n",
    "        self.roles = [role for role in list(getAllMatchups(championId, championgg, dd).keys()) \\\n",
    "                      if role != 'SYNERGY' and role != 'ADCSUPPORT']\n",
    "        \n",
    "        #Any non-zero positive integer found in the Data Dragon champion data\n",
    "        self.id   = championId                   \n",
    "        \n",
    "        #Irelia, LeeSin, Aatrox...\n",
    "        self.name = self.dataDragon['id']  \n",
    "        \n",
    "        #Image information\n",
    "        #self.icon = mpimg.imread('http://ddragon.leagueoflegends.com/cdn/6.24.1/img/champion/' + self.dataDragon['image']['full'])\n",
    "        \n",
    "    def __repr__(self):\n",
    "        return str(self.name) + \", \" + str(self.id) + \": \" + str(self.roles)\n",
    "    \n",
    "    def __eq__(self, other):\n",
    "        return self.name == other.name"
   ]
  },
  {
   "cell_type": "markdown",
   "metadata": {},
   "source": [
    "A quick example:"
   ]
  },
  {
   "cell_type": "code",
   "execution_count": 88,
   "metadata": {
    "scrolled": false
   },
   "outputs": [
    {
     "data": {
      "text/plain": [
       "LeeSin, 64: ['TOP', 'JUNGLE', 'MIDDLE', 'DUO_SUPPORT']"
      ]
     },
     "execution_count": 88,
     "metadata": {},
     "output_type": "execute_result"
    }
   ],
   "source": [
    "Champion(64, championgg, dd)"
   ]
  },
  {
   "cell_type": "markdown",
   "metadata": {},
   "source": [
    "## Class: League\n",
    "League of Legends boasts 142 unique Champions. This class is responsible for creating a catalogue of those champions. It will query Champion.gg and Data Dragon and create a *list of Champions* from the returned data. When we are picking champions, we will need a list to look at to inform our decision. \n",
    "![alt text](https://i.imgur.com/ptIRC1C.png)\n",
    "Image taken from the [League of Legends Wiki](http://leagueoflegends.wikia.com/wiki/League_of_Legends_Wiki)"
   ]
  },
  {
   "cell_type": "code",
   "execution_count": 89,
   "metadata": {},
   "outputs": [],
   "source": [
    "#Creates a collection of every Champion.\n",
    "#It accomplishes this by querying Data Dragon and Champion.gg for the requested patch, using the provided key.\n",
    "class League:\n",
    "    #A constructor if you know nothing, or know patch and/or api_key\n",
    "    def __init__(self, patch=\"9.3.1\", api_key=\"e29bf7c5e411c43e2db51ceb2255e3d1\"):\n",
    "        self.championgg = req.get(\"http://api.champion.gg/v2/champions?&limit=500&api_key=\"+api_key).json()\n",
    "        self.dd = req.get(\"http://ddragon.leagueoflegends.com/cdn/\"+patch+\"/data/en_US/champion.json\").json()\n",
    "        self.champions = [Champion(getChampId(name, dd), championgg, dd) for name in dd['data']]\n",
    "        \n",
    "    def getChampsInRole(self, role):\n",
    "        return [champ for champ in self.champions if role in champ.roles]\n",
    "    \n",
    "    def getListOfChamps(self):\n",
    "        return [champ for champ in self.champions]"
   ]
  },
  {
   "cell_type": "markdown",
   "metadata": {},
   "source": [
    "Here is an introduction to using the League class. You can see the way in which things are organized, and can perhaps begin to think about how I want to use this collection I have created."
   ]
  },
  {
   "cell_type": "code",
   "execution_count": 90,
   "metadata": {},
   "outputs": [],
   "source": [
    "L = League()"
   ]
  },
  {
   "cell_type": "markdown",
   "metadata": {},
   "source": [
    "We can retrieve the complete list of champions. Also if you want to read the names of the champions (some are quite interesting) this is the place to do it!"
   ]
  },
  {
   "cell_type": "code",
   "execution_count": 91,
   "metadata": {},
   "outputs": [
    {
     "data": {
      "text/plain": [
       "[Aatrox, 266: ['TOP', 'JUNGLE', 'MIDDLE'],\n",
       " Ahri, 103: ['TOP', 'MIDDLE', 'DUO_SUPPORT'],\n",
       " Akali, 84: ['TOP', 'MIDDLE'],\n",
       " Alistar, 12: ['DUO_SUPPORT'],\n",
       " Amumu, 32: ['JUNGLE'],\n",
       " Anivia, 34: ['TOP', 'MIDDLE', 'DUO_SUPPORT'],\n",
       " Annie, 1: ['TOP', 'MIDDLE', 'DUO_CARRY', 'DUO_SUPPORT'],\n",
       " Ashe, 22: ['DUO_CARRY', 'DUO_SUPPORT'],\n",
       " AurelionSol, 136: ['MIDDLE'],\n",
       " Azir, 268: ['MIDDLE'],\n",
       " Bard, 432: ['DUO_SUPPORT'],\n",
       " Blitzcrank, 53: ['DUO_SUPPORT'],\n",
       " Brand, 63: ['TOP', 'MIDDLE', 'DUO_CARRY', 'DUO_SUPPORT'],\n",
       " Braum, 201: ['DUO_SUPPORT'],\n",
       " Caitlyn, 51: ['TOP', 'MIDDLE', 'DUO_CARRY'],\n",
       " Camille, 164: ['TOP', 'JUNGLE'],\n",
       " Cassiopeia, 69: ['TOP', 'MIDDLE', 'DUO_CARRY'],\n",
       " Chogath, 31: ['TOP', 'JUNGLE', 'MIDDLE'],\n",
       " Corki, 42: ['TOP', 'MIDDLE', 'DUO_CARRY'],\n",
       " Darius, 122: ['TOP', 'MIDDLE'],\n",
       " Diana, 131: ['TOP', 'JUNGLE', 'MIDDLE'],\n",
       " Draven, 119: ['TOP', 'MIDDLE', 'DUO_CARRY'],\n",
       " DrMundo, 36: ['TOP', 'JUNGLE'],\n",
       " Ekko, 245: ['TOP', 'JUNGLE', 'MIDDLE'],\n",
       " Elise, 60: ['JUNGLE'],\n",
       " Evelynn, 28: ['JUNGLE'],\n",
       " Ezreal, 81: ['TOP', 'JUNGLE', 'MIDDLE', 'DUO_CARRY', 'DUO_SUPPORT'],\n",
       " Fiddlesticks, 9: ['JUNGLE', 'MIDDLE', 'DUO_SUPPORT'],\n",
       " Fiora, 114: ['TOP', 'MIDDLE'],\n",
       " Fizz, 105: ['TOP', 'JUNGLE', 'MIDDLE'],\n",
       " Galio, 3: ['TOP', 'MIDDLE', 'DUO_SUPPORT'],\n",
       " Gangplank, 41: ['TOP', 'MIDDLE'],\n",
       " Garen, 86: ['TOP', 'JUNGLE', 'MIDDLE'],\n",
       " Gnar, 150: ['TOP'],\n",
       " Gragas, 79: ['TOP', 'JUNGLE', 'MIDDLE', 'DUO_SUPPORT'],\n",
       " Graves, 104: ['TOP', 'JUNGLE', 'DUO_CARRY'],\n",
       " Hecarim, 120: ['TOP', 'JUNGLE'],\n",
       " Heimerdinger, 74: ['TOP', 'MIDDLE', 'DUO_CARRY', 'DUO_SUPPORT'],\n",
       " Illaoi, 420: ['TOP'],\n",
       " Irelia, 39: ['TOP', 'MIDDLE', 'DUO_CARRY'],\n",
       " Ivern, 427: ['JUNGLE'],\n",
       " Janna, 40: ['DUO_SUPPORT'],\n",
       " JarvanIV, 59: ['TOP', 'JUNGLE', 'DUO_SUPPORT'],\n",
       " Jax, 24: ['TOP', 'JUNGLE', 'MIDDLE'],\n",
       " Jayce, 126: ['TOP', 'JUNGLE', 'MIDDLE', 'DUO_CARRY'],\n",
       " Jhin, 202: ['MIDDLE', 'DUO_CARRY'],\n",
       " Jinx, 222: ['DUO_CARRY'],\n",
       " Kaisa, 145: ['JUNGLE', 'MIDDLE', 'DUO_CARRY'],\n",
       " Kalista, 429: ['DUO_CARRY'],\n",
       " Karma, 43: ['TOP', 'MIDDLE', 'DUO_SUPPORT'],\n",
       " Karthus, 30: ['TOP', 'JUNGLE', 'MIDDLE', 'DUO_CARRY', 'DUO_SUPPORT'],\n",
       " Kassadin, 38: ['TOP', 'MIDDLE'],\n",
       " Katarina, 55: ['TOP', 'MIDDLE'],\n",
       " Kayle, 10: ['TOP', 'MIDDLE', 'DUO_SUPPORT'],\n",
       " Kayn, 141: ['TOP', 'JUNGLE'],\n",
       " Kennen, 85: ['TOP', 'MIDDLE', 'DUO_CARRY', 'DUO_SUPPORT'],\n",
       " Khazix, 121: ['JUNGLE'],\n",
       " Kindred, 203: ['JUNGLE', 'DUO_CARRY'],\n",
       " Kled, 240: ['TOP', 'JUNGLE', 'MIDDLE'],\n",
       " KogMaw, 96: ['DUO_CARRY'],\n",
       " Leblanc, 7: ['TOP', 'MIDDLE', 'DUO_SUPPORT'],\n",
       " LeeSin, 64: ['TOP', 'JUNGLE', 'MIDDLE', 'DUO_SUPPORT'],\n",
       " Leona, 89: ['DUO_SUPPORT'],\n",
       " Lissandra, 127: ['TOP', 'MIDDLE', 'DUO_SUPPORT'],\n",
       " Lucian, 236: ['TOP', 'MIDDLE', 'DUO_CARRY'],\n",
       " Lulu, 117: ['TOP', 'MIDDLE', 'DUO_SUPPORT'],\n",
       " Lux, 99: ['TOP', 'MIDDLE', 'DUO_CARRY', 'DUO_SUPPORT'],\n",
       " Malphite, 54: ['TOP', 'JUNGLE', 'MIDDLE', 'DUO_SUPPORT'],\n",
       " Malzahar, 90: ['TOP', 'MIDDLE', 'DUO_SUPPORT'],\n",
       " Maokai, 57: ['TOP', 'JUNGLE', 'DUO_SUPPORT'],\n",
       " MasterYi, 11: ['TOP', 'JUNGLE', 'MIDDLE'],\n",
       " MissFortune, 21: ['DUO_CARRY', 'DUO_SUPPORT'],\n",
       " MonkeyKing, 62: ['TOP', 'JUNGLE', 'MIDDLE'],\n",
       " Mordekaiser, 82: ['TOP', 'MIDDLE', 'DUO_CARRY'],\n",
       " Morgana, 25: ['TOP', 'MIDDLE', 'DUO_SUPPORT'],\n",
       " Nami, 267: ['DUO_SUPPORT'],\n",
       " Nasus, 75: ['TOP', 'JUNGLE', 'MIDDLE'],\n",
       " Nautilus, 111: ['TOP', 'JUNGLE', 'DUO_SUPPORT'],\n",
       " Neeko, 518: ['TOP', 'JUNGLE', 'MIDDLE', 'DUO_CARRY', 'DUO_SUPPORT'],\n",
       " Nidalee, 76: ['TOP', 'JUNGLE'],\n",
       " Nocturne, 56: ['TOP', 'JUNGLE', 'MIDDLE'],\n",
       " Nunu, 20: ['JUNGLE'],\n",
       " Olaf, 2: ['TOP', 'JUNGLE'],\n",
       " Orianna, 61: ['TOP', 'MIDDLE', 'DUO_CARRY', 'DUO_SUPPORT'],\n",
       " Ornn, 516: ['TOP', 'DUO_SUPPORT'],\n",
       " Pantheon, 80: ['TOP', 'JUNGLE', 'MIDDLE', 'DUO_SUPPORT'],\n",
       " Poppy, 78: ['TOP', 'JUNGLE', 'MIDDLE', 'DUO_SUPPORT'],\n",
       " Pyke, 555: ['TOP', 'JUNGLE', 'MIDDLE', 'DUO_CARRY', 'DUO_SUPPORT'],\n",
       " Quinn, 133: ['TOP', 'JUNGLE', 'MIDDLE', 'DUO_CARRY'],\n",
       " Rakan, 497: ['DUO_SUPPORT'],\n",
       " Rammus, 33: ['TOP', 'JUNGLE', 'MIDDLE'],\n",
       " RekSai, 421: ['JUNGLE'],\n",
       " Renekton, 58: ['TOP', 'MIDDLE'],\n",
       " Rengar, 107: ['TOP', 'JUNGLE', 'DUO_CARRY', 'DUO_SUPPORT'],\n",
       " Riven, 92: ['TOP', 'JUNGLE', 'MIDDLE'],\n",
       " Rumble, 68: ['TOP', 'JUNGLE', 'MIDDLE'],\n",
       " Ryze, 13: ['TOP', 'MIDDLE'],\n",
       " Sejuani, 113: ['TOP', 'JUNGLE', 'DUO_SUPPORT'],\n",
       " Shaco, 35: ['TOP', 'JUNGLE', 'DUO_SUPPORT'],\n",
       " Shen, 98: ['TOP', 'JUNGLE', 'DUO_SUPPORT'],\n",
       " Shyvana, 102: ['TOP', 'JUNGLE'],\n",
       " Singed, 27: ['TOP'],\n",
       " Sion, 14: ['TOP', 'JUNGLE', 'MIDDLE', 'DUO_SUPPORT'],\n",
       " Sivir, 15: ['MIDDLE', 'DUO_CARRY'],\n",
       " Skarner, 72: ['JUNGLE'],\n",
       " Sona, 37: ['MIDDLE', 'DUO_SUPPORT'],\n",
       " Soraka, 16: ['DUO_SUPPORT'],\n",
       " Swain, 50: ['TOP', 'MIDDLE', 'DUO_CARRY', 'DUO_SUPPORT'],\n",
       " Sylas, 517: ['TOP', 'JUNGLE', 'MIDDLE', 'DUO_CARRY', 'DUO_SUPPORT'],\n",
       " Syndra, 134: ['TOP', 'MIDDLE', 'DUO_SUPPORT'],\n",
       " TahmKench, 223: ['TOP', 'DUO_SUPPORT'],\n",
       " Taliyah, 163: ['JUNGLE', 'MIDDLE', 'DUO_SUPPORT'],\n",
       " Talon, 91: ['TOP', 'MIDDLE'],\n",
       " Taric, 44: ['DUO_SUPPORT'],\n",
       " Teemo, 17: ['TOP', 'JUNGLE', 'MIDDLE', 'DUO_CARRY', 'DUO_SUPPORT'],\n",
       " Thresh, 412: ['MIDDLE', 'DUO_SUPPORT'],\n",
       " Tristana, 18: ['DUO_CARRY'],\n",
       " Trundle, 48: ['TOP', 'JUNGLE', 'DUO_SUPPORT'],\n",
       " Tryndamere, 23: ['TOP', 'JUNGLE', 'MIDDLE'],\n",
       " TwistedFate, 4: ['JUNGLE', 'MIDDLE', 'DUO_CARRY'],\n",
       " Twitch, 29: ['JUNGLE', 'DUO_CARRY'],\n",
       " Udyr, 77: ['TOP', 'JUNGLE'],\n",
       " Urgot, 6: ['TOP', 'MIDDLE'],\n",
       " Varus, 110: ['DUO_CARRY'],\n",
       " Vayne, 67: ['TOP', 'JUNGLE', 'MIDDLE', 'DUO_CARRY'],\n",
       " Veigar, 45: ['TOP', 'MIDDLE', 'DUO_CARRY', 'DUO_SUPPORT'],\n",
       " Velkoz, 161: ['TOP', 'MIDDLE', 'DUO_CARRY', 'DUO_SUPPORT'],\n",
       " Vi, 254: ['TOP', 'JUNGLE'],\n",
       " Viktor, 112: ['TOP', 'MIDDLE', 'DUO_CARRY'],\n",
       " Vladimir, 8: ['TOP', 'MIDDLE', 'DUO_CARRY'],\n",
       " Volibear, 106: ['TOP', 'JUNGLE', 'MIDDLE', 'DUO_SUPPORT'],\n",
       " Warwick, 19: ['TOP', 'JUNGLE'],\n",
       " Xayah, 498: ['DUO_CARRY'],\n",
       " Xerath, 101: ['MIDDLE', 'DUO_CARRY', 'DUO_SUPPORT'],\n",
       " XinZhao, 5: ['TOP', 'JUNGLE'],\n",
       " Yasuo, 157: ['TOP', 'JUNGLE', 'MIDDLE', 'DUO_CARRY'],\n",
       " Yorick, 83: ['TOP', 'MIDDLE'],\n",
       " Zac, 154: ['JUNGLE', 'DUO_SUPPORT'],\n",
       " Zed, 238: ['TOP', 'MIDDLE'],\n",
       " Ziggs, 115: ['MIDDLE', 'DUO_CARRY', 'DUO_SUPPORT'],\n",
       " Zilean, 26: ['TOP', 'MIDDLE', 'DUO_SUPPORT'],\n",
       " Zoe, 142: ['TOP', 'MIDDLE', 'DUO_CARRY', 'DUO_SUPPORT'],\n",
       " Zyra, 143: ['MIDDLE', 'DUO_SUPPORT']]"
      ]
     },
     "execution_count": 91,
     "metadata": {},
     "output_type": "execute_result"
    }
   ],
   "source": [
    "L.getListOfChamps()"
   ]
  },
  {
   "cell_type": "markdown",
   "metadata": {},
   "source": [
    "We want to learn more about the champion Aatrox, specifically his winrates in the top lane:"
   ]
  },
  {
   "cell_type": "code",
   "execution_count": 92,
   "metadata": {},
   "outputs": [
    {
     "name": "stdout",
     "output_type": "stream",
     "text": [
      "{'Akali': 0.8888888888888888}\n",
      "{'Lissandra': 0.21428571428571427}\n"
     ]
    }
   ],
   "source": [
    "Aatrox = L.getListOfChamps()[0]\n",
    "print(Aatrox.getBestMatchup('TOP'))\n",
    "print(Aatrox.getWorstMatchup('TOP'))"
   ]
  },
  {
   "cell_type": "markdown",
   "metadata": {},
   "source": [
    "From this information, if we see Aatrox picked, we could definitely consider picking Anivia, and really shouldn't pick Shyvana. It is important to note that if this code is ran again, these champion names will almost certainly be different. Champion.gg updates their statistics twice daily."
   ]
  },
  {
   "cell_type": "markdown",
   "metadata": {},
   "source": [
    "# Class: ChampionSelect (The Game)\n",
    "As of right now, the functions which would reside in this class are global methods. I was having difficulties getting Jupyter to assemble classes exactly how I expected. So to remove this complication, I left the following details out of my final deliverable.\n",
    "* Holds the code to calculate ending win chance of a given composition\n",
    "* Holds the code to `play a Game` given `n` Selectors and a ruleset.\n",
    " * `Ruleset`:  will only be `BLIND` for now. But could also be `DRAFT_SOLO, DRAFT_RANKED, DRAFT_LCS, ARAM, NB, TT`\n",
    " * `Selector=1`: Creates a random selector to play against.\n",
    " * `Selector=2`: Plays the two against each other and returns the comps and win chance for each comp.\n",
    "* Holds the code to reinforce a Selector: the borrowed Reinforcement Learning algorithm from class.\n",
    "* `usage`: `ChampionSelect.play(Selector1, Select2, 'BLIND', numGames)`"
   ]
  },
  {
   "cell_type": "markdown",
   "metadata": {},
   "source": [
    "### Get valid moves (bans and picks)"
   ]
  },
  {
   "cell_type": "markdown",
   "metadata": {},
   "source": [
    "When asking what valid moves we have, we need to take a few things into account:\n",
    " * What are the current compositions? In Champ Select, there are two \"sides\" of the board. So we need to know the ally side and enemy side rather than simply the board and pieces on it. It is mostly just more clear to split them up.\n",
    " * What are the banned champions? Need to remove these from the dict to be returned.\n",
    " * What does a composition look like? It's going to look something like this: `{'Aatrox': 'TOP', 'Zoe': 'MIDDLE'}` for a state where one comp already has picked twice. "
   ]
  },
  {
   "cell_type": "code",
   "execution_count": 93,
   "metadata": {},
   "outputs": [],
   "source": [
    "def getValidChampMoves(league, comp1, comp2, bans=[]):\n",
    "    champList = L.getListOfChamps()\n",
    "    \n",
    "    #Get the remaining available roles:\n",
    "    allRoles = ['TOP', 'JUNGLE', 'MIDDLE', 'DUO_CARRY', 'DUO_SUPPORT']\n",
    "    takenRoles = list(comp1.keys())\n",
    "    availableRoles = [x for x in allRoles if x not in takenRoles]\n",
    "    \n",
    "    #Get the remaining available champions:\n",
    "    takenChamps = list(comp1.values()) + list(comp2.values()) + bans\n",
    "    availableChamps = [x for x in champList if x not in takenChamps]\n",
    "    return [{role: champ} for champ in availableChamps for role in champ.roles if role in availableRoles]"
   ]
  },
  {
   "cell_type": "code",
   "execution_count": 94,
   "metadata": {},
   "outputs": [],
   "source": [
    "Aatrox = Champion(getChampId('Aatrox', dd), championgg, dd)\n",
    "Ahri = Champion(getChampId('Ahri', dd), championgg, dd)\n",
    "Zoe = Champion(getChampId('Zoe', dd), championgg, dd)\n",
    "Zyra = Champion(getChampId('Zyra', dd), championgg, dd)"
   ]
  },
  {
   "cell_type": "code",
   "execution_count": 95,
   "metadata": {},
   "outputs": [],
   "source": [
    "comp1 = {'TOP': Aatrox, 'MIDDLE': Zoe}\n",
    "comp2 = {'MIDDLE': Ahri}\n",
    "bans = [Zyra]"
   ]
  },
  {
   "cell_type": "code",
   "execution_count": 96,
   "metadata": {},
   "outputs": [
    {
     "data": {
      "text/plain": [
       "[{'DUO_SUPPORT': Alistar, 12: ['DUO_SUPPORT']},\n",
       " {'JUNGLE': Amumu, 32: ['JUNGLE']}]"
      ]
     },
     "execution_count": 96,
     "metadata": {},
     "output_type": "execute_result"
    }
   ],
   "source": [
    "validChampMoves = getValidChampMoves(L, comp1, comp2, bans)\n",
    "validChampMoves[:2]"
   ]
  },
  {
   "cell_type": "markdown",
   "metadata": {},
   "source": [
    "As you can see, we can still choose Akali even though TOP and MIDDLE have both been taken. It shows that we can put Akali in the JUNGLE or DUO_CARRY positions. Also note that Aatrox is no longer the first in the list of champs, because we have chosen him, and Ahri is also gone because the enemy chose her!"
   ]
  },
  {
   "cell_type": "code",
   "execution_count": 97,
   "metadata": {},
   "outputs": [
    {
     "data": {
      "text/plain": [
       "[{'TOP': Aatrox, 266: ['TOP', 'JUNGLE', 'MIDDLE']},\n",
       " {'JUNGLE': Aatrox, 266: ['TOP', 'JUNGLE', 'MIDDLE']},\n",
       " {'MIDDLE': Aatrox, 266: ['TOP', 'JUNGLE', 'MIDDLE']},\n",
       " {'TOP': Ahri, 103: ['TOP', 'MIDDLE', 'DUO_SUPPORT']},\n",
       " {'MIDDLE': Ahri, 103: ['TOP', 'MIDDLE', 'DUO_SUPPORT']}]"
      ]
     },
     "execution_count": 97,
     "metadata": {},
     "output_type": "execute_result"
    }
   ],
   "source": [
    "validChampMoves = getValidChampMoves(L, {}, {})\n",
    "validChampMoves[:5]"
   ]
  },
  {
   "cell_type": "markdown",
   "metadata": {},
   "source": [
    "At the start of a game, when there are no bans or champs picked, we can still choose Aatrox in any position. Working as intended!"
   ]
  },
  {
   "cell_type": "markdown",
   "metadata": {},
   "source": [
    "Now we need a way to ban champs that have not already been banned. Note that this function is only called on a per-team basis in some game modes. So both team could, theoretically, ban the exact same 5 champions. Also, \"None\" is a valid ban."
   ]
  },
  {
   "cell_type": "code",
   "execution_count": 98,
   "metadata": {},
   "outputs": [],
   "source": [
    "def getValidBanMoves(league, bans=[]):\n",
    "    champList = L.getListOfChamps()\n",
    "        \n",
    "    #Get the remaining available champions:\n",
    "    takenChamps = bans\n",
    "    availableChamps = [x for x in champList if x.name not in takenChamps]\n",
    "    return [champ for champ in availableChamps]\n",
    "    #return [champ for champ in availableChamps for role in champ.roles if role in availableRoles] + ['None']"
   ]
  },
  {
   "cell_type": "code",
   "execution_count": 99,
   "metadata": {},
   "outputs": [
    {
     "data": {
      "text/plain": [
       "[Ahri, 103: ['TOP', 'MIDDLE', 'DUO_SUPPORT'],\n",
       " Akali, 84: ['TOP', 'MIDDLE'],\n",
       " Alistar, 12: ['DUO_SUPPORT'],\n",
       " Amumu, 32: ['JUNGLE'],\n",
       " Anivia, 34: ['TOP', 'MIDDLE', 'DUO_SUPPORT'],\n",
       " Annie, 1: ['TOP', 'MIDDLE', 'DUO_CARRY', 'DUO_SUPPORT'],\n",
       " Ashe, 22: ['DUO_CARRY', 'DUO_SUPPORT'],\n",
       " AurelionSol, 136: ['MIDDLE'],\n",
       " Azir, 268: ['MIDDLE'],\n",
       " Bard, 432: ['DUO_SUPPORT'],\n",
       " Blitzcrank, 53: ['DUO_SUPPORT'],\n",
       " Brand, 63: ['TOP', 'MIDDLE', 'DUO_CARRY', 'DUO_SUPPORT'],\n",
       " Braum, 201: ['DUO_SUPPORT'],\n",
       " Caitlyn, 51: ['TOP', 'MIDDLE', 'DUO_CARRY'],\n",
       " Camille, 164: ['TOP', 'JUNGLE'],\n",
       " Cassiopeia, 69: ['TOP', 'MIDDLE', 'DUO_CARRY'],\n",
       " Chogath, 31: ['TOP', 'JUNGLE', 'MIDDLE'],\n",
       " Corki, 42: ['TOP', 'MIDDLE', 'DUO_CARRY'],\n",
       " Darius, 122: ['TOP', 'MIDDLE'],\n",
       " Diana, 131: ['TOP', 'JUNGLE', 'MIDDLE'],\n",
       " Draven, 119: ['TOP', 'MIDDLE', 'DUO_CARRY'],\n",
       " DrMundo, 36: ['TOP', 'JUNGLE'],\n",
       " Ekko, 245: ['TOP', 'JUNGLE', 'MIDDLE'],\n",
       " Elise, 60: ['JUNGLE'],\n",
       " Evelynn, 28: ['JUNGLE'],\n",
       " Ezreal, 81: ['TOP', 'JUNGLE', 'MIDDLE', 'DUO_CARRY', 'DUO_SUPPORT'],\n",
       " Fiddlesticks, 9: ['JUNGLE', 'MIDDLE', 'DUO_SUPPORT'],\n",
       " Fiora, 114: ['TOP', 'MIDDLE'],\n",
       " Fizz, 105: ['TOP', 'JUNGLE', 'MIDDLE'],\n",
       " Galio, 3: ['TOP', 'MIDDLE', 'DUO_SUPPORT'],\n",
       " Gangplank, 41: ['TOP', 'MIDDLE'],\n",
       " Garen, 86: ['TOP', 'JUNGLE', 'MIDDLE'],\n",
       " Gnar, 150: ['TOP'],\n",
       " Gragas, 79: ['TOP', 'JUNGLE', 'MIDDLE', 'DUO_SUPPORT'],\n",
       " Graves, 104: ['TOP', 'JUNGLE', 'DUO_CARRY'],\n",
       " Hecarim, 120: ['TOP', 'JUNGLE'],\n",
       " Heimerdinger, 74: ['TOP', 'MIDDLE', 'DUO_CARRY', 'DUO_SUPPORT'],\n",
       " Illaoi, 420: ['TOP'],\n",
       " Irelia, 39: ['TOP', 'MIDDLE', 'DUO_CARRY'],\n",
       " Ivern, 427: ['JUNGLE'],\n",
       " Janna, 40: ['DUO_SUPPORT'],\n",
       " JarvanIV, 59: ['TOP', 'JUNGLE', 'DUO_SUPPORT'],\n",
       " Jax, 24: ['TOP', 'JUNGLE', 'MIDDLE'],\n",
       " Jayce, 126: ['TOP', 'JUNGLE', 'MIDDLE', 'DUO_CARRY'],\n",
       " Jhin, 202: ['MIDDLE', 'DUO_CARRY'],\n",
       " Jinx, 222: ['DUO_CARRY'],\n",
       " Kaisa, 145: ['JUNGLE', 'MIDDLE', 'DUO_CARRY'],\n",
       " Kalista, 429: ['DUO_CARRY'],\n",
       " Karma, 43: ['TOP', 'MIDDLE', 'DUO_SUPPORT'],\n",
       " Karthus, 30: ['TOP', 'JUNGLE', 'MIDDLE', 'DUO_CARRY', 'DUO_SUPPORT'],\n",
       " Kassadin, 38: ['TOP', 'MIDDLE'],\n",
       " Katarina, 55: ['TOP', 'MIDDLE'],\n",
       " Kayle, 10: ['TOP', 'MIDDLE', 'DUO_SUPPORT'],\n",
       " Kayn, 141: ['TOP', 'JUNGLE'],\n",
       " Kennen, 85: ['TOP', 'MIDDLE', 'DUO_CARRY', 'DUO_SUPPORT'],\n",
       " Khazix, 121: ['JUNGLE'],\n",
       " Kindred, 203: ['JUNGLE', 'DUO_CARRY'],\n",
       " Kled, 240: ['TOP', 'JUNGLE', 'MIDDLE'],\n",
       " KogMaw, 96: ['DUO_CARRY'],\n",
       " Leblanc, 7: ['TOP', 'MIDDLE', 'DUO_SUPPORT'],\n",
       " LeeSin, 64: ['TOP', 'JUNGLE', 'MIDDLE', 'DUO_SUPPORT'],\n",
       " Leona, 89: ['DUO_SUPPORT'],\n",
       " Lissandra, 127: ['TOP', 'MIDDLE', 'DUO_SUPPORT'],\n",
       " Lucian, 236: ['TOP', 'MIDDLE', 'DUO_CARRY'],\n",
       " Lulu, 117: ['TOP', 'MIDDLE', 'DUO_SUPPORT'],\n",
       " Lux, 99: ['TOP', 'MIDDLE', 'DUO_CARRY', 'DUO_SUPPORT'],\n",
       " Malphite, 54: ['TOP', 'JUNGLE', 'MIDDLE', 'DUO_SUPPORT'],\n",
       " Malzahar, 90: ['TOP', 'MIDDLE', 'DUO_SUPPORT'],\n",
       " Maokai, 57: ['TOP', 'JUNGLE', 'DUO_SUPPORT'],\n",
       " MasterYi, 11: ['TOP', 'JUNGLE', 'MIDDLE'],\n",
       " MissFortune, 21: ['DUO_CARRY', 'DUO_SUPPORT'],\n",
       " MonkeyKing, 62: ['TOP', 'JUNGLE', 'MIDDLE'],\n",
       " Mordekaiser, 82: ['TOP', 'MIDDLE', 'DUO_CARRY'],\n",
       " Morgana, 25: ['TOP', 'MIDDLE', 'DUO_SUPPORT'],\n",
       " Nami, 267: ['DUO_SUPPORT'],\n",
       " Nasus, 75: ['TOP', 'JUNGLE', 'MIDDLE'],\n",
       " Nautilus, 111: ['TOP', 'JUNGLE', 'DUO_SUPPORT'],\n",
       " Neeko, 518: ['TOP', 'JUNGLE', 'MIDDLE', 'DUO_CARRY', 'DUO_SUPPORT'],\n",
       " Nidalee, 76: ['TOP', 'JUNGLE'],\n",
       " Nocturne, 56: ['TOP', 'JUNGLE', 'MIDDLE'],\n",
       " Nunu, 20: ['JUNGLE'],\n",
       " Olaf, 2: ['TOP', 'JUNGLE'],\n",
       " Orianna, 61: ['TOP', 'MIDDLE', 'DUO_CARRY', 'DUO_SUPPORT'],\n",
       " Ornn, 516: ['TOP', 'DUO_SUPPORT'],\n",
       " Pantheon, 80: ['TOP', 'JUNGLE', 'MIDDLE', 'DUO_SUPPORT'],\n",
       " Poppy, 78: ['TOP', 'JUNGLE', 'MIDDLE', 'DUO_SUPPORT'],\n",
       " Pyke, 555: ['TOP', 'JUNGLE', 'MIDDLE', 'DUO_CARRY', 'DUO_SUPPORT'],\n",
       " Quinn, 133: ['TOP', 'JUNGLE', 'MIDDLE', 'DUO_CARRY'],\n",
       " Rakan, 497: ['DUO_SUPPORT'],\n",
       " Rammus, 33: ['TOP', 'JUNGLE', 'MIDDLE'],\n",
       " RekSai, 421: ['JUNGLE'],\n",
       " Renekton, 58: ['TOP', 'MIDDLE'],\n",
       " Rengar, 107: ['TOP', 'JUNGLE', 'DUO_CARRY', 'DUO_SUPPORT'],\n",
       " Riven, 92: ['TOP', 'JUNGLE', 'MIDDLE'],\n",
       " Rumble, 68: ['TOP', 'JUNGLE', 'MIDDLE'],\n",
       " Ryze, 13: ['TOP', 'MIDDLE'],\n",
       " Sejuani, 113: ['TOP', 'JUNGLE', 'DUO_SUPPORT'],\n",
       " Shaco, 35: ['TOP', 'JUNGLE', 'DUO_SUPPORT'],\n",
       " Shen, 98: ['TOP', 'JUNGLE', 'DUO_SUPPORT'],\n",
       " Shyvana, 102: ['TOP', 'JUNGLE'],\n",
       " Singed, 27: ['TOP'],\n",
       " Sion, 14: ['TOP', 'JUNGLE', 'MIDDLE', 'DUO_SUPPORT'],\n",
       " Sivir, 15: ['MIDDLE', 'DUO_CARRY'],\n",
       " Skarner, 72: ['JUNGLE'],\n",
       " Sona, 37: ['MIDDLE', 'DUO_SUPPORT'],\n",
       " Soraka, 16: ['DUO_SUPPORT'],\n",
       " Swain, 50: ['TOP', 'MIDDLE', 'DUO_CARRY', 'DUO_SUPPORT'],\n",
       " Sylas, 517: ['TOP', 'JUNGLE', 'MIDDLE', 'DUO_CARRY', 'DUO_SUPPORT'],\n",
       " Syndra, 134: ['TOP', 'MIDDLE', 'DUO_SUPPORT'],\n",
       " TahmKench, 223: ['TOP', 'DUO_SUPPORT'],\n",
       " Taliyah, 163: ['JUNGLE', 'MIDDLE', 'DUO_SUPPORT'],\n",
       " Talon, 91: ['TOP', 'MIDDLE'],\n",
       " Taric, 44: ['DUO_SUPPORT'],\n",
       " Teemo, 17: ['TOP', 'JUNGLE', 'MIDDLE', 'DUO_CARRY', 'DUO_SUPPORT'],\n",
       " Thresh, 412: ['MIDDLE', 'DUO_SUPPORT'],\n",
       " Tristana, 18: ['DUO_CARRY'],\n",
       " Trundle, 48: ['TOP', 'JUNGLE', 'DUO_SUPPORT'],\n",
       " Tryndamere, 23: ['TOP', 'JUNGLE', 'MIDDLE'],\n",
       " TwistedFate, 4: ['JUNGLE', 'MIDDLE', 'DUO_CARRY'],\n",
       " Twitch, 29: ['JUNGLE', 'DUO_CARRY'],\n",
       " Udyr, 77: ['TOP', 'JUNGLE'],\n",
       " Urgot, 6: ['TOP', 'MIDDLE'],\n",
       " Varus, 110: ['DUO_CARRY'],\n",
       " Vayne, 67: ['TOP', 'JUNGLE', 'MIDDLE', 'DUO_CARRY'],\n",
       " Veigar, 45: ['TOP', 'MIDDLE', 'DUO_CARRY', 'DUO_SUPPORT'],\n",
       " Velkoz, 161: ['TOP', 'MIDDLE', 'DUO_CARRY', 'DUO_SUPPORT'],\n",
       " Vi, 254: ['TOP', 'JUNGLE'],\n",
       " Viktor, 112: ['TOP', 'MIDDLE', 'DUO_CARRY'],\n",
       " Vladimir, 8: ['TOP', 'MIDDLE', 'DUO_CARRY'],\n",
       " Volibear, 106: ['TOP', 'JUNGLE', 'MIDDLE', 'DUO_SUPPORT'],\n",
       " Warwick, 19: ['TOP', 'JUNGLE'],\n",
       " Xayah, 498: ['DUO_CARRY'],\n",
       " Xerath, 101: ['MIDDLE', 'DUO_CARRY', 'DUO_SUPPORT'],\n",
       " XinZhao, 5: ['TOP', 'JUNGLE'],\n",
       " Yasuo, 157: ['TOP', 'JUNGLE', 'MIDDLE', 'DUO_CARRY'],\n",
       " Yorick, 83: ['TOP', 'MIDDLE'],\n",
       " Zac, 154: ['JUNGLE', 'DUO_SUPPORT'],\n",
       " Zed, 238: ['TOP', 'MIDDLE'],\n",
       " Ziggs, 115: ['MIDDLE', 'DUO_CARRY', 'DUO_SUPPORT'],\n",
       " Zilean, 26: ['TOP', 'MIDDLE', 'DUO_SUPPORT'],\n",
       " Zoe, 142: ['TOP', 'MIDDLE', 'DUO_CARRY', 'DUO_SUPPORT'],\n",
       " Zyra, 143: ['MIDDLE', 'DUO_SUPPORT']]"
      ]
     },
     "execution_count": 99,
     "metadata": {},
     "output_type": "execute_result"
    }
   ],
   "source": [
    "getValidBanMoves(L, ['Aatrox'])"
   ]
  },
  {
   "cell_type": "markdown",
   "metadata": {},
   "source": [
    "### Make move:"
   ]
  },
  {
   "cell_type": "code",
   "execution_count": 100,
   "metadata": {},
   "outputs": [],
   "source": [
    "#A move looks like: {'JUNGLE', Akali}\n",
    "def makeChampMove(league, move, comp1, comp2, bans=[]):\n",
    "    #Make sure the move is valid:\n",
    "    if move not in getValidChampMoves(league, comp1, comp2, bans):\n",
    "        #If it is an invalid move, return the ally composition unchanged.\n",
    "        return comp1\n",
    "    \n",
    "    #Set up a new copy of the comp\n",
    "    newComp = copy.deepcopy(comp1)\n",
    "    \n",
    "    #Make the move: Add the move to the comp\n",
    "    newComp[list(move.keys())[0]] = list(move.values())[0]\n",
    "    \n",
    "    #Return the new comp!\n",
    "    return newComp"
   ]
  },
  {
   "cell_type": "code",
   "execution_count": 101,
   "metadata": {
    "scrolled": true
   },
   "outputs": [],
   "source": [
    "Akali = Champion(getChampId('Akali', dd), championgg, dd)\n",
    "comp1 = {'TOP': Aatrox, 'MIDDLE': Zoe}\n",
    "comp2 = {'MIDDLE': Ahri}\n",
    "bans = [Zyra]"
   ]
  },
  {
   "cell_type": "code",
   "execution_count": 102,
   "metadata": {},
   "outputs": [],
   "source": [
    "move = {'JUNGLE': Akali}\n",
    "newComp1 = makeChampMove(L, move, comp1, comp2, bans)"
   ]
  },
  {
   "cell_type": "code",
   "execution_count": 103,
   "metadata": {},
   "outputs": [
    {
     "data": {
      "text/plain": [
       "{'TOP': Aatrox, 266: ['TOP', 'JUNGLE', 'MIDDLE'],\n",
       " 'MIDDLE': Zoe, 142: ['TOP', 'MIDDLE', 'DUO_CARRY', 'DUO_SUPPORT']}"
      ]
     },
     "execution_count": 103,
     "metadata": {},
     "output_type": "execute_result"
    }
   ],
   "source": [
    "comp1"
   ]
  },
  {
   "cell_type": "markdown",
   "metadata": {},
   "source": [
    "The champion, Akali is added to the JUNGLE role."
   ]
  },
  {
   "cell_type": "code",
   "execution_count": 104,
   "metadata": {},
   "outputs": [
    {
     "data": {
      "text/plain": [
       "{'TOP': Aatrox, 266: ['TOP', 'JUNGLE', 'MIDDLE'],\n",
       " 'MIDDLE': Zoe, 142: ['TOP', 'MIDDLE', 'DUO_CARRY', 'DUO_SUPPORT']}"
      ]
     },
     "execution_count": 104,
     "metadata": {},
     "output_type": "execute_result"
    }
   ],
   "source": [
    "newComp1"
   ]
  },
  {
   "cell_type": "code",
   "execution_count": 105,
   "metadata": {},
   "outputs": [],
   "source": [
    "comp1 = {'TOP': Aatrox, 'MIDDLE': Zoe}\n",
    "comp2 = {'MIDDLE': Ahri}\n",
    "bans = [Zyra]\n",
    "move = {'MIDDLE': Akali}\n",
    "newComp1 = makeChampMove(L, move, comp1, comp2, bans)"
   ]
  },
  {
   "cell_type": "code",
   "execution_count": 106,
   "metadata": {},
   "outputs": [
    {
     "data": {
      "text/plain": [
       "{'TOP': Aatrox, 266: ['TOP', 'JUNGLE', 'MIDDLE'],\n",
       " 'MIDDLE': Zoe, 142: ['TOP', 'MIDDLE', 'DUO_CARRY', 'DUO_SUPPORT']}"
      ]
     },
     "execution_count": 106,
     "metadata": {},
     "output_type": "execute_result"
    }
   ],
   "source": [
    "comp1"
   ]
  },
  {
   "cell_type": "markdown",
   "metadata": {},
   "source": [
    "The champion Akali is NOT added to middle, as middle is already taken by Zoe."
   ]
  },
  {
   "cell_type": "code",
   "execution_count": 107,
   "metadata": {},
   "outputs": [
    {
     "data": {
      "text/plain": [
       "{'TOP': Aatrox, 266: ['TOP', 'JUNGLE', 'MIDDLE'],\n",
       " 'MIDDLE': Zoe, 142: ['TOP', 'MIDDLE', 'DUO_CARRY', 'DUO_SUPPORT']}"
      ]
     },
     "execution_count": 107,
     "metadata": {},
     "output_type": "execute_result"
    }
   ],
   "source": [
    "newComp1"
   ]
  },
  {
   "cell_type": "markdown",
   "metadata": {},
   "source": [
    "### Winner"
   ]
  },
  {
   "cell_type": "markdown",
   "metadata": {},
   "source": [
    "Before we can calculate the winner, we need to come up with an equation for win chance. I think it is in my best interest to make this overly simple: I will add up the win rates for each champion in their current matchup and divide by 5. If the matchup does not exist, I will add the average winrate for the role in place of the matchup winrate. If I improve on this program later, I will add in synergy and adcsupport for roles, as these will impact the choices made. For example, in the 2018 World's championship, picking Lucian when your team had Braum increased a team's win rate, but decreased it without Braum (either stolen, banned, or never picked)."
   ]
  },
  {
   "cell_type": "code",
   "execution_count": 108,
   "metadata": {},
   "outputs": [],
   "source": [
    "def calcWinChance(league, comp1, comp2):\n",
    "    #Gather comp1,2 info into separate structures\n",
    "    roles = list(comp1.keys())\n",
    "    champs = list(comp1.values())\n",
    "    badRoles = list(comp2.keys())\n",
    "    badChamps = list(comp2.values())\n",
    "\n",
    "    winrate = 0\n",
    "    for i, champ in enumerate(champs):\n",
    "        matchups = champ.matchups[roles[i]]\n",
    "        #print(\"Checking: \" + champ.name + \" \" + roles[i])\n",
    "        #print(\"Looking for: \" + badChamps[i].name + \" \" + badRoles[i])\n",
    "        found = False\n",
    "        for matchup in matchups:\n",
    "            #print(list(matchup.keys())[0])\n",
    "            if list(matchup.keys())[0] == badChamps[i].name:\n",
    "                #print(\"match!\")\n",
    "                #print(matchup)\n",
    "                found = True\n",
    "                winrate += list(matchup.values())[0]\n",
    "                break\n",
    "        #No data on the matchup\n",
    "        if not found:\n",
    "            #print(champ)\n",
    "            #print(matchups)\n",
    "            winrate += getWinrate(champ.matchups, roles[i])\n",
    "    return winrate/5"
   ]
  },
  {
   "cell_type": "code",
   "execution_count": 114,
   "metadata": {},
   "outputs": [],
   "source": [
    "#Comp 1\n",
    "Aatrox = Champion(getChampId('Aatrox', dd), championgg, dd) #Top\n",
    "Sylas = Champion(getChampId('Sylas', dd), championgg, dd) #Jungle\n",
    "Ahri = Champion(getChampId('Ahri', dd), championgg, dd) #Middle\n",
    "Ashe = Champion(getChampId('Ashe', dd), championgg, dd) #Carry\n",
    "Annie = Champion(getChampId('Annie', dd), championgg, dd) #Support\n",
    "\n",
    "#Comp 2\n",
    "Urgot = Champion(getChampId('Urgot', dd), championgg, dd) #Top\n",
    "Rengar = Champion(getChampId('Rengar', dd), championgg, dd) #Jungle\n",
    "Zoe = Champion(getChampId('Zoe', dd), championgg, dd) #Middle\n",
    "Ziggs = Champion(getChampId('Ziggs', dd), championgg, dd) #Carry\n",
    "Velkoz = Champion(getChampId('Velkoz', dd), championgg, dd) #Support"
   ]
  },
  {
   "cell_type": "code",
   "execution_count": 115,
   "metadata": {},
   "outputs": [],
   "source": [
    "comp1 = {'TOP': Aatrox, 'JUNGLE': Sylas, 'MIDDLE': Ahri, 'DUO_CARRY': Ashe, 'DUO_SUPPORT': Annie}\n",
    "comp2 = {'TOP': Urgot, 'JUNGLE': Rengar, 'MIDDLE': Zoe, 'DUO_CARRY': Ziggs, 'DUO_SUPPORT': Velkoz}"
   ]
  },
  {
   "cell_type": "code",
   "execution_count": 116,
   "metadata": {
    "scrolled": false
   },
   "outputs": [
    {
     "data": {
      "text/plain": [
       "0.49481689020270536"
      ]
     },
     "execution_count": 116,
     "metadata": {},
     "output_type": "execute_result"
    }
   ],
   "source": [
    "calcWinChance(L, comp1, comp2)"
   ]
  },
  {
   "cell_type": "markdown",
   "metadata": {},
   "source": [
    "The way I will check if there is a winner is by calculating an average of the winrates of the champions in the roles they've been assigned for both comps, then comparing them. If the game is over, and blue wins, return True, True. If game is over and red wins, return True, False. Else, return False, False."
   ]
  },
  {
   "cell_type": "code",
   "execution_count": 117,
   "metadata": {},
   "outputs": [],
   "source": [
    "def winner(league, state):\n",
    "    #Game is not finished yet\n",
    "    if len(state['blue']) != 5 or len(state['red']) != 5:\n",
    "        return False, False\n",
    "    \n",
    "    #Return True because game is over, then return whether blue team won or not\n",
    "    return True, calcWinChance(league, state['blue'], state['red']) >= calcWinChance(league, state['red'], state['blue'])"
   ]
  },
  {
   "cell_type": "code",
   "execution_count": 119,
   "metadata": {},
   "outputs": [
    {
     "data": {
      "text/plain": [
       "False"
      ]
     },
     "execution_count": 119,
     "metadata": {},
     "output_type": "execute_result"
    }
   ],
   "source": [
    "comp1 = {'TOP': Aatrox, 'JUNGLE': Sylas, 'MIDDLE': Ahri, 'DUO_CARRY': Ashe, 'DUO_SUPPORT': Annie}\n",
    "comp2 = {'TOP': Urgot, 'JUNGLE': Rengar, 'MIDDLE': Zoe, 'DUO_CARRY': Ziggs, 'DUO_SUPPORT': Velkoz}\n",
    "state = {'blue': comp1, 'red': comp2}\n",
    "winner(L, state)[1]"
   ]
  },
  {
   "cell_type": "code",
   "execution_count": 120,
   "metadata": {},
   "outputs": [
    {
     "data": {
      "text/plain": [
       "'0.49481689020270536 vs 0.5183149613043628'"
      ]
     },
     "execution_count": 120,
     "metadata": {},
     "output_type": "execute_result"
    }
   ],
   "source": [
    "comp1Win = calcWinChance(L, comp1, comp2)\n",
    "comp2Win = calcWinChance(L, comp2, comp1)\n",
    "str(comp1Win) + \" vs \" + str(comp2Win)"
   ]
  },
  {
   "cell_type": "markdown",
   "metadata": {},
   "source": [
    "winner should return true, as comp1 has better chances."
   ]
  },
  {
   "cell_type": "code",
   "execution_count": 121,
   "metadata": {},
   "outputs": [
    {
     "data": {
      "text/plain": [
       "(True, False)"
      ]
     },
     "execution_count": 121,
     "metadata": {},
     "output_type": "execute_result"
    }
   ],
   "source": [
    "winner(L, state)"
   ]
  },
  {
   "cell_type": "markdown",
   "metadata": {},
   "source": [
    "### Print state"
   ]
  },
  {
   "cell_type": "markdown",
   "metadata": {},
   "source": [
    "This method is going to give us a way to see the champs in the comp. My idea was to make it print something very pretty with the icons for each champ with their names and some stats, but time only permitted a basic text print function."
   ]
  },
  {
   "cell_type": "code",
   "execution_count": 122,
   "metadata": {},
   "outputs": [],
   "source": [
    "def printState(comp1, comp2, bans):\n",
    "    #Print ban board\n",
    "    banList = []\n",
    "    for ban in bans:\n",
    "        banList.append(ban.name)\n",
    "    print(\"Bans: \" + str(banList))\n",
    "    \n",
    "    #Print champ board\n",
    "    roles1 = list(comp1.keys())\n",
    "    champs1 = list(comp1.values())\n",
    "    roles2 = list(comp2.keys())\n",
    "    champs2 = list(comp2.values())\n",
    "    print(\"----------------------\")\n",
    "    if len(roles1) == 5 and len(roles2) == 5:\n",
    "        for i in range(5):\n",
    "            print(roles1[i])\n",
    "            print(champs1[i].name + \" vs \" + champs2[i].name)\n",
    "            print()\n",
    "    state = {'blue': comp1, 'red': comp2}\n",
    "    if winner(L, state):\n",
    "        print(\"Left team has \" + \"{0:.2f}\".format(calcWinChance(L, comp1, comp2)) + \" chance of a win.\")\n",
    "    else:\n",
    "        print(\"Right team has \" + \"{0:.2f}\".format(calcWinChance(L, comp2, comp1)) + \" chance of a win.\")\n",
    "    print(\"----------------------\")"
   ]
  },
  {
   "cell_type": "code",
   "execution_count": 123,
   "metadata": {},
   "outputs": [
    {
     "data": {
      "text/plain": [
       "[Zyra, 143: ['MIDDLE', 'DUO_SUPPORT']]"
      ]
     },
     "execution_count": 123,
     "metadata": {},
     "output_type": "execute_result"
    }
   ],
   "source": [
    "bans"
   ]
  },
  {
   "cell_type": "code",
   "execution_count": 124,
   "metadata": {},
   "outputs": [
    {
     "name": "stdout",
     "output_type": "stream",
     "text": [
      "Bans: ['Zyra']\n",
      "----------------------\n",
      "TOP\n",
      "Aatrox vs Urgot\n",
      "\n",
      "JUNGLE\n",
      "Sylas vs Rengar\n",
      "\n",
      "MIDDLE\n",
      "Ahri vs Zoe\n",
      "\n",
      "DUO_CARRY\n",
      "Ashe vs Ziggs\n",
      "\n",
      "DUO_SUPPORT\n",
      "Annie vs Velkoz\n",
      "\n",
      "Left team has 0.49 chance of a win.\n",
      "----------------------\n"
     ]
    }
   ],
   "source": [
    "printState(comp1, comp2, bans)"
   ]
  },
  {
   "cell_type": "markdown",
   "metadata": {},
   "source": [
    "### stateMoveTuple"
   ]
  },
  {
   "cell_type": "code",
   "execution_count": 125,
   "metadata": {},
   "outputs": [],
   "source": [
    "def stateMoveTuple(state, move):\n",
    "    blue = state['blue']\n",
    "    blueRoles = list(blue.keys())\n",
    "    blueChampions = list(blue.values())\n",
    "    #print(\"bluechamps: \" + str(blueChampions))\n",
    "    blueChampions = [champ.name for champ in blueChampions]\n",
    "    \n",
    "    red = state['red']\n",
    "    redRoles = list(red.keys())\n",
    "    redChampions = list(red.values())\n",
    "    redChampions = [champ.name for champ in redChampions]\n",
    "    \n",
    "    blueTuple = tuple(blueRoles), tuple(blueChampions)\n",
    "    redTuple = tuple(redRoles), tuple(redChampions)\n",
    "    return blueTuple, redTuple"
   ]
  },
  {
   "cell_type": "code",
   "execution_count": 126,
   "metadata": {},
   "outputs": [
    {
     "data": {
      "text/plain": [
       "((('TOP', 'JUNGLE', 'MIDDLE', 'DUO_CARRY', 'DUO_SUPPORT'),\n",
       "  ('Aatrox', 'Alistar', 'Ahri', 'Anivia', 'Annie')),\n",
       " (('TOP', 'JUNGLE', 'MIDDLE', 'DUO_CARRY', 'DUO_SUPPORT'),\n",
       "  ('Zyra', 'Zed', 'Zoe', 'Ziggs', 'Kaisa')))"
      ]
     },
     "execution_count": 126,
     "metadata": {},
     "output_type": "execute_result"
    }
   ],
   "source": [
    "comp1 = {'TOP': Aatrox, 'JUNGLE': Alistar, 'MIDDLE': Ahri, 'DUO_CARRY': Anivia, 'DUO_SUPPORT': Annie}\n",
    "comp2 = {'TOP': Zyra, 'JUNGLE': Zed, 'MIDDLE': Zoe, 'DUO_CARRY': Ziggs, 'DUO_SUPPORT': Zilean}\n",
    "state = {'blue': comp1, 'red': comp2}\n",
    "stateMoveTuple(state, move)"
   ]
  },
  {
   "cell_type": "markdown",
   "metadata": {},
   "source": [
    "## Reinforcement Learning Algorithm"
   ]
  },
  {
   "cell_type": "markdown",
   "metadata": {},
   "source": [
    "Borrowed from class, of course, then modified to fit my implementation of my move-related code."
   ]
  },
  {
   "cell_type": "markdown",
   "metadata": {},
   "source": [
    "   - `trainQ(nRepetitions, learningRate, epsilonDecayFactor, validMovesF, makeMoveF)`: train the Q function for number of repetitions, decaying epsilon at start of each repetition. Returns Q and list or array of number of steps to reach goal for each repetition.\n",
    "\n",
    "   - `testQ(Q, maxSteps, validMovesF, makeMoveF)`: without updating Q, use Q to find greedy action each step until goal is found. Return path of states.\n",
    "   \n",
    "   - `epsilonGreedy(epsilon, Q, state)`: Takes an epsilon, Q dictionary and state. With these, it will return either a random move or the first greedy move. If epsilon is below .5, higher chances for random move and vise-versa."
   ]
  },
  {
   "cell_type": "code",
   "execution_count": 127,
   "metadata": {},
   "outputs": [],
   "source": [
    "def epsilonChampGreedy(epsilon, Q, league, comp1, comp2, bans=[]):\n",
    "    validMoves = getValidChampMoves(league, comp1, comp2, bans)\n",
    "    if np.random.uniform() < epsilon:\n",
    "        # Random Move\n",
    "        #print(\" RANDOM NUMBER \"+\"\\n\" + str(np.random.choice(len(validMoves))))\n",
    "        #print(\" VALID MOVES \"+\"\\n\" + str(validMoves))\n",
    "        return validMoves[np.random.choice(len(validMoves))]\n",
    "    else:\n",
    "        # Greedy Move\n",
    "        Qs = np.array([Q.get(stateMoveTuple(state, move), 0) for move in validMoves]) \n",
    "        return validMoves[ np.argmax(Qs) ]"
   ]
  },
  {
   "cell_type": "markdown",
   "metadata": {},
   "source": [
    "### Train Q"
   ]
  },
  {
   "cell_type": "markdown",
   "metadata": {},
   "source": [
    "The way I wrote my trainQ function was such that it could be expandable in order to include a ban phase (I omitted it to reduce the complexity) and structured it so that it could be easily altered to have a \"stupid\" player 2, or one that is learning to play against player 1. Note that for testQ, we strictly stick with player 1. The way this works is that you take turns by draft pick rules (you can read which turns are blue, which are red) and each player picks until there is an end state. When there is an end state (winner check), we then check who is the winner and if it is blue, we reinforce by 1. On the other hand, we reinforce 0 for red. Other than that, this code is incredibly similar to what I turned in for my A4 assignment, combined with the tic-tac-toe code and some rules for playing Champion Select."
   ]
  },
  {
   "cell_type": "code",
   "execution_count": 128,
   "metadata": {},
   "outputs": [],
   "source": [
    "def trainQ(nRepetitions, learningRate, epsilonDecayFactor, league, validChampMovesF, validBanMovesF, makeChampMoveF):\n",
    "    rho = learningRate                    #I left this assignment here because rho is more compact.\n",
    "    epsilonDecayRate = epsilonDecayFactor #Not sure why these are named differently, just reused assignment.\n",
    "    epsilon = 1.0                         #Start at 1 and decay\n",
    "    graphics = False                      #Graphics may be used eventually, leaving here just in case.\n",
    "    showMoves = not graphics              #Similarly, I may use this functionality, so leaving here.\n",
    "\n",
    "    outcomes = np.zeros(nRepetitions)\n",
    "    epsilons = np.zeros(nRepetitions)\n",
    "    Q = {}\n",
    "\n",
    "    if graphics:\n",
    "        fig = plt.figure(figsize=(10,10))\n",
    "\n",
    "    #Play a game each repetition.\n",
    "    for repetitions in range(nRepetitions):\n",
    "        print(\"Game: \" + str(repetitions))\n",
    "        epsilon *= epsilonDecayRate\n",
    "        epsilons[repetitions] = epsilon\n",
    "        step = 0\n",
    "        \n",
    "        #Ban phase\n",
    "        #Grab empty bans\n",
    "        bans = [] \n",
    "        banDone = False\n",
    "        \n",
    "        \n",
    "        #Pick phase\n",
    "        #Grab empty comp1, comp2, initialize turn start\n",
    "        comp1 = {}\n",
    "        comp2 = {}\n",
    "        state = {'blue': comp1, 'red': comp2}\n",
    "        turn = 1\n",
    "        pickDone = False\n",
    "        while not pickDone:        \n",
    "            step += 1\n",
    "            #print(turn)\n",
    "            #If blue/comp1 turn [1,4,5,8,9]\n",
    "            if turn == 1 or turn == 4 or turn == 5 or turn == 8 or turn == 9:\n",
    "            \n",
    "                # Make a move\n",
    "                move = epsilonChampGreedy(epsilon, Q, league, state['blue'], state['red'], bans)\n",
    "                newComp = makeChampMove(league, move, state['blue'], state['red'], bans=[])\n",
    "                newState = copy.deepcopy(state)\n",
    "                newState['blue'] = newComp #Update the blue comp\n",
    "                if stateMoveTuple(state, move) not in Q:\n",
    "                    Q[stateMoveTuple(state, move)] = 0  # initial Q value for new state, move\n",
    "                turn += 1\n",
    "                \n",
    "            \n",
    "            #If red/comp2 turn [2,3,6,7,10]\n",
    "            elif turn == 2 or turn == 3 or turn == 6 or turn == 7 or turn == 10: \n",
    "            \n",
    "                # Make a move\n",
    "                move = epsilonChampGreedy(epsilon, Q, league, state['red'], state['blue'], bans)\n",
    "                newComp = makeChampMove(league, move, state['red'], state['blue'], bans=[])\n",
    "                newState = copy.deepcopy(state)\n",
    "                newState['red'] = newComp #Update the bredlue comp\n",
    "                if stateMoveTuple(state, move) not in Q:\n",
    "                    Q[stateMoveTuple(state, move)] = 0  # initial Q value for new state, move\n",
    "                turn += 1\n",
    "                \n",
    "            #print(stateMoveTuple(newState, move))\n",
    "            \n",
    "            #Is the game over?\n",
    "            if winner(league, newState)[0]:\n",
    "                pickDone = True\n",
    "                outcomes[repetitions] = step \n",
    "                if winner(league, newState)[1]:\n",
    "                    Q[stateMoveTuple(state, move)] = 1 #Reinforce 1 if blue is the winner.\n",
    "                else:\n",
    "                    Q[stateMoveTuple(state, move)] = 0 #Reinforce 0 if red is the winner.\n",
    "            \n",
    "            if step > 1:\n",
    "                #print(\"step>1: \" + str(stateMoveTuple(stateOld, moveOld)))\n",
    "                #print(\"Q[compMoveTuple(compOld, moveOld)]: \" + str(Q[stateMoveTuple(stateOld, moveOld)]))\n",
    "                #print(\"Q[compMoveTuple(compNew, move)]: \" + str(Q[stateMoveTuple(state, move)]))\n",
    "                #print(\"Q[compMoveTuple(compOld, moveOld)]: \" + str(Q[stateMoveTuple(stateOld, moveOld)]))\n",
    "                Q[stateMoveTuple(stateOld, moveOld)] += rho * (Q[stateMoveTuple(state, move)] - Q[stateMoveTuple(stateOld, moveOld)])\n",
    "                \n",
    "            stateOld, moveOld = state, move # remember state and move to Q(state,move) can be updated after next steps\n",
    "            state = newState\n",
    "\n",
    "    # Returns Q and list or array of number of steps to reach goal for each repetition.\n",
    "    return Q, outcomes"
   ]
  },
  {
   "cell_type": "markdown",
   "metadata": {},
   "source": [
    "A \"quick\" test"
   ]
  },
  {
   "cell_type": "code",
   "execution_count": 129,
   "metadata": {
    "scrolled": true
   },
   "outputs": [
    {
     "name": "stdout",
     "output_type": "stream",
     "text": [
      "Game: 0\n",
      "Game: 1\n",
      "Game: 2\n",
      "Game: 3\n",
      "Game: 4\n",
      "Game: 5\n",
      "Game: 6\n",
      "Game: 7\n",
      "Game: 8\n",
      "Game: 9\n",
      "Game: 10\n",
      "Game: 11\n",
      "Game: 12\n",
      "Game: 13\n",
      "Game: 14\n",
      "Game: 15\n",
      "Game: 16\n",
      "Game: 17\n",
      "Game: 18\n",
      "Game: 19\n",
      "Game: 20\n",
      "Game: 21\n",
      "Game: 22\n",
      "Game: 23\n",
      "Game: 24\n",
      "Game: 25\n",
      "Game: 26\n",
      "Game: 27\n",
      "Game: 28\n",
      "Game: 29\n",
      "Game: 30\n",
      "Game: 31\n",
      "Game: 32\n",
      "Game: 33\n",
      "Game: 34\n",
      "Game: 35\n",
      "Game: 36\n",
      "Game: 37\n",
      "Game: 38\n",
      "Game: 39\n",
      "Game: 40\n",
      "Game: 41\n",
      "Game: 42\n",
      "Game: 43\n",
      "Game: 44\n",
      "Game: 45\n",
      "Game: 46\n",
      "Game: 47\n",
      "Game: 48\n",
      "Game: 49\n"
     ]
    }
   ],
   "source": [
    "nRepetitions = 50\n",
    "learningRate = 0.5\n",
    "epsilonDecayFactor = 0.9999\n",
    "Q, outcomes = trainQ(nRepetitions, learningRate, epsilonDecayFactor, L, getValidChampMoves, getValidBanMoves, makeChampMove)"
   ]
  },
  {
   "cell_type": "code",
   "execution_count": 134,
   "metadata": {},
   "outputs": [
    {
     "data": {
      "text/plain": [
       "{(((), ()), ((), ())): 0.0,\n",
       " ((('TOP',), ('Jayce',)), ((), ())): 0.0,\n",
       " ((('TOP',), ('Jayce',)), (('DUO_SUPPORT',), ('Sona',))): 0.0,\n",
       " ((('TOP',), ('Jayce',)), (('DUO_SUPPORT', 'TOP'), ('Sona', 'Karthus'))): 0.0,\n",
       " ((('TOP', 'DUO_CARRY'), ('Jayce', 'Lux')),\n",
       "  (('DUO_SUPPORT', 'TOP'), ('Sona', 'Karthus'))): 0.0,\n",
       " ((('TOP', 'DUO_CARRY', 'DUO_SUPPORT'), ('Jayce', 'Lux', 'Veigar')),\n",
       "  (('DUO_SUPPORT', 'TOP'), ('Sona', 'Karthus'))): 0.0,\n",
       " ((('TOP', 'DUO_CARRY', 'DUO_SUPPORT'), ('Jayce', 'Lux', 'Veigar')),\n",
       "  (('DUO_SUPPORT', 'TOP', 'MIDDLE'), ('Sona', 'Karthus', 'Swain'))): 0.0,\n",
       " ((('TOP', 'DUO_CARRY', 'DUO_SUPPORT'), ('Jayce', 'Lux', 'Veigar')),\n",
       "  (('DUO_SUPPORT', 'TOP', 'MIDDLE', 'JUNGLE'),\n",
       "   ('Sona', 'Karthus', 'Swain', 'Riven'))): 0.0,\n",
       " ((('TOP', 'DUO_CARRY', 'DUO_SUPPORT', 'MIDDLE'),\n",
       "   ('Jayce', 'Lux', 'Veigar', 'AurelionSol')),\n",
       "  (('DUO_SUPPORT', 'TOP', 'MIDDLE', 'JUNGLE'),\n",
       "   ('Sona', 'Karthus', 'Swain', 'Riven'))): 0.0,\n",
       " ((('TOP', 'DUO_CARRY', 'DUO_SUPPORT', 'MIDDLE', 'JUNGLE'),\n",
       "   ('Jayce', 'Lux', 'Veigar', 'AurelionSol', 'Warwick')),\n",
       "  (('DUO_SUPPORT', 'TOP', 'MIDDLE', 'JUNGLE'),\n",
       "   ('Sona', 'Karthus', 'Swain', 'Riven'))): 0,\n",
       " ((('TOP',), ('Zoe',)), ((), ())): 0.0,\n",
       " ((('TOP',), ('Zoe',)), (('TOP',), ('Gangplank',))): 0.0,\n",
       " ((('TOP',), ('Zoe',)), (('TOP', 'JUNGLE'), ('Gangplank', 'Poppy'))): 0.0,\n",
       " ((('TOP', 'MIDDLE'), ('Zoe', 'Zilean')),\n",
       "  (('TOP', 'JUNGLE'), ('Gangplank', 'Poppy'))): 0.0,\n",
       " ((('TOP', 'MIDDLE', 'JUNGLE'), ('Zoe', 'Zilean', 'Gragas')),\n",
       "  (('TOP', 'JUNGLE'), ('Gangplank', 'Poppy'))): 0.0,\n",
       " ((('TOP', 'MIDDLE', 'JUNGLE'), ('Zoe', 'Zilean', 'Gragas')),\n",
       "  (('TOP', 'JUNGLE', 'DUO_CARRY'), ('Gangplank', 'Poppy', 'Teemo'))): 0.0,\n",
       " ((('TOP', 'MIDDLE', 'JUNGLE'), ('Zoe', 'Zilean', 'Gragas')),\n",
       "  (('TOP', 'JUNGLE', 'DUO_CARRY', 'MIDDLE'),\n",
       "   ('Gangplank', 'Poppy', 'Teemo', 'Darius'))): 0.0,\n",
       " ((('TOP', 'MIDDLE', 'JUNGLE', 'DUO_CARRY'),\n",
       "   ('Zoe', 'Zilean', 'Gragas', 'Yasuo')),\n",
       "  (('TOP', 'JUNGLE', 'DUO_CARRY', 'MIDDLE'),\n",
       "   ('Gangplank', 'Poppy', 'Teemo', 'Darius'))): 0.5,\n",
       " ((('TOP', 'MIDDLE', 'JUNGLE', 'DUO_CARRY', 'DUO_SUPPORT'),\n",
       "   ('Zoe', 'Zilean', 'Gragas', 'Yasuo', 'Janna')),\n",
       "  (('TOP', 'JUNGLE', 'DUO_CARRY', 'MIDDLE'),\n",
       "   ('Gangplank', 'Poppy', 'Teemo', 'Darius'))): 1,\n",
       " ((('MIDDLE',), ('Rammus',)), ((), ())): 0.0,\n",
       " ((('MIDDLE',), ('Rammus',)), (('DUO_CARRY',), ('Swain',))): 0.0,\n",
       " ((('MIDDLE',), ('Rammus',)),\n",
       "  (('DUO_CARRY', 'JUNGLE'), ('Swain', 'Ezreal'))): 0.0,\n",
       " ((('MIDDLE', 'DUO_SUPPORT'), ('Rammus', 'Leona')),\n",
       "  (('DUO_CARRY', 'JUNGLE'), ('Swain', 'Ezreal'))): 0.0,\n",
       " ((('MIDDLE', 'DUO_SUPPORT', 'TOP'), ('Rammus', 'Leona', 'Nocturne')),\n",
       "  (('DUO_CARRY', 'JUNGLE'), ('Swain', 'Ezreal'))): 0.0,\n",
       " ((('MIDDLE', 'DUO_SUPPORT', 'TOP'), ('Rammus', 'Leona', 'Nocturne')),\n",
       "  (('DUO_CARRY', 'JUNGLE', 'TOP'), ('Swain', 'Ezreal', 'LeeSin'))): 0.0,\n",
       " ((('MIDDLE', 'DUO_SUPPORT', 'TOP'), ('Rammus', 'Leona', 'Nocturne')),\n",
       "  (('DUO_CARRY', 'JUNGLE', 'TOP', 'MIDDLE'),\n",
       "   ('Swain', 'Ezreal', 'LeeSin', 'Sivir'))): 0.0,\n",
       " ((('MIDDLE', 'DUO_SUPPORT', 'TOP', 'JUNGLE'),\n",
       "   ('Rammus', 'Leona', 'Nocturne', 'Sejuani')),\n",
       "  (('DUO_CARRY', 'JUNGLE', 'TOP', 'MIDDLE'),\n",
       "   ('Swain', 'Ezreal', 'LeeSin', 'Sivir'))): 0.5,\n",
       " ((('MIDDLE', 'DUO_SUPPORT', 'TOP', 'JUNGLE', 'DUO_CARRY'),\n",
       "   ('Rammus', 'Leona', 'Nocturne', 'Sejuani', 'Lucian')),\n",
       "  (('DUO_CARRY', 'JUNGLE', 'TOP', 'MIDDLE'),\n",
       "   ('Swain', 'Ezreal', 'LeeSin', 'Sivir'))): 1,\n",
       " ((('MIDDLE',), ('Katarina',)), ((), ())): 0.0,\n",
       " ((('MIDDLE',), ('Katarina',)), (('MIDDLE',), ('Swain',))): 0.0,\n",
       " ((('MIDDLE',), ('Katarina',)),\n",
       "  (('MIDDLE', 'JUNGLE'), ('Swain', 'Camille'))): 0.0,\n",
       " ((('MIDDLE', 'TOP'), ('Katarina', 'Riven')),\n",
       "  (('MIDDLE', 'JUNGLE'), ('Swain', 'Camille'))): 0.0,\n",
       " ((('MIDDLE', 'TOP', 'JUNGLE'), ('Katarina', 'Riven', 'Hecarim')),\n",
       "  (('MIDDLE', 'JUNGLE'), ('Swain', 'Camille'))): 0.0,\n",
       " ((('MIDDLE', 'TOP', 'JUNGLE'), ('Katarina', 'Riven', 'Hecarim')),\n",
       "  (('MIDDLE', 'JUNGLE', 'TOP'), ('Swain', 'Camille', 'Akali'))): 0.0,\n",
       " ((('MIDDLE', 'TOP', 'JUNGLE'), ('Katarina', 'Riven', 'Hecarim')),\n",
       "  (('MIDDLE', 'JUNGLE', 'TOP', 'DUO_CARRY'),\n",
       "   ('Swain', 'Camille', 'Akali', 'Varus'))): 0.0,\n",
       " ((('MIDDLE', 'TOP', 'JUNGLE', 'DUO_CARRY'),\n",
       "   ('Katarina', 'Riven', 'Hecarim', 'Tristana')),\n",
       "  (('MIDDLE', 'JUNGLE', 'TOP', 'DUO_CARRY'),\n",
       "   ('Swain', 'Camille', 'Akali', 'Varus'))): 0.5,\n",
       " ((('MIDDLE', 'TOP', 'JUNGLE', 'DUO_CARRY', 'DUO_SUPPORT'),\n",
       "   ('Katarina', 'Riven', 'Hecarim', 'Tristana', 'Pyke')),\n",
       "  (('MIDDLE', 'JUNGLE', 'TOP', 'DUO_CARRY'),\n",
       "   ('Swain', 'Camille', 'Akali', 'Varus'))): 1,\n",
       " ((('JUNGLE',), ('Ekko',)), ((), ())): 0.0,\n",
       " ((('JUNGLE',), ('Ekko',)), (('TOP',), ('Sion',))): 0.0,\n",
       " ((('JUNGLE',), ('Ekko',)), (('TOP', 'MIDDLE'), ('Sion', 'MonkeyKing'))): 0.0,\n",
       " ((('JUNGLE', 'MIDDLE'), ('Ekko', 'Sona')),\n",
       "  (('TOP', 'MIDDLE'), ('Sion', 'MonkeyKing'))): 0.0,\n",
       " ((('JUNGLE', 'MIDDLE', 'TOP'), ('Ekko', 'Sona', 'Warwick')),\n",
       "  (('TOP', 'MIDDLE'), ('Sion', 'MonkeyKing'))): 0.0,\n",
       " ((('JUNGLE', 'MIDDLE', 'TOP'), ('Ekko', 'Sona', 'Warwick')),\n",
       "  (('TOP', 'MIDDLE', 'DUO_SUPPORT'), ('Sion', 'MonkeyKing', 'Zilean'))): 0.0,\n",
       " ((('JUNGLE', 'MIDDLE', 'TOP'), ('Ekko', 'Sona', 'Warwick')),\n",
       "  (('TOP', 'MIDDLE', 'DUO_SUPPORT', 'DUO_CARRY'),\n",
       "   ('Sion', 'MonkeyKing', 'Zilean', 'Quinn'))): 0.0,\n",
       " ((('JUNGLE', 'MIDDLE', 'TOP', 'DUO_SUPPORT'),\n",
       "   ('Ekko', 'Sona', 'Warwick', 'Shaco')),\n",
       "  (('TOP', 'MIDDLE', 'DUO_SUPPORT', 'DUO_CARRY'),\n",
       "   ('Sion', 'MonkeyKing', 'Zilean', 'Quinn'))): 0.0,\n",
       " ((('JUNGLE', 'MIDDLE', 'TOP', 'DUO_SUPPORT', 'DUO_CARRY'),\n",
       "   ('Ekko', 'Sona', 'Warwick', 'Shaco', 'Jinx')),\n",
       "  (('TOP', 'MIDDLE', 'DUO_SUPPORT', 'DUO_CARRY'),\n",
       "   ('Sion', 'MonkeyKing', 'Zilean', 'Quinn'))): 0,\n",
       " ((('DUO_SUPPORT',), ('Karthus',)), ((), ())): 0.0,\n",
       " ((('DUO_SUPPORT',), ('Karthus',)), (('MIDDLE',), ('Gragas',))): 0.0,\n",
       " ((('DUO_SUPPORT',), ('Karthus',)),\n",
       "  (('MIDDLE', 'TOP'), ('Gragas', 'Velkoz'))): 0.0,\n",
       " ((('DUO_SUPPORT', 'MIDDLE'), ('Karthus', 'Zilean')),\n",
       "  (('MIDDLE', 'TOP'), ('Gragas', 'Velkoz'))): 0.0,\n",
       " ((('DUO_SUPPORT', 'MIDDLE', 'DUO_CARRY'), ('Karthus', 'Zilean', 'Kindred')),\n",
       "  (('MIDDLE', 'TOP'), ('Gragas', 'Velkoz'))): 0.0,\n",
       " ((('DUO_SUPPORT', 'MIDDLE', 'DUO_CARRY'), ('Karthus', 'Zilean', 'Kindred')),\n",
       "  (('MIDDLE', 'TOP', 'JUNGLE'), ('Gragas', 'Velkoz', 'Neeko'))): 0.0,\n",
       " ((('DUO_SUPPORT', 'MIDDLE', 'DUO_CARRY'), ('Karthus', 'Zilean', 'Kindred')),\n",
       "  (('MIDDLE', 'TOP', 'JUNGLE', 'DUO_CARRY'),\n",
       "   ('Gragas', 'Velkoz', 'Neeko', 'Brand'))): 0.0,\n",
       " ((('DUO_SUPPORT', 'MIDDLE', 'DUO_CARRY', 'TOP'),\n",
       "   ('Karthus', 'Zilean', 'Kindred', 'Udyr')),\n",
       "  (('MIDDLE', 'TOP', 'JUNGLE', 'DUO_CARRY'),\n",
       "   ('Gragas', 'Velkoz', 'Neeko', 'Brand'))): 0.0,\n",
       " ((('DUO_SUPPORT', 'MIDDLE', 'DUO_CARRY', 'TOP', 'JUNGLE'),\n",
       "   ('Karthus', 'Zilean', 'Kindred', 'Udyr', 'Jayce')),\n",
       "  (('MIDDLE', 'TOP', 'JUNGLE', 'DUO_CARRY'),\n",
       "   ('Gragas', 'Velkoz', 'Neeko', 'Brand'))): 0,\n",
       " ((('MIDDLE',), ('Karma',)), ((), ())): 0.0,\n",
       " ((('MIDDLE',), ('Karma',)), (('TOP',), ('Illaoi',))): 0.0,\n",
       " ((('MIDDLE',), ('Karma',)),\n",
       "  (('TOP', 'DUO_SUPPORT'), ('Illaoi', 'Maokai'))): 0.0,\n",
       " ((('MIDDLE', 'TOP'), ('Karma', 'Mordekaiser')),\n",
       "  (('TOP', 'DUO_SUPPORT'), ('Illaoi', 'Maokai'))): 0.0,\n",
       " ((('MIDDLE', 'TOP', 'JUNGLE'), ('Karma', 'Mordekaiser', 'Neeko')),\n",
       "  (('TOP', 'DUO_SUPPORT'), ('Illaoi', 'Maokai'))): 0.0,\n",
       " ((('MIDDLE', 'TOP', 'JUNGLE'), ('Karma', 'Mordekaiser', 'Neeko')),\n",
       "  (('TOP', 'DUO_SUPPORT', 'JUNGLE'), ('Illaoi', 'Maokai', 'Chogath'))): 0.0,\n",
       " ((('MIDDLE', 'TOP', 'JUNGLE'), ('Karma', 'Mordekaiser', 'Neeko')),\n",
       "  (('TOP', 'DUO_SUPPORT', 'JUNGLE', 'MIDDLE'),\n",
       "   ('Illaoi', 'Maokai', 'Chogath', 'Kled'))): 0.0,\n",
       " ((('MIDDLE', 'TOP', 'JUNGLE', 'DUO_SUPPORT'),\n",
       "   ('Karma', 'Mordekaiser', 'Neeko', 'Swain')),\n",
       "  (('TOP', 'DUO_SUPPORT', 'JUNGLE', 'MIDDLE'),\n",
       "   ('Illaoi', 'Maokai', 'Chogath', 'Kled'))): 0.0,\n",
       " ((('MIDDLE', 'TOP', 'JUNGLE', 'DUO_SUPPORT', 'DUO_CARRY'),\n",
       "   ('Karma', 'Mordekaiser', 'Neeko', 'Swain', 'Zoe')),\n",
       "  (('TOP', 'DUO_SUPPORT', 'JUNGLE', 'MIDDLE'),\n",
       "   ('Illaoi', 'Maokai', 'Chogath', 'Kled'))): 0,\n",
       " ((('TOP',), ('LeeSin',)), ((), ())): 0.0,\n",
       " ((('TOP',), ('LeeSin',)), (('JUNGLE',), ('Khazix',))): 0.0,\n",
       " ((('TOP',), ('LeeSin',)), (('JUNGLE', 'MIDDLE'), ('Khazix', 'Fiora'))): 0.0,\n",
       " ((('TOP', 'MIDDLE'), ('LeeSin', 'Diana')),\n",
       "  (('JUNGLE', 'MIDDLE'), ('Khazix', 'Fiora'))): 0.0,\n",
       " ((('TOP', 'MIDDLE', 'DUO_CARRY'), ('LeeSin', 'Diana', 'Twitch')),\n",
       "  (('JUNGLE', 'MIDDLE'), ('Khazix', 'Fiora'))): 0.0,\n",
       " ((('TOP', 'MIDDLE', 'DUO_CARRY'), ('LeeSin', 'Diana', 'Twitch')),\n",
       "  (('JUNGLE', 'MIDDLE', 'TOP'), ('Khazix', 'Fiora', 'Ezreal'))): 0.0,\n",
       " ((('TOP', 'MIDDLE', 'DUO_CARRY'), ('LeeSin', 'Diana', 'Twitch')),\n",
       "  (('JUNGLE', 'MIDDLE', 'TOP', 'DUO_SUPPORT'),\n",
       "   ('Khazix', 'Fiora', 'Ezreal', 'Thresh'))): 0.0,\n",
       " ((('TOP', 'MIDDLE', 'DUO_CARRY', 'JUNGLE'),\n",
       "   ('LeeSin', 'Diana', 'Twitch', 'Nautilus')),\n",
       "  (('JUNGLE', 'MIDDLE', 'TOP', 'DUO_SUPPORT'),\n",
       "   ('Khazix', 'Fiora', 'Ezreal', 'Thresh'))): 0.0,\n",
       " ((('TOP', 'MIDDLE', 'DUO_CARRY', 'JUNGLE', 'DUO_SUPPORT'),\n",
       "   ('LeeSin', 'Diana', 'Twitch', 'Nautilus', 'Poppy')),\n",
       "  (('JUNGLE', 'MIDDLE', 'TOP', 'DUO_SUPPORT'),\n",
       "   ('Khazix', 'Fiora', 'Ezreal', 'Thresh'))): 0,\n",
       " ((('TOP',), ('Ryze',)), ((), ())): 0.0,\n",
       " ((('TOP',), ('Ryze',)), (('TOP',), ('Kassadin',))): 0.0,\n",
       " ((('TOP',), ('Ryze',)),\n",
       "  (('TOP', 'DUO_SUPPORT'), ('Kassadin', 'Alistar'))): 0.0,\n",
       " ((('TOP', 'MIDDLE'), ('Ryze', 'Aatrox')),\n",
       "  (('TOP', 'DUO_SUPPORT'), ('Kassadin', 'Alistar'))): 0.0,\n",
       " ((('TOP', 'MIDDLE', 'JUNGLE'), ('Ryze', 'Aatrox', 'Udyr')),\n",
       "  (('TOP', 'DUO_SUPPORT'), ('Kassadin', 'Alistar'))): 0.0,\n",
       " ((('TOP', 'MIDDLE', 'JUNGLE'), ('Ryze', 'Aatrox', 'Udyr')),\n",
       "  (('TOP', 'DUO_SUPPORT', 'DUO_CARRY'), ('Kassadin', 'Alistar', 'Ashe'))): 0.0,\n",
       " ((('TOP', 'MIDDLE', 'JUNGLE'), ('Ryze', 'Aatrox', 'Udyr')),\n",
       "  (('TOP', 'DUO_SUPPORT', 'DUO_CARRY', 'MIDDLE'),\n",
       "   ('Kassadin', 'Alistar', 'Ashe', 'Viktor'))): 0.0,\n",
       " ((('TOP', 'MIDDLE', 'JUNGLE', 'DUO_CARRY'),\n",
       "   ('Ryze', 'Aatrox', 'Udyr', 'Tristana')),\n",
       "  (('TOP', 'DUO_SUPPORT', 'DUO_CARRY', 'MIDDLE'),\n",
       "   ('Kassadin', 'Alistar', 'Ashe', 'Viktor'))): 0.0,\n",
       " ((('TOP', 'MIDDLE', 'JUNGLE', 'DUO_CARRY', 'DUO_SUPPORT'),\n",
       "   ('Ryze', 'Aatrox', 'Udyr', 'Tristana', 'Rengar')),\n",
       "  (('TOP', 'DUO_SUPPORT', 'DUO_CARRY', 'MIDDLE'),\n",
       "   ('Kassadin', 'Alistar', 'Ashe', 'Viktor'))): 0,\n",
       " ((('MIDDLE',), ('Poppy',)), ((), ())): 0.0,\n",
       " ((('MIDDLE',), ('Poppy',)), (('TOP',), ('Akali',))): 0.0,\n",
       " ((('MIDDLE',), ('Poppy',)),\n",
       "  (('TOP', 'DUO_SUPPORT'), ('Akali', 'Malzahar'))): 0.0,\n",
       " ((('MIDDLE', 'TOP'), ('Poppy', 'Talon')),\n",
       "  (('TOP', 'DUO_SUPPORT'), ('Akali', 'Malzahar'))): 0.0,\n",
       " ((('MIDDLE', 'TOP', 'JUNGLE'), ('Poppy', 'Talon', 'Karthus')),\n",
       "  (('TOP', 'DUO_SUPPORT'), ('Akali', 'Malzahar'))): 0.0,\n",
       " ((('MIDDLE', 'TOP', 'JUNGLE'), ('Poppy', 'Talon', 'Karthus')),\n",
       "  (('TOP', 'DUO_SUPPORT', 'JUNGLE'), ('Akali', 'Malzahar', 'Nautilus'))): 0.0,\n",
       " ((('MIDDLE', 'TOP', 'JUNGLE'), ('Poppy', 'Talon', 'Karthus')),\n",
       "  (('TOP', 'DUO_SUPPORT', 'JUNGLE', 'DUO_CARRY'),\n",
       "   ('Akali', 'Malzahar', 'Nautilus', 'Velkoz'))): 0.0,\n",
       " ((('MIDDLE', 'TOP', 'JUNGLE', 'DUO_SUPPORT'),\n",
       "   ('Poppy', 'Talon', 'Karthus', 'Sylas')),\n",
       "  (('TOP', 'DUO_SUPPORT', 'JUNGLE', 'DUO_CARRY'),\n",
       "   ('Akali', 'Malzahar', 'Nautilus', 'Velkoz'))): 0.5,\n",
       " ((('MIDDLE', 'TOP', 'JUNGLE', 'DUO_SUPPORT', 'DUO_CARRY'),\n",
       "   ('Poppy', 'Talon', 'Karthus', 'Sylas', 'Jinx')),\n",
       "  (('TOP', 'DUO_SUPPORT', 'JUNGLE', 'DUO_CARRY'),\n",
       "   ('Akali', 'Malzahar', 'Nautilus', 'Velkoz'))): 1,\n",
       " ((('DUO_CARRY',), ('Yasuo',)), ((), ())): 0.0,\n",
       " ((('DUO_CARRY',), ('Yasuo',)), (('DUO_CARRY',), ('Neeko',))): 0.0,\n",
       " ((('DUO_CARRY',), ('Yasuo',)), (('DUO_CARRY', 'TOP'), ('Neeko', 'Zed'))): 0.0,\n",
       " ((('DUO_CARRY', 'TOP'), ('Yasuo', 'DrMundo')),\n",
       "  (('DUO_CARRY', 'TOP'), ('Neeko', 'Zed'))): 0.0,\n",
       " ((('DUO_CARRY', 'TOP', 'JUNGLE'), ('Yasuo', 'DrMundo', 'Camille')),\n",
       "  (('DUO_CARRY', 'TOP'), ('Neeko', 'Zed'))): 0.0,\n",
       " ((('DUO_CARRY', 'TOP', 'JUNGLE'), ('Yasuo', 'DrMundo', 'Camille')),\n",
       "  (('DUO_CARRY', 'TOP', 'JUNGLE'), ('Neeko', 'Zed', 'Kled'))): 0.0,\n",
       " ((('DUO_CARRY', 'TOP', 'JUNGLE'), ('Yasuo', 'DrMundo', 'Camille')),\n",
       "  (('DUO_CARRY', 'TOP', 'JUNGLE', 'DUO_SUPPORT'),\n",
       "   ('Neeko', 'Zed', 'Kled', 'Velkoz'))): 0.0,\n",
       " ((('DUO_CARRY', 'TOP', 'JUNGLE', 'MIDDLE'),\n",
       "   ('Yasuo', 'DrMundo', 'Camille', 'Teemo')),\n",
       "  (('DUO_CARRY', 'TOP', 'JUNGLE', 'DUO_SUPPORT'),\n",
       "   ('Neeko', 'Zed', 'Kled', 'Velkoz'))): 0.0,\n",
       " ((('DUO_CARRY', 'TOP', 'JUNGLE', 'MIDDLE', 'DUO_SUPPORT'),\n",
       "   ('Yasuo', 'DrMundo', 'Camille', 'Teemo', 'Pantheon')),\n",
       "  (('DUO_CARRY', 'TOP', 'JUNGLE', 'DUO_SUPPORT'),\n",
       "   ('Neeko', 'Zed', 'Kled', 'Velkoz'))): 0,\n",
       " ((('MIDDLE',), ('Ziggs',)), ((), ())): 0.0,\n",
       " ((('MIDDLE',), ('Ziggs',)), (('JUNGLE',), ('Sylas',))): 0.0,\n",
       " ((('MIDDLE',), ('Ziggs',)), (('JUNGLE', 'TOP'), ('Sylas', 'Nocturne'))): 0.0,\n",
       " ((('MIDDLE', 'JUNGLE'), ('Ziggs', 'Pyke')),\n",
       "  (('JUNGLE', 'TOP'), ('Sylas', 'Nocturne'))): 0.0,\n",
       " ((('MIDDLE', 'JUNGLE', 'TOP'), ('Ziggs', 'Pyke', 'Pantheon')),\n",
       "  (('JUNGLE', 'TOP'), ('Sylas', 'Nocturne'))): 0.0,\n",
       " ((('MIDDLE', 'JUNGLE', 'TOP'), ('Ziggs', 'Pyke', 'Pantheon')),\n",
       "  (('JUNGLE', 'TOP', 'MIDDLE'), ('Sylas', 'Nocturne', 'Zilean'))): 0.0,\n",
       " ((('MIDDLE', 'JUNGLE', 'TOP'), ('Ziggs', 'Pyke', 'Pantheon')),\n",
       "  (('JUNGLE', 'TOP', 'MIDDLE', 'DUO_SUPPORT'),\n",
       "   ('Sylas', 'Nocturne', 'Zilean', 'Neeko'))): 0.0,\n",
       " ((('MIDDLE', 'JUNGLE', 'TOP', 'DUO_SUPPORT'),\n",
       "   ('Ziggs', 'Pyke', 'Pantheon', 'Shen')),\n",
       "  (('JUNGLE', 'TOP', 'MIDDLE', 'DUO_SUPPORT'),\n",
       "   ('Sylas', 'Nocturne', 'Zilean', 'Neeko'))): 0.5,\n",
       " ((('MIDDLE', 'JUNGLE', 'TOP', 'DUO_SUPPORT', 'DUO_CARRY'),\n",
       "   ('Ziggs', 'Pyke', 'Pantheon', 'Shen', 'Ashe')),\n",
       "  (('JUNGLE', 'TOP', 'MIDDLE', 'DUO_SUPPORT'),\n",
       "   ('Sylas', 'Nocturne', 'Zilean', 'Neeko'))): 1,\n",
       " ((('DUO_SUPPORT',), ('Janna',)), ((), ())): 0.0,\n",
       " ((('DUO_SUPPORT',), ('Janna',)), (('TOP',), ('Diana',))): 0.0,\n",
       " ((('DUO_SUPPORT',), ('Janna',)),\n",
       "  (('TOP', 'MIDDLE'), ('Diana', 'Thresh'))): 0.0,\n",
       " ((('DUO_SUPPORT', 'TOP'), ('Janna', 'Riven')),\n",
       "  (('TOP', 'MIDDLE'), ('Diana', 'Thresh'))): 0.0,\n",
       " ((('DUO_SUPPORT', 'TOP', 'JUNGLE'), ('Janna', 'Riven', 'Tryndamere')),\n",
       "  (('TOP', 'MIDDLE'), ('Diana', 'Thresh'))): 0.0,\n",
       " ((('DUO_SUPPORT', 'TOP', 'JUNGLE'), ('Janna', 'Riven', 'Tryndamere')),\n",
       "  (('TOP', 'MIDDLE', 'JUNGLE'), ('Diana', 'Thresh', 'Graves'))): 0.0,\n",
       " ((('DUO_SUPPORT', 'TOP', 'JUNGLE'), ('Janna', 'Riven', 'Tryndamere')),\n",
       "  (('TOP', 'MIDDLE', 'JUNGLE', 'DUO_SUPPORT'),\n",
       "   ('Diana', 'Thresh', 'Graves', 'Zac'))): 0.0,\n",
       " ((('DUO_SUPPORT', 'TOP', 'JUNGLE', 'MIDDLE'),\n",
       "   ('Janna', 'Riven', 'Tryndamere', 'Gangplank')),\n",
       "  (('TOP', 'MIDDLE', 'JUNGLE', 'DUO_SUPPORT'),\n",
       "   ('Diana', 'Thresh', 'Graves', 'Zac'))): 0.5,\n",
       " ((('DUO_SUPPORT', 'TOP', 'JUNGLE', 'MIDDLE', 'DUO_CARRY'),\n",
       "   ('Janna', 'Riven', 'Tryndamere', 'Gangplank', 'Vayne')),\n",
       "  (('TOP', 'MIDDLE', 'JUNGLE', 'DUO_SUPPORT'),\n",
       "   ('Diana', 'Thresh', 'Graves', 'Zac'))): 1,\n",
       " ((('MIDDLE',), ('Caitlyn',)), ((), ())): 0.0,\n",
       " ((('MIDDLE',), ('Caitlyn',)), (('DUO_SUPPORT',), ('Gragas',))): 0.0,\n",
       " ((('MIDDLE',), ('Caitlyn',)),\n",
       "  (('DUO_SUPPORT', 'TOP'), ('Gragas', 'Urgot'))): 0.0,\n",
       " ((('MIDDLE', 'DUO_SUPPORT'), ('Caitlyn', 'Ahri')),\n",
       "  (('DUO_SUPPORT', 'TOP'), ('Gragas', 'Urgot'))): 0.0,\n",
       " ((('MIDDLE', 'DUO_SUPPORT', 'JUNGLE'), ('Caitlyn', 'Ahri', 'Camille')),\n",
       "  (('DUO_SUPPORT', 'TOP'), ('Gragas', 'Urgot'))): 0.0,\n",
       " ((('MIDDLE', 'DUO_SUPPORT', 'JUNGLE'), ('Caitlyn', 'Ahri', 'Camille')),\n",
       "  (('DUO_SUPPORT', 'TOP', 'DUO_CARRY'), ('Gragas', 'Urgot', 'Swain'))): 0.0,\n",
       " ((('MIDDLE', 'DUO_SUPPORT', 'JUNGLE'), ('Caitlyn', 'Ahri', 'Camille')),\n",
       "  (('DUO_SUPPORT', 'TOP', 'DUO_CARRY', 'JUNGLE'),\n",
       "   ('Gragas', 'Urgot', 'Swain', 'Riven'))): 0.0,\n",
       " ((('MIDDLE', 'DUO_SUPPORT', 'JUNGLE', 'TOP'),\n",
       "   ('Caitlyn', 'Ahri', 'Camille', 'Mordekaiser')),\n",
       "  (('DUO_SUPPORT', 'TOP', 'DUO_CARRY', 'JUNGLE'),\n",
       "   ('Gragas', 'Urgot', 'Swain', 'Riven'))): 0.0,\n",
       " ((('MIDDLE', 'DUO_SUPPORT', 'JUNGLE', 'TOP', 'DUO_CARRY'),\n",
       "   ('Caitlyn', 'Ahri', 'Camille', 'Mordekaiser', 'Viktor')),\n",
       "  (('DUO_SUPPORT', 'TOP', 'DUO_CARRY', 'JUNGLE'),\n",
       "   ('Gragas', 'Urgot', 'Swain', 'Riven'))): 0,\n",
       " ((('TOP',), ('JarvanIV',)), ((), ())): 0.0,\n",
       " ((('TOP',), ('JarvanIV',)), (('MIDDLE',), ('Volibear',))): 0.0,\n",
       " ((('TOP',), ('JarvanIV',)),\n",
       "  (('MIDDLE', 'JUNGLE'), ('Volibear', 'Nasus'))): 0.0,\n",
       " ((('TOP', 'DUO_CARRY'), ('JarvanIV', 'Jinx')),\n",
       "  (('MIDDLE', 'JUNGLE'), ('Volibear', 'Nasus'))): 0.0,\n",
       " ((('TOP', 'DUO_CARRY', 'DUO_SUPPORT'), ('JarvanIV', 'Jinx', 'Brand')),\n",
       "  (('MIDDLE', 'JUNGLE'), ('Volibear', 'Nasus'))): 0.0,\n",
       " ((('TOP', 'DUO_CARRY', 'DUO_SUPPORT'), ('JarvanIV', 'Jinx', 'Brand')),\n",
       "  (('MIDDLE', 'JUNGLE', 'TOP'), ('Volibear', 'Nasus', 'Caitlyn'))): 0.0,\n",
       " ((('TOP', 'DUO_CARRY', 'DUO_SUPPORT'), ('JarvanIV', 'Jinx', 'Brand')),\n",
       "  (('MIDDLE', 'JUNGLE', 'TOP', 'DUO_SUPPORT'),\n",
       "   ('Volibear', 'Nasus', 'Caitlyn', 'Taliyah'))): 0.0,\n",
       " ((('TOP', 'DUO_CARRY', 'DUO_SUPPORT', 'JUNGLE'),\n",
       "   ('JarvanIV', 'Jinx', 'Brand', 'Ezreal')),\n",
       "  (('MIDDLE', 'JUNGLE', 'TOP', 'DUO_SUPPORT'),\n",
       "   ('Volibear', 'Nasus', 'Caitlyn', 'Taliyah'))): 0.0,\n",
       " ((('TOP', 'DUO_CARRY', 'DUO_SUPPORT', 'JUNGLE', 'MIDDLE'),\n",
       "   ('JarvanIV', 'Jinx', 'Brand', 'Ezreal', 'Karma')),\n",
       "  (('MIDDLE', 'JUNGLE', 'TOP', 'DUO_SUPPORT'),\n",
       "   ('Volibear', 'Nasus', 'Caitlyn', 'Taliyah'))): 0,\n",
       " ((('DUO_SUPPORT',), ('Sion',)), ((), ())): 0.0,\n",
       " ((('DUO_SUPPORT',), ('Sion',)), (('MIDDLE',), ('Gangplank',))): 0.0,\n",
       " ((('DUO_SUPPORT',), ('Sion',)),\n",
       "  (('MIDDLE', 'JUNGLE'), ('Gangplank', 'Zac'))): 0.0,\n",
       " ((('DUO_SUPPORT', 'TOP'), ('Sion', 'Ekko')),\n",
       "  (('MIDDLE', 'JUNGLE'), ('Gangplank', 'Zac'))): 0.0,\n",
       " ((('DUO_SUPPORT', 'TOP', 'MIDDLE'), ('Sion', 'Ekko', 'AurelionSol')),\n",
       "  (('MIDDLE', 'JUNGLE'), ('Gangplank', 'Zac'))): 0.0,\n",
       " ((('DUO_SUPPORT', 'TOP', 'MIDDLE'), ('Sion', 'Ekko', 'AurelionSol')),\n",
       "  (('MIDDLE', 'JUNGLE', 'TOP'), ('Gangplank', 'Zac', 'Kennen'))): 0.0,\n",
       " ((('DUO_SUPPORT', 'TOP', 'MIDDLE'), ('Sion', 'Ekko', 'AurelionSol')),\n",
       "  (('MIDDLE', 'JUNGLE', 'TOP', 'DUO_CARRY'),\n",
       "   ('Gangplank', 'Zac', 'Kennen', 'Graves'))): 0.0,\n",
       " ((('DUO_SUPPORT', 'TOP', 'MIDDLE', 'JUNGLE'),\n",
       "   ('Sion', 'Ekko', 'AurelionSol', 'Poppy')),\n",
       "  (('MIDDLE', 'JUNGLE', 'TOP', 'DUO_CARRY'),\n",
       "   ('Gangplank', 'Zac', 'Kennen', 'Graves'))): 0.5,\n",
       " ((('DUO_SUPPORT', 'TOP', 'MIDDLE', 'JUNGLE', 'DUO_CARRY'),\n",
       "   ('Sion', 'Ekko', 'AurelionSol', 'Poppy', 'Caitlyn')),\n",
       "  (('MIDDLE', 'JUNGLE', 'TOP', 'DUO_CARRY'),\n",
       "   ('Gangplank', 'Zac', 'Kennen', 'Graves'))): 1,\n",
       " ((('JUNGLE',), ('Camille',)), ((), ())): 0.0,\n",
       " ((('JUNGLE',), ('Camille',)), (('JUNGLE',), ('Volibear',))): 0.0,\n",
       " ((('JUNGLE',), ('Camille',)),\n",
       "  (('JUNGLE', 'DUO_SUPPORT'), ('Volibear', 'Velkoz'))): 0.0,\n",
       " ((('JUNGLE', 'MIDDLE'), ('Camille', 'MasterYi')),\n",
       "  (('JUNGLE', 'DUO_SUPPORT'), ('Volibear', 'Velkoz'))): 0.0,\n",
       " ((('JUNGLE', 'MIDDLE', 'DUO_CARRY'), ('Camille', 'MasterYi', 'TwistedFate')),\n",
       "  (('JUNGLE', 'DUO_SUPPORT'), ('Volibear', 'Velkoz'))): 0.0,\n",
       " ((('JUNGLE', 'MIDDLE', 'DUO_CARRY'), ('Camille', 'MasterYi', 'TwistedFate')),\n",
       "  (('JUNGLE', 'DUO_SUPPORT', 'TOP'),\n",
       "   ('Volibear', 'Velkoz', 'Gangplank'))): 0.0,\n",
       " ((('JUNGLE', 'MIDDLE', 'DUO_CARRY'), ('Camille', 'MasterYi', 'TwistedFate')),\n",
       "  (('JUNGLE', 'DUO_SUPPORT', 'TOP', 'MIDDLE'),\n",
       "   ('Volibear', 'Velkoz', 'Gangplank', 'Lux'))): 0.0,\n",
       " ((('JUNGLE', 'MIDDLE', 'DUO_CARRY', 'TOP'),\n",
       "   ('Camille', 'MasterYi', 'TwistedFate', 'Vladimir')),\n",
       "  (('JUNGLE', 'DUO_SUPPORT', 'TOP', 'MIDDLE'),\n",
       "   ('Volibear', 'Velkoz', 'Gangplank', 'Lux'))): 0.5,\n",
       " ((('JUNGLE', 'MIDDLE', 'DUO_CARRY', 'TOP', 'DUO_SUPPORT'),\n",
       "   ('Camille', 'MasterYi', 'TwistedFate', 'Vladimir', 'Syndra')),\n",
       "  (('JUNGLE', 'DUO_SUPPORT', 'TOP', 'MIDDLE'),\n",
       "   ('Volibear', 'Velkoz', 'Gangplank', 'Lux'))): 1,\n",
       " ((('MIDDLE',), ('Pantheon',)), ((), ())): 0.0,\n",
       " ((('MIDDLE',), ('Pantheon',)), (('MIDDLE',), ('Yorick',))): 0.0,\n",
       " ((('MIDDLE',), ('Pantheon',)),\n",
       "  (('MIDDLE', 'DUO_SUPPORT'), ('Yorick', 'Annie'))): 0.0,\n",
       " ((('MIDDLE', 'DUO_SUPPORT'), ('Pantheon', 'Zyra')),\n",
       "  (('MIDDLE', 'DUO_SUPPORT'), ('Yorick', 'Annie'))): 0.0,\n",
       " ((('MIDDLE', 'DUO_SUPPORT', 'TOP'), ('Pantheon', 'Zyra', 'Talon')),\n",
       "  (('MIDDLE', 'DUO_SUPPORT'), ('Yorick', 'Annie'))): 0.0,\n",
       " ((('MIDDLE', 'DUO_SUPPORT', 'TOP'), ('Pantheon', 'Zyra', 'Talon')),\n",
       "  (('MIDDLE', 'DUO_SUPPORT', 'DUO_CARRY'),\n",
       "   ('Yorick', 'Annie', 'Mordekaiser'))): 0.0,\n",
       " ((('MIDDLE', 'DUO_SUPPORT', 'TOP'), ('Pantheon', 'Zyra', 'Talon')),\n",
       "  (('MIDDLE', 'DUO_SUPPORT', 'DUO_CARRY', 'JUNGLE'),\n",
       "   ('Yorick', 'Annie', 'Mordekaiser', 'Kaisa'))): 0.0,\n",
       " ((('MIDDLE', 'DUO_SUPPORT', 'TOP', 'JUNGLE'),\n",
       "   ('Pantheon', 'Zyra', 'Talon', 'Malphite')),\n",
       "  (('MIDDLE', 'DUO_SUPPORT', 'DUO_CARRY', 'JUNGLE'),\n",
       "   ('Yorick', 'Annie', 'Mordekaiser', 'Kaisa'))): 0.5,\n",
       " ((('MIDDLE', 'DUO_SUPPORT', 'TOP', 'JUNGLE', 'DUO_CARRY'),\n",
       "   ('Pantheon', 'Zyra', 'Talon', 'Malphite', 'Orianna')),\n",
       "  (('MIDDLE', 'DUO_SUPPORT', 'DUO_CARRY', 'JUNGLE'),\n",
       "   ('Yorick', 'Annie', 'Mordekaiser', 'Kaisa'))): 1,\n",
       " ((('JUNGLE',), ('Maokai',)), ((), ())): 0.0,\n",
       " ((('JUNGLE',), ('Maokai',)), (('JUNGLE',), ('Nunu',))): 0.0,\n",
       " ((('JUNGLE',), ('Maokai',)), (('JUNGLE', 'MIDDLE'), ('Nunu', 'LeeSin'))): 0.0,\n",
       " ((('JUNGLE', 'DUO_SUPPORT'), ('Maokai', 'Rengar')),\n",
       "  (('JUNGLE', 'MIDDLE'), ('Nunu', 'LeeSin'))): 0.0,\n",
       " ((('JUNGLE', 'DUO_SUPPORT', 'TOP'), ('Maokai', 'Rengar', 'TahmKench')),\n",
       "  (('JUNGLE', 'MIDDLE'), ('Nunu', 'LeeSin'))): 0.0,\n",
       " ((('JUNGLE', 'DUO_SUPPORT', 'TOP'), ('Maokai', 'Rengar', 'TahmKench')),\n",
       "  (('JUNGLE', 'MIDDLE', 'DUO_CARRY'), ('Nunu', 'LeeSin', 'Xerath'))): 0.0,\n",
       " ((('JUNGLE', 'DUO_SUPPORT', 'TOP'), ('Maokai', 'Rengar', 'TahmKench')),\n",
       "  (('JUNGLE', 'MIDDLE', 'DUO_CARRY', 'TOP'),\n",
       "   ('Nunu', 'LeeSin', 'Xerath', 'DrMundo'))): 0.0,\n",
       " ((('JUNGLE', 'DUO_SUPPORT', 'TOP', 'DUO_CARRY'),\n",
       "   ('Maokai', 'Rengar', 'TahmKench', 'Neeko')),\n",
       "  (('JUNGLE', 'MIDDLE', 'DUO_CARRY', 'TOP'),\n",
       "   ('Nunu', 'LeeSin', 'Xerath', 'DrMundo'))): 0.0,\n",
       " ((('JUNGLE', 'DUO_SUPPORT', 'TOP', 'DUO_CARRY', 'MIDDLE'),\n",
       "   ('Maokai', 'Rengar', 'TahmKench', 'Neeko', 'Ahri')),\n",
       "  (('JUNGLE', 'MIDDLE', 'DUO_CARRY', 'TOP'),\n",
       "   ('Nunu', 'LeeSin', 'Xerath', 'DrMundo'))): 0,\n",
       " ((('TOP',), ('Tryndamere',)), ((), ())): 0.0,\n",
       " ((('TOP',), ('Tryndamere',)), (('MIDDLE',), ('Neeko',))): 0.0,\n",
       " ((('TOP',), ('Tryndamere',)),\n",
       "  (('MIDDLE', 'DUO_CARRY'), ('Neeko', 'Xerath'))): 0.0,\n",
       " ((('TOP', 'DUO_CARRY'), ('Tryndamere', 'Xayah')),\n",
       "  (('MIDDLE', 'DUO_CARRY'), ('Neeko', 'Xerath'))): 0.0,\n",
       " ((('TOP', 'DUO_CARRY', 'MIDDLE'), ('Tryndamere', 'Xayah', 'Yorick')),\n",
       "  (('MIDDLE', 'DUO_CARRY'), ('Neeko', 'Xerath'))): 0.0,\n",
       " ((('TOP', 'DUO_CARRY', 'MIDDLE'), ('Tryndamere', 'Xayah', 'Yorick')),\n",
       "  (('MIDDLE', 'DUO_CARRY', 'TOP'), ('Neeko', 'Xerath', 'Singed'))): 0.0,\n",
       " ((('TOP', 'DUO_CARRY', 'MIDDLE'), ('Tryndamere', 'Xayah', 'Yorick')),\n",
       "  (('MIDDLE', 'DUO_CARRY', 'TOP', 'JUNGLE'),\n",
       "   ('Neeko', 'Xerath', 'Singed', 'XinZhao'))): 0.0,\n",
       " ((('TOP', 'DUO_CARRY', 'MIDDLE', 'DUO_SUPPORT'),\n",
       "   ('Tryndamere', 'Xayah', 'Yorick', 'Kennen')),\n",
       "  (('MIDDLE', 'DUO_CARRY', 'TOP', 'JUNGLE'),\n",
       "   ('Neeko', 'Xerath', 'Singed', 'XinZhao'))): 0.0,\n",
       " ((('TOP', 'DUO_CARRY', 'MIDDLE', 'DUO_SUPPORT', 'JUNGLE'),\n",
       "   ('Tryndamere', 'Xayah', 'Yorick', 'Kennen', 'Vayne')),\n",
       "  (('MIDDLE', 'DUO_CARRY', 'TOP', 'JUNGLE'),\n",
       "   ('Neeko', 'Xerath', 'Singed', 'XinZhao'))): 0,\n",
       " ((('DUO_CARRY',), ('Kalista',)), ((), ())): 0.0,\n",
       " ((('DUO_CARRY',), ('Kalista',)), (('JUNGLE',), ('Camille',))): 0.0,\n",
       " ((('DUO_CARRY',), ('Kalista',)),\n",
       "  (('JUNGLE', 'TOP'), ('Camille', 'Corki'))): 0.0,\n",
       " ((('DUO_CARRY', 'DUO_SUPPORT'), ('Kalista', 'Ziggs')),\n",
       "  (('JUNGLE', 'TOP'), ('Camille', 'Corki'))): 0.0,\n",
       " ((('DUO_CARRY', 'DUO_SUPPORT', 'MIDDLE'), ('Kalista', 'Ziggs', 'Anivia')),\n",
       "  (('JUNGLE', 'TOP'), ('Camille', 'Corki'))): 0.0,\n",
       " ((('DUO_CARRY', 'DUO_SUPPORT', 'MIDDLE'), ('Kalista', 'Ziggs', 'Anivia')),\n",
       "  (('JUNGLE', 'TOP', 'MIDDLE'), ('Camille', 'Corki', 'Sona'))): 0.0,\n",
       " ((('DUO_CARRY', 'DUO_SUPPORT', 'MIDDLE'), ('Kalista', 'Ziggs', 'Anivia')),\n",
       "  (('JUNGLE', 'TOP', 'MIDDLE', 'DUO_CARRY'),\n",
       "   ('Camille', 'Corki', 'Sona', 'Velkoz'))): 0.0,\n",
       " ((('DUO_CARRY', 'DUO_SUPPORT', 'MIDDLE', 'TOP'),\n",
       "   ('Kalista', 'Ziggs', 'Anivia', 'Vladimir')),\n",
       "  (('JUNGLE', 'TOP', 'MIDDLE', 'DUO_CARRY'),\n",
       "   ('Camille', 'Corki', 'Sona', 'Velkoz'))): 0.5,\n",
       " ((('DUO_CARRY', 'DUO_SUPPORT', 'MIDDLE', 'TOP', 'JUNGLE'),\n",
       "   ('Kalista', 'Ziggs', 'Anivia', 'Vladimir', 'Olaf')),\n",
       "  (('JUNGLE', 'TOP', 'MIDDLE', 'DUO_CARRY'),\n",
       "   ('Camille', 'Corki', 'Sona', 'Velkoz'))): 1,\n",
       " ((('DUO_CARRY',), ('Sivir',)), ((), ())): 0.0,\n",
       " ((('DUO_CARRY',), ('Sivir',)), (('TOP',), ('Syndra',))): 0.0,\n",
       " ((('DUO_CARRY',), ('Sivir',)),\n",
       "  (('TOP', 'DUO_CARRY'), ('Syndra', 'Ashe'))): 0.0,\n",
       " ((('DUO_CARRY', 'TOP'), ('Sivir', 'Neeko')),\n",
       "  (('TOP', 'DUO_CARRY'), ('Syndra', 'Ashe'))): 0.0,\n",
       " ((('DUO_CARRY', 'TOP', 'MIDDLE'), ('Sivir', 'Neeko', 'Zoe')),\n",
       "  (('TOP', 'DUO_CARRY'), ('Syndra', 'Ashe'))): 0.0,\n",
       " ((('DUO_CARRY', 'TOP', 'MIDDLE'), ('Sivir', 'Neeko', 'Zoe')),\n",
       "  (('TOP', 'DUO_CARRY', 'MIDDLE'), ('Syndra', 'Ashe', 'Ezreal'))): 0.0,\n",
       " ((('DUO_CARRY', 'TOP', 'MIDDLE'), ('Sivir', 'Neeko', 'Zoe')),\n",
       "  (('TOP', 'DUO_CARRY', 'MIDDLE', 'JUNGLE'),\n",
       "   ('Syndra', 'Ashe', 'Ezreal', 'Sylas'))): 0.0,\n",
       " ((('DUO_CARRY', 'TOP', 'MIDDLE', 'DUO_SUPPORT'),\n",
       "   ('Sivir', 'Neeko', 'Zoe', 'Ahri')),\n",
       "  (('TOP', 'DUO_CARRY', 'MIDDLE', 'JUNGLE'),\n",
       "   ('Syndra', 'Ashe', 'Ezreal', 'Sylas'))): 0.0,\n",
       " ((('DUO_CARRY', 'TOP', 'MIDDLE', 'DUO_SUPPORT', 'JUNGLE'),\n",
       "   ('Sivir', 'Neeko', 'Zoe', 'Ahri', 'Diana')),\n",
       "  (('TOP', 'DUO_CARRY', 'MIDDLE', 'JUNGLE'),\n",
       "   ('Syndra', 'Ashe', 'Ezreal', 'Sylas'))): 0,\n",
       " ((('JUNGLE',), ('Khazix',)), ((), ())): 0.0,\n",
       " ((('JUNGLE',), ('Khazix',)), (('MIDDLE',), ('Fiora',))): 0.0,\n",
       " ((('JUNGLE',), ('Khazix',)),\n",
       "  (('MIDDLE', 'DUO_CARRY'), ('Fiora', 'Brand'))): 0.0,\n",
       " ((('JUNGLE', 'DUO_CARRY'), ('Khazix', 'Quinn')),\n",
       "  (('MIDDLE', 'DUO_CARRY'), ('Fiora', 'Brand'))): 0.0,\n",
       " ((('JUNGLE', 'DUO_CARRY', 'DUO_SUPPORT'), ('Khazix', 'Quinn', 'Taric')),\n",
       "  (('MIDDLE', 'DUO_CARRY'), ('Fiora', 'Brand'))): 0.0,\n",
       " ((('JUNGLE', 'DUO_CARRY', 'DUO_SUPPORT'), ('Khazix', 'Quinn', 'Taric')),\n",
       "  (('MIDDLE', 'DUO_CARRY', 'TOP'), ('Fiora', 'Brand', 'Malzahar'))): 0.0,\n",
       " ((('JUNGLE', 'DUO_CARRY', 'DUO_SUPPORT'), ('Khazix', 'Quinn', 'Taric')),\n",
       "  (('MIDDLE', 'DUO_CARRY', 'TOP', 'DUO_SUPPORT'),\n",
       "   ('Fiora', 'Brand', 'Malzahar', 'Neeko'))): 0.0,\n",
       " ((('JUNGLE', 'DUO_CARRY', 'DUO_SUPPORT', 'MIDDLE'),\n",
       "   ('Khazix', 'Quinn', 'Taric', 'Morgana')),\n",
       "  (('MIDDLE', 'DUO_CARRY', 'TOP', 'DUO_SUPPORT'),\n",
       "   ('Fiora', 'Brand', 'Malzahar', 'Neeko'))): 0.5,\n",
       " ((('JUNGLE', 'DUO_CARRY', 'DUO_SUPPORT', 'MIDDLE', 'TOP'),\n",
       "   ('Khazix', 'Quinn', 'Taric', 'Morgana', 'Jax')),\n",
       "  (('MIDDLE', 'DUO_CARRY', 'TOP', 'DUO_SUPPORT'),\n",
       "   ('Fiora', 'Brand', 'Malzahar', 'Neeko'))): 1,\n",
       " ((('DUO_SUPPORT',), ('Neeko',)), ((), ())): 0.0,\n",
       " ((('DUO_SUPPORT',), ('Neeko',)), (('JUNGLE',), ('Shen',))): 0.0,\n",
       " ((('DUO_SUPPORT',), ('Neeko',)),\n",
       "  (('JUNGLE', 'TOP'), ('Shen', 'Lissandra'))): 0.0,\n",
       " ((('DUO_SUPPORT', 'TOP'), ('Neeko', 'MasterYi')),\n",
       "  (('JUNGLE', 'TOP'), ('Shen', 'Lissandra'))): 0.0,\n",
       " ((('DUO_SUPPORT', 'TOP', 'JUNGLE'), ('Neeko', 'MasterYi', 'Karthus')),\n",
       "  (('JUNGLE', 'TOP'), ('Shen', 'Lissandra'))): 0.0,\n",
       " ((('DUO_SUPPORT', 'TOP', 'JUNGLE'), ('Neeko', 'MasterYi', 'Karthus')),\n",
       "  (('JUNGLE', 'TOP', 'MIDDLE'), ('Shen', 'Lissandra', 'Malphite'))): 0.0,\n",
       " ((('DUO_SUPPORT', 'TOP', 'JUNGLE'), ('Neeko', 'MasterYi', 'Karthus')),\n",
       "  (('JUNGLE', 'TOP', 'MIDDLE', 'DUO_CARRY'),\n",
       "   ('Shen', 'Lissandra', 'Malphite', 'Vladimir'))): 0.0,\n",
       " ((('DUO_SUPPORT', 'TOP', 'JUNGLE', 'MIDDLE'),\n",
       "   ('Neeko', 'MasterYi', 'Karthus', 'Katarina')),\n",
       "  (('JUNGLE', 'TOP', 'MIDDLE', 'DUO_CARRY'),\n",
       "   ('Shen', 'Lissandra', 'Malphite', 'Vladimir'))): 0.5,\n",
       " ((('DUO_SUPPORT', 'TOP', 'JUNGLE', 'MIDDLE', 'DUO_CARRY'),\n",
       "   ('Neeko', 'MasterYi', 'Karthus', 'Katarina', 'Orianna')),\n",
       "  (('JUNGLE', 'TOP', 'MIDDLE', 'DUO_CARRY'),\n",
       "   ('Shen', 'Lissandra', 'Malphite', 'Vladimir'))): 1,\n",
       " ((('JUNGLE',), ('Tryndamere',)), ((), ())): 0.0,\n",
       " ((('JUNGLE',), ('Tryndamere',)), (('DUO_CARRY',), ('Lucian',))): 0.0,\n",
       " ((('JUNGLE',), ('Tryndamere',)),\n",
       "  (('DUO_CARRY', 'JUNGLE'), ('Lucian', 'Olaf'))): 0.0,\n",
       " ((('JUNGLE', 'DUO_CARRY'), ('Tryndamere', 'Kaisa')),\n",
       "  (('DUO_CARRY', 'JUNGLE'), ('Lucian', 'Olaf'))): 0.0,\n",
       " ((('JUNGLE', 'DUO_CARRY', 'TOP'), ('Tryndamere', 'Kaisa', 'Morgana')),\n",
       "  (('DUO_CARRY', 'JUNGLE'), ('Lucian', 'Olaf'))): 0.0,\n",
       " ((('JUNGLE', 'DUO_CARRY', 'TOP'), ('Tryndamere', 'Kaisa', 'Morgana')),\n",
       "  (('DUO_CARRY', 'JUNGLE', 'DUO_SUPPORT'),\n",
       "   ('Lucian', 'Olaf', 'Pantheon'))): 0.0,\n",
       " ((('JUNGLE', 'DUO_CARRY', 'TOP'), ('Tryndamere', 'Kaisa', 'Morgana')),\n",
       "  (('DUO_CARRY', 'JUNGLE', 'DUO_SUPPORT', 'TOP'),\n",
       "   ('Lucian', 'Olaf', 'Pantheon', 'Renekton'))): 0.0,\n",
       " ((('JUNGLE', 'DUO_CARRY', 'TOP', 'DUO_SUPPORT'),\n",
       "   ('Tryndamere', 'Kaisa', 'Morgana', 'Thresh')),\n",
       "  (('DUO_CARRY', 'JUNGLE', 'DUO_SUPPORT', 'TOP'),\n",
       "   ('Lucian', 'Olaf', 'Pantheon', 'Renekton'))): 0.5,\n",
       " ((('JUNGLE', 'DUO_CARRY', 'TOP', 'DUO_SUPPORT', 'MIDDLE'),\n",
       "   ('Tryndamere', 'Kaisa', 'Morgana', 'Thresh', 'Cassiopeia')),\n",
       "  (('DUO_CARRY', 'JUNGLE', 'DUO_SUPPORT', 'TOP'),\n",
       "   ('Lucian', 'Olaf', 'Pantheon', 'Renekton'))): 1,\n",
       " ((('JUNGLE',), ('Nunu',)), ((), ())): 0.0,\n",
       " ((('JUNGLE',), ('Nunu',)), (('DUO_CARRY',), ('Veigar',))): 0.0,\n",
       " ((('JUNGLE',), ('Nunu',)),\n",
       "  (('DUO_CARRY', 'DUO_SUPPORT'), ('Veigar', 'Leblanc'))): 0.0,\n",
       " ((('JUNGLE', 'TOP'), ('Nunu', 'Rengar')),\n",
       "  (('DUO_CARRY', 'DUO_SUPPORT'), ('Veigar', 'Leblanc'))): 0.0,\n",
       " ((('JUNGLE', 'TOP', 'DUO_CARRY'), ('Nunu', 'Rengar', 'Graves')),\n",
       "  (('DUO_CARRY', 'DUO_SUPPORT'), ('Veigar', 'Leblanc'))): 0.0,\n",
       " ((('JUNGLE', 'TOP', 'DUO_CARRY'), ('Nunu', 'Rengar', 'Graves')),\n",
       "  (('DUO_CARRY', 'DUO_SUPPORT', 'JUNGLE'),\n",
       "   ('Veigar', 'Leblanc', 'Maokai'))): 0.0,\n",
       " ((('JUNGLE', 'TOP', 'DUO_CARRY'), ('Nunu', 'Rengar', 'Graves')),\n",
       "  (('DUO_CARRY', 'DUO_SUPPORT', 'JUNGLE', 'MIDDLE'),\n",
       "   ('Veigar', 'Leblanc', 'Maokai', 'Viktor'))): 0.0,\n",
       " ((('JUNGLE', 'TOP', 'DUO_CARRY', 'DUO_SUPPORT'),\n",
       "   ('Nunu', 'Rengar', 'Graves', 'Nami')),\n",
       "  (('DUO_CARRY', 'DUO_SUPPORT', 'JUNGLE', 'MIDDLE'),\n",
       "   ('Veigar', 'Leblanc', 'Maokai', 'Viktor'))): 0.5,\n",
       " ((('JUNGLE', 'TOP', 'DUO_CARRY', 'DUO_SUPPORT', 'MIDDLE'),\n",
       "   ('Nunu', 'Rengar', 'Graves', 'Nami', 'Nocturne')),\n",
       "  (('DUO_CARRY', 'DUO_SUPPORT', 'JUNGLE', 'MIDDLE'),\n",
       "   ('Veigar', 'Leblanc', 'Maokai', 'Viktor'))): 1,\n",
       " ((('TOP',), ('Tryndamere',)), (('JUNGLE',), ('Zac',))): 0.0,\n",
       " ((('TOP',), ('Tryndamere',)),\n",
       "  (('JUNGLE', 'DUO_CARRY'), ('Zac', 'KogMaw'))): 0.0,\n",
       " ((('TOP', 'DUO_SUPPORT'), ('Tryndamere', 'Brand')),\n",
       "  (('JUNGLE', 'DUO_CARRY'), ('Zac', 'KogMaw'))): 0.0,\n",
       " ((('TOP', 'DUO_SUPPORT', 'MIDDLE'), ('Tryndamere', 'Brand', 'Veigar')),\n",
       "  (('JUNGLE', 'DUO_CARRY'), ('Zac', 'KogMaw'))): 0.0,\n",
       " ((('TOP', 'DUO_SUPPORT', 'MIDDLE'), ('Tryndamere', 'Brand', 'Veigar')),\n",
       "  (('JUNGLE', 'DUO_CARRY', 'TOP'), ('Zac', 'KogMaw', 'Shyvana'))): 0.0,\n",
       " ((('TOP', 'DUO_SUPPORT', 'MIDDLE'), ('Tryndamere', 'Brand', 'Veigar')),\n",
       "  (('JUNGLE', 'DUO_CARRY', 'TOP', 'DUO_SUPPORT'),\n",
       "   ('Zac', 'KogMaw', 'Shyvana', 'Taric'))): 0.0,\n",
       " ((('TOP', 'DUO_SUPPORT', 'MIDDLE', 'DUO_CARRY'),\n",
       "   ('Tryndamere', 'Brand', 'Veigar', 'Ashe')),\n",
       "  (('JUNGLE', 'DUO_CARRY', 'TOP', 'DUO_SUPPORT'),\n",
       "   ('Zac', 'KogMaw', 'Shyvana', 'Taric'))): 0.5,\n",
       " ((('TOP', 'DUO_SUPPORT', 'MIDDLE', 'DUO_CARRY', 'JUNGLE'),\n",
       "   ('Tryndamere', 'Brand', 'Veigar', 'Ashe', 'Fizz')),\n",
       "  (('JUNGLE', 'DUO_CARRY', 'TOP', 'DUO_SUPPORT'),\n",
       "   ('Zac', 'KogMaw', 'Shyvana', 'Taric'))): 1,\n",
       " ((('MIDDLE',), ('Akali',)), ((), ())): 0.0,\n",
       " ((('MIDDLE',), ('Akali',)), (('DUO_SUPPORT',), ('Taliyah',))): 0.0,\n",
       " ((('MIDDLE',), ('Akali',)),\n",
       "  (('DUO_SUPPORT', 'MIDDLE'), ('Taliyah', 'Darius'))): 0.0,\n",
       " ((('MIDDLE', 'JUNGLE'), ('Akali', 'Shaco')),\n",
       "  (('DUO_SUPPORT', 'MIDDLE'), ('Taliyah', 'Darius'))): 0.0,\n",
       " ((('MIDDLE', 'JUNGLE', 'TOP'), ('Akali', 'Shaco', 'Leblanc')),\n",
       "  (('DUO_SUPPORT', 'MIDDLE'), ('Taliyah', 'Darius'))): 0.0,\n",
       " ((('MIDDLE', 'JUNGLE', 'TOP'), ('Akali', 'Shaco', 'Leblanc')),\n",
       "  (('DUO_SUPPORT', 'MIDDLE', 'TOP'), ('Taliyah', 'Darius', 'Teemo'))): 0.0,\n",
       " ((('MIDDLE', 'JUNGLE', 'TOP'), ('Akali', 'Shaco', 'Leblanc')),\n",
       "  (('DUO_SUPPORT', 'MIDDLE', 'TOP', 'JUNGLE'),\n",
       "   ('Taliyah', 'Darius', 'Teemo', 'Evelynn'))): 0.0,\n",
       " ((('MIDDLE', 'JUNGLE', 'TOP', 'DUO_CARRY'),\n",
       "   ('Akali', 'Shaco', 'Leblanc', 'Veigar')),\n",
       "  (('DUO_SUPPORT', 'MIDDLE', 'TOP', 'JUNGLE'),\n",
       "   ('Taliyah', 'Darius', 'Teemo', 'Evelynn'))): 0.0,\n",
       " ((('MIDDLE', 'JUNGLE', 'TOP', 'DUO_CARRY', 'DUO_SUPPORT'),\n",
       "   ('Akali', 'Shaco', 'Leblanc', 'Veigar', 'Ahri')),\n",
       "  (('DUO_SUPPORT', 'MIDDLE', 'TOP', 'JUNGLE'),\n",
       "   ('Taliyah', 'Darius', 'Teemo', 'Evelynn'))): 0,\n",
       " ((('DUO_SUPPORT',), ('Veigar',)), ((), ())): 0.0,\n",
       " ((('DUO_SUPPORT',), ('Veigar',)), (('TOP',), ('Kassadin',))): 0.0,\n",
       " ((('DUO_SUPPORT',), ('Veigar',)),\n",
       "  (('TOP', 'JUNGLE'), ('Kassadin', 'DrMundo'))): 0.0,\n",
       " ((('DUO_SUPPORT', 'JUNGLE'), ('Veigar', 'Riven')),\n",
       "  (('TOP', 'JUNGLE'), ('Kassadin', 'DrMundo'))): 0.0,\n",
       " ((('DUO_SUPPORT', 'JUNGLE', 'MIDDLE'), ('Veigar', 'Riven', 'Vladimir')),\n",
       "  (('TOP', 'JUNGLE'), ('Kassadin', 'DrMundo'))): 0.0,\n",
       " ((('DUO_SUPPORT', 'JUNGLE', 'MIDDLE'), ('Veigar', 'Riven', 'Vladimir')),\n",
       "  (('TOP', 'JUNGLE', 'DUO_SUPPORT'),\n",
       "   ('Kassadin', 'DrMundo', 'Volibear'))): 0.0,\n",
       " ((('DUO_SUPPORT', 'JUNGLE', 'MIDDLE'), ('Veigar', 'Riven', 'Vladimir')),\n",
       "  (('TOP', 'JUNGLE', 'DUO_SUPPORT', 'MIDDLE'),\n",
       "   ('Kassadin', 'DrMundo', 'Volibear', 'Urgot'))): 0.0,\n",
       " ((('DUO_SUPPORT', 'JUNGLE', 'MIDDLE', 'TOP'),\n",
       "   ('Veigar', 'Riven', 'Vladimir', 'Caitlyn')),\n",
       "  (('TOP', 'JUNGLE', 'DUO_SUPPORT', 'MIDDLE'),\n",
       "   ('Kassadin', 'DrMundo', 'Volibear', 'Urgot'))): 0.5,\n",
       " ((('DUO_SUPPORT', 'JUNGLE', 'MIDDLE', 'TOP', 'DUO_CARRY'),\n",
       "   ('Veigar', 'Riven', 'Vladimir', 'Caitlyn', 'Swain')),\n",
       "  (('TOP', 'JUNGLE', 'DUO_SUPPORT', 'MIDDLE'),\n",
       "   ('Kassadin', 'DrMundo', 'Volibear', 'Urgot'))): 1,\n",
       " ((('JUNGLE',), ('Twitch',)), ((), ())): 0.0,\n",
       " ((('JUNGLE',), ('Twitch',)), (('TOP',), ('Poppy',))): 0.0,\n",
       " ((('JUNGLE',), ('Twitch',)),\n",
       "  (('TOP', 'MIDDLE'), ('Poppy', 'Mordekaiser'))): 0.0,\n",
       " ((('JUNGLE', 'MIDDLE'), ('Twitch', 'Lux')),\n",
       "  (('TOP', 'MIDDLE'), ('Poppy', 'Mordekaiser'))): 0.0,\n",
       " ((('JUNGLE', 'MIDDLE', 'DUO_SUPPORT'), ('Twitch', 'Lux', 'Syndra')),\n",
       "  (('TOP', 'MIDDLE'), ('Poppy', 'Mordekaiser'))): 0.0,\n",
       " ((('JUNGLE', 'MIDDLE', 'DUO_SUPPORT'), ('Twitch', 'Lux', 'Syndra')),\n",
       "  (('TOP', 'MIDDLE', 'JUNGLE'), ('Poppy', 'Mordekaiser', 'Taliyah'))): 0.0,\n",
       " ((('JUNGLE', 'MIDDLE', 'DUO_SUPPORT'), ('Twitch', 'Lux', 'Syndra')),\n",
       "  (('TOP', 'MIDDLE', 'JUNGLE', 'DUO_CARRY'),\n",
       "   ('Poppy', 'Mordekaiser', 'Taliyah', 'Vayne'))): 0.0,\n",
       " ((('JUNGLE', 'MIDDLE', 'DUO_SUPPORT', 'TOP'),\n",
       "   ('Twitch', 'Lux', 'Syndra', 'Kled')),\n",
       "  (('TOP', 'MIDDLE', 'JUNGLE', 'DUO_CARRY'),\n",
       "   ('Poppy', 'Mordekaiser', 'Taliyah', 'Vayne'))): 0.0,\n",
       " ((('JUNGLE', 'MIDDLE', 'DUO_SUPPORT', 'TOP', 'DUO_CARRY'),\n",
       "   ('Twitch', 'Lux', 'Syndra', 'Kled', 'Ezreal')),\n",
       "  (('TOP', 'MIDDLE', 'JUNGLE', 'DUO_CARRY'),\n",
       "   ('Poppy', 'Mordekaiser', 'Taliyah', 'Vayne'))): 0,\n",
       " ((('TOP',), ('MasterYi',)), ((), ())): 0.0,\n",
       " ((('TOP',), ('MasterYi',)), (('MIDDLE',), ('Zilean',))): 0.0,\n",
       " ((('TOP',), ('MasterYi',)), (('MIDDLE', 'TOP'), ('Zilean', 'Karma'))): 0.0,\n",
       " ((('TOP', 'DUO_SUPPORT'), ('MasterYi', 'Ashe')),\n",
       "  (('MIDDLE', 'TOP'), ('Zilean', 'Karma'))): 0.0,\n",
       " ((('TOP', 'DUO_SUPPORT', 'DUO_CARRY'), ('MasterYi', 'Ashe', 'Varus')),\n",
       "  (('MIDDLE', 'TOP'), ('Zilean', 'Karma'))): 0.0,\n",
       " ((('TOP', 'DUO_SUPPORT', 'DUO_CARRY'), ('MasterYi', 'Ashe', 'Varus')),\n",
       "  (('MIDDLE', 'TOP', 'JUNGLE'), ('Zilean', 'Karma', 'Kindred'))): 0.0,\n",
       " ((('TOP', 'DUO_SUPPORT', 'DUO_CARRY'), ('MasterYi', 'Ashe', 'Varus')),\n",
       "  (('MIDDLE', 'TOP', 'JUNGLE', 'DUO_SUPPORT'),\n",
       "   ('Zilean', 'Karma', 'Kindred', 'Sion'))): 0.0,\n",
       " ((('TOP', 'DUO_SUPPORT', 'DUO_CARRY', 'JUNGLE'),\n",
       "   ('MasterYi', 'Ashe', 'Varus', 'Ekko')),\n",
       "  (('MIDDLE', 'TOP', 'JUNGLE', 'DUO_SUPPORT'),\n",
       "   ('Zilean', 'Karma', 'Kindred', 'Sion'))): 0.0,\n",
       " ((('TOP', 'DUO_SUPPORT', 'DUO_CARRY', 'JUNGLE', 'MIDDLE'),\n",
       "   ('MasterYi', 'Ashe', 'Varus', 'Ekko', 'Kassadin')),\n",
       "  (('MIDDLE', 'TOP', 'JUNGLE', 'DUO_SUPPORT'),\n",
       "   ('Zilean', 'Karma', 'Kindred', 'Sion'))): 0,\n",
       " ((('MIDDLE',), ('Jayce',)), ((), ())): 0.0,\n",
       " ((('MIDDLE',), ('Jayce',)), (('DUO_CARRY',), ('Kalista',))): 0.0,\n",
       " ((('MIDDLE',), ('Jayce',)),\n",
       "  (('DUO_CARRY', 'DUO_SUPPORT'), ('Kalista', 'Nautilus'))): 0.0,\n",
       " ((('MIDDLE', 'TOP'), ('Jayce', 'Rengar')),\n",
       "  (('DUO_CARRY', 'DUO_SUPPORT'), ('Kalista', 'Nautilus'))): 0.0,\n",
       " ((('MIDDLE', 'TOP', 'JUNGLE'), ('Jayce', 'Rengar', 'Graves')),\n",
       "  (('DUO_CARRY', 'DUO_SUPPORT'), ('Kalista', 'Nautilus'))): 0.0,\n",
       " ((('MIDDLE', 'TOP', 'JUNGLE'), ('Jayce', 'Rengar', 'Graves')),\n",
       "  (('DUO_CARRY', 'DUO_SUPPORT', 'TOP'),\n",
       "   ('Kalista', 'Nautilus', 'Gangplank'))): 0.0,\n",
       " ((('MIDDLE', 'TOP', 'JUNGLE'), ('Jayce', 'Rengar', 'Graves')),\n",
       "  (('DUO_CARRY', 'DUO_SUPPORT', 'TOP', 'MIDDLE'),\n",
       "   ('Kalista', 'Nautilus', 'Gangplank', 'Volibear'))): 0.0,\n",
       " ((('MIDDLE', 'TOP', 'JUNGLE', 'DUO_SUPPORT'),\n",
       "   ('Jayce', 'Rengar', 'Graves', 'Morgana')),\n",
       "  (('DUO_CARRY', 'DUO_SUPPORT', 'TOP', 'MIDDLE'),\n",
       "   ('Kalista', 'Nautilus', 'Gangplank', 'Volibear'))): 0.5,\n",
       " ((('MIDDLE', 'TOP', 'JUNGLE', 'DUO_SUPPORT', 'DUO_CARRY'),\n",
       "   ('Jayce', 'Rengar', 'Graves', 'Morgana', 'Ziggs')),\n",
       "  (('DUO_CARRY', 'DUO_SUPPORT', 'TOP', 'MIDDLE'),\n",
       "   ('Kalista', 'Nautilus', 'Gangplank', 'Volibear'))): 1,\n",
       " ((('TOP',), ('Irelia',)), ((), ())): 0.0,\n",
       " ((('TOP',), ('Irelia',)), (('MIDDLE',), ('Nasus',))): 0.0,\n",
       " ((('TOP',), ('Irelia',)),\n",
       "  (('MIDDLE', 'DUO_SUPPORT'), ('Nasus', 'Thresh'))): 0.0,\n",
       " ((('TOP', 'DUO_CARRY'), ('Irelia', 'Kalista')),\n",
       "  (('MIDDLE', 'DUO_SUPPORT'), ('Nasus', 'Thresh'))): 0.0,\n",
       " ((('TOP', 'DUO_CARRY', 'MIDDLE'), ('Irelia', 'Kalista', 'Galio')),\n",
       "  (('MIDDLE', 'DUO_SUPPORT'), ('Nasus', 'Thresh'))): 0.0,\n",
       " ((('TOP', 'DUO_CARRY', 'MIDDLE'), ('Irelia', 'Kalista', 'Galio')),\n",
       "  (('MIDDLE', 'DUO_SUPPORT', 'DUO_CARRY'),\n",
       "   ('Nasus', 'Thresh', 'Kindred'))): 0.0,\n",
       " ((('TOP', 'DUO_CARRY', 'MIDDLE'), ('Irelia', 'Kalista', 'Galio')),\n",
       "  (('MIDDLE', 'DUO_SUPPORT', 'DUO_CARRY', 'TOP'),\n",
       "   ('Nasus', 'Thresh', 'Kindred', 'Ezreal'))): 0.0,\n",
       " ((('TOP', 'DUO_CARRY', 'MIDDLE', 'JUNGLE'),\n",
       "   ('Irelia', 'Kalista', 'Galio', 'Trundle')),\n",
       "  (('MIDDLE', 'DUO_SUPPORT', 'DUO_CARRY', 'TOP'),\n",
       "   ('Nasus', 'Thresh', 'Kindred', 'Ezreal'))): 0.0,\n",
       " ((('TOP', 'DUO_CARRY', 'MIDDLE', 'JUNGLE', 'DUO_SUPPORT'),\n",
       "   ('Irelia', 'Kalista', 'Galio', 'Trundle', 'Lulu')),\n",
       "  (('MIDDLE', 'DUO_SUPPORT', 'DUO_CARRY', 'TOP'),\n",
       "   ('Nasus', 'Thresh', 'Kindred', 'Ezreal'))): 0,\n",
       " ((('JUNGLE',), ('Teemo',)), ((), ())): 0.0,\n",
       " ((('JUNGLE',), ('Teemo',)), (('DUO_SUPPORT',), ('Sejuani',))): 0.0,\n",
       " ((('JUNGLE',), ('Teemo',)),\n",
       "  (('DUO_SUPPORT', 'TOP'), ('Sejuani', 'Trundle'))): 0.0,\n",
       " ((('JUNGLE', 'MIDDLE'), ('Teemo', 'Tryndamere')),\n",
       "  (('DUO_SUPPORT', 'TOP'), ('Sejuani', 'Trundle'))): 0.0,\n",
       " ((('JUNGLE', 'MIDDLE', 'DUO_CARRY'), ('Teemo', 'Tryndamere', 'Viktor')),\n",
       "  (('DUO_SUPPORT', 'TOP'), ('Sejuani', 'Trundle'))): 0.0,\n",
       " ((('JUNGLE', 'MIDDLE', 'DUO_CARRY'), ('Teemo', 'Tryndamere', 'Viktor')),\n",
       "  (('DUO_SUPPORT', 'TOP', 'DUO_CARRY'), ('Sejuani', 'Trundle', 'Brand'))): 0.0,\n",
       " ((('JUNGLE', 'MIDDLE', 'DUO_CARRY'), ('Teemo', 'Tryndamere', 'Viktor')),\n",
       "  (('DUO_SUPPORT', 'TOP', 'DUO_CARRY', 'JUNGLE'),\n",
       "   ('Sejuani', 'Trundle', 'Brand', 'Nunu'))): 0.0,\n",
       " ((('JUNGLE', 'MIDDLE', 'DUO_CARRY', 'TOP'),\n",
       "   ('Teemo', 'Tryndamere', 'Viktor', 'Gangplank')),\n",
       "  (('DUO_SUPPORT', 'TOP', 'DUO_CARRY', 'JUNGLE'),\n",
       "   ('Sejuani', 'Trundle', 'Brand', 'Nunu'))): 0.0,\n",
       " ((('JUNGLE', 'MIDDLE', 'DUO_CARRY', 'TOP', 'DUO_SUPPORT'),\n",
       "   ('Teemo', 'Tryndamere', 'Viktor', 'Gangplank', 'Lulu')),\n",
       "  (('DUO_SUPPORT', 'TOP', 'DUO_CARRY', 'JUNGLE'),\n",
       "   ('Sejuani', 'Trundle', 'Brand', 'Nunu'))): 0,\n",
       " ((('MIDDLE',), ('Lissandra',)), ((), ())): 0.0,\n",
       " ((('MIDDLE',), ('Lissandra',)), (('TOP',), ('Veigar',))): 0.0,\n",
       " ((('MIDDLE',), ('Lissandra',)),\n",
       "  (('TOP', 'JUNGLE'), ('Veigar', 'Kindred'))): 0.0,\n",
       " ((('MIDDLE', 'DUO_SUPPORT'), ('Lissandra', 'Soraka')),\n",
       "  (('TOP', 'JUNGLE'), ('Veigar', 'Kindred'))): 0.0,\n",
       " ((('MIDDLE', 'DUO_SUPPORT', 'TOP'), ('Lissandra', 'Soraka', 'Graves')),\n",
       "  (('TOP', 'JUNGLE'), ('Veigar', 'Kindred'))): 0.0,\n",
       " ((('MIDDLE', 'DUO_SUPPORT', 'TOP'), ('Lissandra', 'Soraka', 'Graves')),\n",
       "  (('TOP', 'JUNGLE', 'MIDDLE'), ('Veigar', 'Kindred', 'Karthus'))): 0.0,\n",
       " ((('MIDDLE', 'DUO_SUPPORT', 'TOP'), ('Lissandra', 'Soraka', 'Graves')),\n",
       "  (('TOP', 'JUNGLE', 'MIDDLE', 'DUO_SUPPORT'),\n",
       "   ('Veigar', 'Kindred', 'Karthus', 'Poppy'))): 0.0,\n",
       " ((('MIDDLE', 'DUO_SUPPORT', 'TOP', 'DUO_CARRY'),\n",
       "   ('Lissandra', 'Soraka', 'Graves', 'Ezreal')),\n",
       "  (('TOP', 'JUNGLE', 'MIDDLE', 'DUO_SUPPORT'),\n",
       "   ('Veigar', 'Kindred', 'Karthus', 'Poppy'))): 0.5,\n",
       " ((('MIDDLE', 'DUO_SUPPORT', 'TOP', 'DUO_CARRY', 'JUNGLE'),\n",
       "   ('Lissandra', 'Soraka', 'Graves', 'Ezreal', 'Warwick')),\n",
       "  (('TOP', 'JUNGLE', 'MIDDLE', 'DUO_SUPPORT'),\n",
       "   ('Veigar', 'Kindred', 'Karthus', 'Poppy'))): 1,\n",
       " ((('MIDDLE',), ('Malphite',)), ((), ())): 0.0,\n",
       " ((('MIDDLE',), ('Malphite',)), (('TOP',), ('Kassadin',))): 0.0,\n",
       " ((('MIDDLE',), ('Malphite',)), (('TOP', 'JUNGLE'), ('Kassadin', 'Zac'))): 0.0,\n",
       " ((('MIDDLE', 'DUO_SUPPORT'), ('Malphite', 'Poppy')),\n",
       "  (('TOP', 'JUNGLE'), ('Kassadin', 'Zac'))): 0.0,\n",
       " ((('MIDDLE', 'DUO_SUPPORT', 'TOP'), ('Malphite', 'Poppy', 'Gangplank')),\n",
       "  (('TOP', 'JUNGLE'), ('Kassadin', 'Zac'))): 0.0,\n",
       " ((('MIDDLE', 'DUO_SUPPORT', 'TOP'), ('Malphite', 'Poppy', 'Gangplank')),\n",
       "  (('TOP', 'JUNGLE', 'DUO_SUPPORT'), ('Kassadin', 'Zac', 'Zoe'))): 0.0,\n",
       " ((('MIDDLE', 'DUO_SUPPORT', 'TOP'), ('Malphite', 'Poppy', 'Gangplank')),\n",
       "  (('TOP', 'JUNGLE', 'DUO_SUPPORT', 'DUO_CARRY'),\n",
       "   ('Kassadin', 'Zac', 'Zoe', 'Ashe'))): 0.0,\n",
       " ((('MIDDLE', 'DUO_SUPPORT', 'TOP', 'JUNGLE'),\n",
       "   ('Malphite', 'Poppy', 'Gangplank', 'Nasus')),\n",
       "  (('TOP', 'JUNGLE', 'DUO_SUPPORT', 'DUO_CARRY'),\n",
       "   ('Kassadin', 'Zac', 'Zoe', 'Ashe'))): 0.5,\n",
       " ((('MIDDLE', 'DUO_SUPPORT', 'TOP', 'JUNGLE', 'DUO_CARRY'),\n",
       "   ('Malphite', 'Poppy', 'Gangplank', 'Nasus', 'Ziggs')),\n",
       "  (('TOP', 'JUNGLE', 'DUO_SUPPORT', 'DUO_CARRY'),\n",
       "   ('Kassadin', 'Zac', 'Zoe', 'Ashe'))): 1,\n",
       " ((('MIDDLE',), ('Kaisa',)), ((), ())): 0.0,\n",
       " ((('MIDDLE',), ('Kaisa',)), (('DUO_CARRY',), ('Sivir',))): 0.0,\n",
       " ((('MIDDLE',), ('Kaisa',)),\n",
       "  (('DUO_CARRY', 'TOP'), ('Sivir', 'Malphite'))): 0.0,\n",
       " ((('MIDDLE', 'JUNGLE'), ('Kaisa', 'Kayn')),\n",
       "  (('DUO_CARRY', 'TOP'), ('Sivir', 'Malphite'))): 0.0,\n",
       " ((('MIDDLE', 'JUNGLE', 'DUO_SUPPORT'), ('Kaisa', 'Kayn', 'Trundle')),\n",
       "  (('DUO_CARRY', 'TOP'), ('Sivir', 'Malphite'))): 0.0,\n",
       " ((('MIDDLE', 'JUNGLE', 'DUO_SUPPORT'), ('Kaisa', 'Kayn', 'Trundle')),\n",
       "  (('DUO_CARRY', 'TOP', 'JUNGLE'), ('Sivir', 'Malphite', 'Sion'))): 0.0,\n",
       " ((('MIDDLE', 'JUNGLE', 'DUO_SUPPORT'), ('Kaisa', 'Kayn', 'Trundle')),\n",
       "  (('DUO_CARRY', 'TOP', 'JUNGLE', 'MIDDLE'),\n",
       "   ('Sivir', 'Malphite', 'Sion', 'Sylas'))): 0.0,\n",
       " ((('MIDDLE', 'JUNGLE', 'DUO_SUPPORT', 'TOP'),\n",
       "   ('Kaisa', 'Kayn', 'Trundle', 'Renekton')),\n",
       "  (('DUO_CARRY', 'TOP', 'JUNGLE', 'MIDDLE'),\n",
       "   ('Sivir', 'Malphite', 'Sion', 'Sylas'))): 0.0,\n",
       " ((('MIDDLE', 'JUNGLE', 'DUO_SUPPORT', 'TOP', 'DUO_CARRY'),\n",
       "   ('Kaisa', 'Kayn', 'Trundle', 'Renekton', 'Kennen')),\n",
       "  (('DUO_CARRY', 'TOP', 'JUNGLE', 'MIDDLE'),\n",
       "   ('Sivir', 'Malphite', 'Sion', 'Sylas'))): 0,\n",
       " ((('TOP',), ('Kennen',)), ((), ())): 0.0,\n",
       " ((('TOP',), ('Kennen',)), (('JUNGLE',), ('Trundle',))): 0.0,\n",
       " ((('TOP',), ('Kennen',)),\n",
       "  (('JUNGLE', 'DUO_SUPPORT'), ('Trundle', 'Soraka'))): 0.0,\n",
       " ((('TOP', 'DUO_CARRY'), ('Kennen', 'Heimerdinger')),\n",
       "  (('JUNGLE', 'DUO_SUPPORT'), ('Trundle', 'Soraka'))): 0.0,\n",
       " ((('TOP', 'DUO_CARRY', 'MIDDLE'), ('Kennen', 'Heimerdinger', 'Poppy')),\n",
       "  (('JUNGLE', 'DUO_SUPPORT'), ('Trundle', 'Soraka'))): 0.0,\n",
       " ((('TOP', 'DUO_CARRY', 'MIDDLE'), ('Kennen', 'Heimerdinger', 'Poppy')),\n",
       "  (('JUNGLE', 'DUO_SUPPORT', 'MIDDLE'), ('Trundle', 'Soraka', 'Neeko'))): 0.0,\n",
       " ((('TOP', 'DUO_CARRY', 'MIDDLE'), ('Kennen', 'Heimerdinger', 'Poppy')),\n",
       "  (('JUNGLE', 'DUO_SUPPORT', 'MIDDLE', 'DUO_CARRY'),\n",
       "   ('Trundle', 'Soraka', 'Neeko', 'Kalista'))): 0.0,\n",
       " ((('TOP', 'DUO_CARRY', 'MIDDLE', 'JUNGLE'),\n",
       "   ('Kennen', 'Heimerdinger', 'Poppy', 'RekSai')),\n",
       "  (('JUNGLE', 'DUO_SUPPORT', 'MIDDLE', 'DUO_CARRY'),\n",
       "   ('Trundle', 'Soraka', 'Neeko', 'Kalista'))): 0.0,\n",
       " ((('TOP', 'DUO_CARRY', 'MIDDLE', 'JUNGLE', 'DUO_SUPPORT'),\n",
       "   ('Kennen', 'Heimerdinger', 'Poppy', 'RekSai', 'Malphite')),\n",
       "  (('JUNGLE', 'DUO_SUPPORT', 'MIDDLE', 'DUO_CARRY'),\n",
       "   ('Trundle', 'Soraka', 'Neeko', 'Kalista'))): 0,\n",
       " ((('DUO_CARRY',), ('Sivir',)), (('TOP',), ('MasterYi',))): 0.0,\n",
       " ((('DUO_CARRY',), ('Sivir',)),\n",
       "  (('TOP', 'DUO_SUPPORT'), ('MasterYi', 'Janna'))): 0.0,\n",
       " ((('DUO_CARRY', 'TOP'), ('Sivir', 'Fiora')),\n",
       "  (('TOP', 'DUO_SUPPORT'), ('MasterYi', 'Janna'))): 0.0,\n",
       " ((('DUO_CARRY', 'TOP', 'JUNGLE'), ('Sivir', 'Fiora', 'Olaf')),\n",
       "  (('TOP', 'DUO_SUPPORT'), ('MasterYi', 'Janna'))): 0.0,\n",
       " ((('DUO_CARRY', 'TOP', 'JUNGLE'), ('Sivir', 'Fiora', 'Olaf')),\n",
       "  (('TOP', 'DUO_SUPPORT', 'DUO_CARRY'), ('MasterYi', 'Janna', 'Jinx'))): 0.0,\n",
       " ((('DUO_CARRY', 'TOP', 'JUNGLE'), ('Sivir', 'Fiora', 'Olaf')),\n",
       "  (('TOP', 'DUO_SUPPORT', 'DUO_CARRY', 'JUNGLE'),\n",
       "   ('MasterYi', 'Janna', 'Jinx', 'Pantheon'))): 0.0,\n",
       " ((('DUO_CARRY', 'TOP', 'JUNGLE', 'DUO_SUPPORT'),\n",
       "   ('Sivir', 'Fiora', 'Olaf', 'Nautilus')),\n",
       "  (('TOP', 'DUO_SUPPORT', 'DUO_CARRY', 'JUNGLE'),\n",
       "   ('MasterYi', 'Janna', 'Jinx', 'Pantheon'))): 0.0,\n",
       " ((('DUO_CARRY', 'TOP', 'JUNGLE', 'DUO_SUPPORT', 'MIDDLE'),\n",
       "   ('Sivir', 'Fiora', 'Olaf', 'Nautilus', 'Malzahar')),\n",
       "  (('TOP', 'DUO_SUPPORT', 'DUO_CARRY', 'JUNGLE'),\n",
       "   ('MasterYi', 'Janna', 'Jinx', 'Pantheon'))): 0,\n",
       " ((('MIDDLE',), ('Ryze',)), ((), ())): 0.0,\n",
       " ((('MIDDLE',), ('Ryze',)), (('DUO_SUPPORT',), ('Morgana',))): 0.0,\n",
       " ((('MIDDLE',), ('Ryze',)),\n",
       "  (('DUO_SUPPORT', 'JUNGLE'), ('Morgana', 'Warwick'))): 0.0,\n",
       " ((('MIDDLE', 'JUNGLE'), ('Ryze', 'MonkeyKing')),\n",
       "  (('DUO_SUPPORT', 'JUNGLE'), ('Morgana', 'Warwick'))): 0.0,\n",
       " ((('MIDDLE', 'JUNGLE', 'TOP'), ('Ryze', 'MonkeyKing', 'Nautilus')),\n",
       "  (('DUO_SUPPORT', 'JUNGLE'), ('Morgana', 'Warwick'))): 0.0,\n",
       " ((('MIDDLE', 'JUNGLE', 'TOP'), ('Ryze', 'MonkeyKing', 'Nautilus')),\n",
       "  (('DUO_SUPPORT', 'JUNGLE', 'TOP'), ('Morgana', 'Warwick', 'Diana'))): 0.0,\n",
       " ((('MIDDLE', 'JUNGLE', 'TOP'), ('Ryze', 'MonkeyKing', 'Nautilus')),\n",
       "  (('DUO_SUPPORT', 'JUNGLE', 'TOP', 'MIDDLE'),\n",
       "   ('Morgana', 'Warwick', 'Diana', 'Zoe'))): 0.0,\n",
       " ((('MIDDLE', 'JUNGLE', 'TOP', 'DUO_CARRY'),\n",
       "   ('Ryze', 'MonkeyKing', 'Nautilus', 'Veigar')),\n",
       "  (('DUO_SUPPORT', 'JUNGLE', 'TOP', 'MIDDLE'),\n",
       "   ('Morgana', 'Warwick', 'Diana', 'Zoe'))): 0.0,\n",
       " ((('MIDDLE', 'JUNGLE', 'TOP', 'DUO_CARRY', 'DUO_SUPPORT'),\n",
       "   ('Ryze', 'MonkeyKing', 'Nautilus', 'Veigar', 'Pyke')),\n",
       "  (('DUO_SUPPORT', 'JUNGLE', 'TOP', 'MIDDLE'),\n",
       "   ('Morgana', 'Warwick', 'Diana', 'Zoe'))): 0,\n",
       " ((('JUNGLE',), ('Volibear',)), ((), ())): 0.0,\n",
       " ((('JUNGLE',), ('Volibear',)), (('DUO_CARRY',), ('Kalista',))): 0.0,\n",
       " ((('JUNGLE',), ('Volibear',)),\n",
       "  (('DUO_CARRY', 'TOP'), ('Kalista', 'Teemo'))): 0.0,\n",
       " ((('JUNGLE', 'TOP'), ('Volibear', 'Neeko')),\n",
       "  (('DUO_CARRY', 'TOP'), ('Kalista', 'Teemo'))): 0.0,\n",
       " ((('JUNGLE', 'TOP', 'DUO_SUPPORT'), ('Volibear', 'Neeko', 'JarvanIV')),\n",
       "  (('DUO_CARRY', 'TOP'), ('Kalista', 'Teemo'))): 0.0,\n",
       " ((('JUNGLE', 'TOP', 'DUO_SUPPORT'), ('Volibear', 'Neeko', 'JarvanIV')),\n",
       "  (('DUO_CARRY', 'TOP', 'MIDDLE'), ('Kalista', 'Teemo', 'Sylas'))): 0.0,\n",
       " ((('JUNGLE', 'TOP', 'DUO_SUPPORT'), ('Volibear', 'Neeko', 'JarvanIV')),\n",
       "  (('DUO_CARRY', 'TOP', 'MIDDLE', 'JUNGLE'),\n",
       "   ('Kalista', 'Teemo', 'Sylas', 'Taliyah'))): 0.0,\n",
       " ((('JUNGLE', 'TOP', 'DUO_SUPPORT', 'MIDDLE'),\n",
       "   ('Volibear', 'Neeko', 'JarvanIV', 'Katarina')),\n",
       "  (('DUO_CARRY', 'TOP', 'MIDDLE', 'JUNGLE'),\n",
       "   ('Kalista', 'Teemo', 'Sylas', 'Taliyah'))): 0.0,\n",
       " ((('JUNGLE', 'TOP', 'DUO_SUPPORT', 'MIDDLE', 'DUO_CARRY'),\n",
       "   ('Volibear', 'Neeko', 'JarvanIV', 'Katarina', 'Quinn')),\n",
       "  (('DUO_CARRY', 'TOP', 'MIDDLE', 'JUNGLE'),\n",
       "   ('Kalista', 'Teemo', 'Sylas', 'Taliyah'))): 0,\n",
       " ((('MIDDLE',), ('Rammus',)), (('DUO_CARRY',), ('Teemo',))): 0.0,\n",
       " ((('MIDDLE',), ('Rammus',)),\n",
       "  (('DUO_CARRY', 'MIDDLE'), ('Teemo', 'Tryndamere'))): 0.0,\n",
       " ((('MIDDLE', 'TOP'), ('Rammus', 'Lucian')),\n",
       "  (('DUO_CARRY', 'MIDDLE'), ('Teemo', 'Tryndamere'))): 0.0,\n",
       " ((('MIDDLE', 'TOP', 'JUNGLE'), ('Rammus', 'Lucian', 'Rumble')),\n",
       "  (('DUO_CARRY', 'MIDDLE'), ('Teemo', 'Tryndamere'))): 0.0,\n",
       " ((('MIDDLE', 'TOP', 'JUNGLE'), ('Rammus', 'Lucian', 'Rumble')),\n",
       "  (('DUO_CARRY', 'MIDDLE', 'JUNGLE'),\n",
       "   ('Teemo', 'Tryndamere', 'Karthus'))): 0.0,\n",
       " ((('MIDDLE', 'TOP', 'JUNGLE'), ('Rammus', 'Lucian', 'Rumble')),\n",
       "  (('DUO_CARRY', 'MIDDLE', 'JUNGLE', 'DUO_SUPPORT'),\n",
       "   ('Teemo', 'Tryndamere', 'Karthus', 'Kennen'))): 0.0,\n",
       " ((('MIDDLE', 'TOP', 'JUNGLE', 'DUO_CARRY'),\n",
       "   ('Rammus', 'Lucian', 'Rumble', 'Yasuo')),\n",
       "  (('DUO_CARRY', 'MIDDLE', 'JUNGLE', 'DUO_SUPPORT'),\n",
       "   ('Teemo', 'Tryndamere', 'Karthus', 'Kennen'))): 0.5,\n",
       " ((('MIDDLE', 'TOP', 'JUNGLE', 'DUO_CARRY', 'DUO_SUPPORT'),\n",
       "   ('Rammus', 'Lucian', 'Rumble', 'Yasuo', 'Malphite')),\n",
       "  (('DUO_CARRY', 'MIDDLE', 'JUNGLE', 'DUO_SUPPORT'),\n",
       "   ('Teemo', 'Tryndamere', 'Karthus', 'Kennen'))): 1,\n",
       " ((('TOP',), ('Neeko',)), ((), ())): 0.0,\n",
       " ((('TOP',), ('Neeko',)), (('DUO_CARRY',), ('Varus',))): 0.0,\n",
       " ((('TOP',), ('Neeko',)),\n",
       "  (('DUO_CARRY', 'JUNGLE'), ('Varus', 'DrMundo'))): 0.0,\n",
       " ((('TOP', 'MIDDLE'), ('Neeko', 'Ezreal')),\n",
       "  (('DUO_CARRY', 'JUNGLE'), ('Varus', 'DrMundo'))): 0.0,\n",
       " ((('TOP', 'MIDDLE', 'DUO_CARRY'), ('Neeko', 'Ezreal', 'Vladimir')),\n",
       "  (('DUO_CARRY', 'JUNGLE'), ('Varus', 'DrMundo'))): 0.0,\n",
       " ((('TOP', 'MIDDLE', 'DUO_CARRY'), ('Neeko', 'Ezreal', 'Vladimir')),\n",
       "  (('DUO_CARRY', 'JUNGLE', 'MIDDLE'), ('Varus', 'DrMundo', 'Zed'))): 0.0,\n",
       " ((('TOP', 'MIDDLE', 'DUO_CARRY'), ('Neeko', 'Ezreal', 'Vladimir')),\n",
       "  (('DUO_CARRY', 'JUNGLE', 'MIDDLE', 'DUO_SUPPORT'),\n",
       "   ('Varus', 'DrMundo', 'Zed', 'Ziggs'))): 0.0,\n",
       " ((('TOP', 'MIDDLE', 'DUO_CARRY', 'JUNGLE'),\n",
       "   ('Neeko', 'Ezreal', 'Vladimir', 'Chogath')),\n",
       "  (('DUO_CARRY', 'JUNGLE', 'MIDDLE', 'DUO_SUPPORT'),\n",
       "   ('Varus', 'DrMundo', 'Zed', 'Ziggs'))): 0.0,\n",
       " ((('TOP', 'MIDDLE', 'DUO_CARRY', 'JUNGLE', 'DUO_SUPPORT'),\n",
       "   ('Neeko', 'Ezreal', 'Vladimir', 'Chogath', 'Volibear')),\n",
       "  (('DUO_CARRY', 'JUNGLE', 'MIDDLE', 'DUO_SUPPORT'),\n",
       "   ('Varus', 'DrMundo', 'Zed', 'Ziggs'))): 0,\n",
       " ((('TOP',), ('Fizz',)), ((), ())): 0.0,\n",
       " ((('TOP',), ('Fizz',)), (('TOP',), ('Viktor',))): 0.0,\n",
       " ((('TOP',), ('Fizz',)), (('TOP', 'DUO_SUPPORT'), ('Viktor', 'Ziggs'))): 0.0,\n",
       " ((('TOP', 'MIDDLE'), ('Fizz', 'Kennen')),\n",
       "  (('TOP', 'DUO_SUPPORT'), ('Viktor', 'Ziggs'))): 0.0,\n",
       " ((('TOP', 'MIDDLE', 'DUO_CARRY'), ('Fizz', 'Kennen', 'Xerath')),\n",
       "  (('TOP', 'DUO_SUPPORT'), ('Viktor', 'Ziggs'))): 0.0,\n",
       " ((('TOP', 'MIDDLE', 'DUO_CARRY'), ('Fizz', 'Kennen', 'Xerath')),\n",
       "  (('TOP', 'DUO_SUPPORT', 'DUO_CARRY'), ('Viktor', 'Ziggs', 'Veigar'))): 0.0,\n",
       " ((('TOP', 'MIDDLE', 'DUO_CARRY'), ('Fizz', 'Kennen', 'Xerath')),\n",
       "  (('TOP', 'DUO_SUPPORT', 'DUO_CARRY', 'JUNGLE'),\n",
       "   ('Viktor', 'Ziggs', 'Veigar', 'Zac'))): 0.0,\n",
       " ((('TOP', 'MIDDLE', 'DUO_CARRY', 'DUO_SUPPORT'),\n",
       "   ('Fizz', 'Kennen', 'Xerath', 'Maokai')),\n",
       "  (('TOP', 'DUO_SUPPORT', 'DUO_CARRY', 'JUNGLE'),\n",
       "   ('Viktor', 'Ziggs', 'Veigar', 'Zac'))): 0.5,\n",
       " ((('TOP', 'MIDDLE', 'DUO_CARRY', 'DUO_SUPPORT', 'JUNGLE'),\n",
       "   ('Fizz', 'Kennen', 'Xerath', 'Maokai', 'Elise')),\n",
       "  (('TOP', 'DUO_SUPPORT', 'DUO_CARRY', 'JUNGLE'),\n",
       "   ('Viktor', 'Ziggs', 'Veigar', 'Zac'))): 1,\n",
       " ((('DUO_CARRY',), ('Varus',)), ((), ())): 0.0,\n",
       " ((('DUO_CARRY',), ('Varus',)), (('MIDDLE',), ('Akali',))): 0.0,\n",
       " ((('DUO_CARRY',), ('Varus',)),\n",
       "  (('MIDDLE', 'JUNGLE'), ('Akali', 'LeeSin'))): 0.0,\n",
       " ((('DUO_CARRY', 'JUNGLE'), ('Varus', 'Nunu')),\n",
       "  (('MIDDLE', 'JUNGLE'), ('Akali', 'LeeSin'))): 0.0,\n",
       " ((('DUO_CARRY', 'JUNGLE', 'TOP'), ('Varus', 'Nunu', 'Lulu')),\n",
       "  (('MIDDLE', 'JUNGLE'), ('Akali', 'LeeSin'))): 0.0,\n",
       " ((('DUO_CARRY', 'JUNGLE', 'TOP'), ('Varus', 'Nunu', 'Lulu')),\n",
       "  (('MIDDLE', 'JUNGLE', 'DUO_SUPPORT'), ('Akali', 'LeeSin', 'Poppy'))): 0.0,\n",
       " ((('DUO_CARRY', 'JUNGLE', 'TOP'), ('Varus', 'Nunu', 'Lulu')),\n",
       "  (('MIDDLE', 'JUNGLE', 'DUO_SUPPORT', 'TOP'),\n",
       "   ('Akali', 'LeeSin', 'Poppy', 'Cassiopeia'))): 0.0,\n",
       " ((('DUO_CARRY', 'JUNGLE', 'TOP', 'MIDDLE'),\n",
       "   ('Varus', 'Nunu', 'Lulu', 'Darius')),\n",
       "  (('MIDDLE', 'JUNGLE', 'DUO_SUPPORT', 'TOP'),\n",
       "   ('Akali', 'LeeSin', 'Poppy', 'Cassiopeia'))): 0.5,\n",
       " ((('DUO_CARRY', 'JUNGLE', 'TOP', 'MIDDLE', 'DUO_SUPPORT'),\n",
       "   ('Varus', 'Nunu', 'Lulu', 'Darius', 'Velkoz')),\n",
       "  (('MIDDLE', 'JUNGLE', 'DUO_SUPPORT', 'TOP'),\n",
       "   ('Akali', 'LeeSin', 'Poppy', 'Cassiopeia'))): 1,\n",
       " ((('DUO_CARRY',), ('Heimerdinger',)), ((), ())): 0.0,\n",
       " ((('DUO_CARRY',), ('Heimerdinger',)), (('DUO_CARRY',), ('Vladimir',))): 0.0,\n",
       " ((('DUO_CARRY',), ('Heimerdinger',)),\n",
       "  (('DUO_CARRY', 'DUO_SUPPORT'), ('Vladimir', 'Taric'))): 0.0,\n",
       " ((('DUO_CARRY', 'DUO_SUPPORT'), ('Heimerdinger', 'Veigar')),\n",
       "  (('DUO_CARRY', 'DUO_SUPPORT'), ('Vladimir', 'Taric'))): 0.0,\n",
       " ((('DUO_CARRY', 'DUO_SUPPORT', 'TOP'), ('Heimerdinger', 'Veigar', 'DrMundo')),\n",
       "  (('DUO_CARRY', 'DUO_SUPPORT'), ('Vladimir', 'Taric'))): 0.0,\n",
       " ((('DUO_CARRY', 'DUO_SUPPORT', 'TOP'), ('Heimerdinger', 'Veigar', 'DrMundo')),\n",
       "  (('DUO_CARRY', 'DUO_SUPPORT', 'MIDDLE'),\n",
       "   ('Vladimir', 'Taric', 'Velkoz'))): 0.0,\n",
       " ((('DUO_CARRY', 'DUO_SUPPORT', 'TOP'), ('Heimerdinger', 'Veigar', 'DrMundo')),\n",
       "  (('DUO_CARRY', 'DUO_SUPPORT', 'MIDDLE', 'JUNGLE'),\n",
       "   ('Vladimir', 'Taric', 'Velkoz', 'Olaf'))): 0.0,\n",
       " ((('DUO_CARRY', 'DUO_SUPPORT', 'TOP', 'JUNGLE'),\n",
       "   ('Heimerdinger', 'Veigar', 'DrMundo', 'Skarner')),\n",
       "  (('DUO_CARRY', 'DUO_SUPPORT', 'MIDDLE', 'JUNGLE'),\n",
       "   ('Vladimir', 'Taric', 'Velkoz', 'Olaf'))): 0.0,\n",
       " ((('DUO_CARRY', 'DUO_SUPPORT', 'TOP', 'JUNGLE', 'MIDDLE'),\n",
       "   ('Heimerdinger', 'Veigar', 'DrMundo', 'Skarner', 'Caitlyn')),\n",
       "  (('DUO_CARRY', 'DUO_SUPPORT', 'MIDDLE', 'JUNGLE'),\n",
       "   ('Vladimir', 'Taric', 'Velkoz', 'Olaf'))): 0,\n",
       " ((('DUO_CARRY',), ('Kennen',)), ((), ())): 0.0,\n",
       " ((('DUO_CARRY',), ('Kennen',)), (('MIDDLE',), ('Fizz',))): 0.0,\n",
       " ((('DUO_CARRY',), ('Kennen',)),\n",
       "  (('MIDDLE', 'DUO_CARRY'), ('Fizz', 'TwistedFate'))): 0.0,\n",
       " ((('DUO_CARRY', 'TOP'), ('Kennen', 'Kassadin')),\n",
       "  (('MIDDLE', 'DUO_CARRY'), ('Fizz', 'TwistedFate'))): 0.0,\n",
       " ((('DUO_CARRY', 'TOP', 'MIDDLE'), ('Kennen', 'Kassadin', 'Pyke')),\n",
       "  (('MIDDLE', 'DUO_CARRY'), ('Fizz', 'TwistedFate'))): 0.0,\n",
       " ((('DUO_CARRY', 'TOP', 'MIDDLE'), ('Kennen', 'Kassadin', 'Pyke')),\n",
       "  (('MIDDLE', 'DUO_CARRY', 'DUO_SUPPORT'),\n",
       "   ('Fizz', 'TwistedFate', 'Ornn'))): 0.0,\n",
       " ((('DUO_CARRY', 'TOP', 'MIDDLE'), ('Kennen', 'Kassadin', 'Pyke')),\n",
       "  (('MIDDLE', 'DUO_CARRY', 'DUO_SUPPORT', 'JUNGLE'),\n",
       "   ('Fizz', 'TwistedFate', 'Ornn', 'Khazix'))): 0.0,\n",
       " ((('DUO_CARRY', 'TOP', 'MIDDLE', 'JUNGLE'),\n",
       "   ('Kennen', 'Kassadin', 'Pyke', 'Vi')),\n",
       "  (('MIDDLE', 'DUO_CARRY', 'DUO_SUPPORT', 'JUNGLE'),\n",
       "   ('Fizz', 'TwistedFate', 'Ornn', 'Khazix'))): 0.0,\n",
       " ((('DUO_CARRY', 'TOP', 'MIDDLE', 'JUNGLE', 'DUO_SUPPORT'),\n",
       "   ('Kennen', 'Kassadin', 'Pyke', 'Vi', 'Nautilus')),\n",
       "  (('MIDDLE', 'DUO_CARRY', 'DUO_SUPPORT', 'JUNGLE'),\n",
       "   ('Fizz', 'TwistedFate', 'Ornn', 'Khazix'))): 0,\n",
       " ((('TOP',), ('LeeSin',)), (('JUNGLE',), ('Jax',))): 0.0,\n",
       " ((('TOP',), ('LeeSin',)), (('JUNGLE', 'TOP'), ('Jax', 'Aatrox'))): 0.0,\n",
       " ((('TOP', 'MIDDLE'), ('LeeSin', 'Fiddlesticks')),\n",
       "  (('JUNGLE', 'TOP'), ('Jax', 'Aatrox'))): 0.0,\n",
       " ((('TOP', 'MIDDLE', 'JUNGLE'), ('LeeSin', 'Fiddlesticks', 'MasterYi')),\n",
       "  (('JUNGLE', 'TOP'), ('Jax', 'Aatrox'))): 0.0,\n",
       " ((('TOP', 'MIDDLE', 'JUNGLE'), ('LeeSin', 'Fiddlesticks', 'MasterYi')),\n",
       "  (('JUNGLE', 'TOP', 'MIDDLE'), ('Jax', 'Aatrox', 'Garen'))): 0.0,\n",
       " ((('TOP', 'MIDDLE', 'JUNGLE'), ('LeeSin', 'Fiddlesticks', 'MasterYi')),\n",
       "  (('JUNGLE', 'TOP', 'MIDDLE', 'DUO_SUPPORT'),\n",
       "   ('Jax', 'Aatrox', 'Garen', 'Nami'))): 0.0,\n",
       " ((('TOP', 'MIDDLE', 'JUNGLE', 'DUO_SUPPORT'),\n",
       "   ('LeeSin', 'Fiddlesticks', 'MasterYi', 'Kennen')),\n",
       "  (('JUNGLE', 'TOP', 'MIDDLE', 'DUO_SUPPORT'),\n",
       "   ('Jax', 'Aatrox', 'Garen', 'Nami'))): 0.0,\n",
       " ((('TOP', 'MIDDLE', 'JUNGLE', 'DUO_SUPPORT', 'DUO_CARRY'),\n",
       "   ('LeeSin', 'Fiddlesticks', 'MasterYi', 'Kennen', 'Lux')),\n",
       "  (('JUNGLE', 'TOP', 'MIDDLE', 'DUO_SUPPORT'),\n",
       "   ('Jax', 'Aatrox', 'Garen', 'Nami'))): 0,\n",
       " ((('JUNGLE',), ('Ivern',)), ((), ())): 0.0,\n",
       " ((('JUNGLE',), ('Ivern',)), (('TOP',), ('Velkoz',))): 0.0,\n",
       " ((('JUNGLE',), ('Ivern',)), (('TOP', 'JUNGLE'), ('Velkoz', 'Karthus'))): 0.0,\n",
       " ((('JUNGLE', 'DUO_SUPPORT'), ('Ivern', 'Pantheon')),\n",
       "  (('TOP', 'JUNGLE'), ('Velkoz', 'Karthus'))): 0.0,\n",
       " ((('JUNGLE', 'DUO_SUPPORT', 'DUO_CARRY'), ('Ivern', 'Pantheon', 'Orianna')),\n",
       "  (('TOP', 'JUNGLE'), ('Velkoz', 'Karthus'))): 0.0,\n",
       " ((('JUNGLE', 'DUO_SUPPORT', 'DUO_CARRY'), ('Ivern', 'Pantheon', 'Orianna')),\n",
       "  (('TOP', 'JUNGLE', 'DUO_SUPPORT'), ('Velkoz', 'Karthus', 'Lissandra'))): 0.0,\n",
       " ((('JUNGLE', 'DUO_SUPPORT', 'DUO_CARRY'), ('Ivern', 'Pantheon', 'Orianna')),\n",
       "  (('TOP', 'JUNGLE', 'DUO_SUPPORT', 'MIDDLE'),\n",
       "   ('Velkoz', 'Karthus', 'Lissandra', 'Chogath'))): 0.0,\n",
       " ((('JUNGLE', 'DUO_SUPPORT', 'DUO_CARRY', 'TOP'),\n",
       "   ('Ivern', 'Pantheon', 'Orianna', 'Rumble')),\n",
       "  (('TOP', 'JUNGLE', 'DUO_SUPPORT', 'MIDDLE'),\n",
       "   ('Velkoz', 'Karthus', 'Lissandra', 'Chogath'))): 0.0,\n",
       " ((('JUNGLE', 'DUO_SUPPORT', 'DUO_CARRY', 'TOP', 'MIDDLE'),\n",
       "   ('Ivern', 'Pantheon', 'Orianna', 'Rumble', 'Jhin')),\n",
       "  (('TOP', 'JUNGLE', 'DUO_SUPPORT', 'MIDDLE'),\n",
       "   ('Velkoz', 'Karthus', 'Lissandra', 'Chogath'))): 0,\n",
       " ((('TOP',), ('Gragas',)), ((), ())): 0.0,\n",
       " ((('TOP',), ('Gragas',)), (('MIDDLE',), ('Karma',))): 0.0,\n",
       " ((('TOP',), ('Gragas',)), (('MIDDLE', 'JUNGLE'), ('Karma', 'Nunu'))): 0.0,\n",
       " ((('TOP', 'MIDDLE'), ('Gragas', 'Quinn')),\n",
       "  (('MIDDLE', 'JUNGLE'), ('Karma', 'Nunu'))): 0.0,\n",
       " ((('TOP', 'MIDDLE', 'JUNGLE'), ('Gragas', 'Quinn', 'Karthus')),\n",
       "  (('MIDDLE', 'JUNGLE'), ('Karma', 'Nunu'))): 0.0,\n",
       " ((('TOP', 'MIDDLE', 'JUNGLE'), ('Gragas', 'Quinn', 'Karthus')),\n",
       "  (('MIDDLE', 'JUNGLE', 'DUO_SUPPORT'), ('Karma', 'Nunu', 'Lux'))): 0.0,\n",
       " ((('TOP', 'MIDDLE', 'JUNGLE'), ('Gragas', 'Quinn', 'Karthus')),\n",
       "  (('MIDDLE', 'JUNGLE', 'DUO_SUPPORT', 'DUO_CARRY'),\n",
       "   ('Karma', 'Nunu', 'Lux', 'Kalista'))): 0.0,\n",
       " ((('TOP', 'MIDDLE', 'JUNGLE', 'DUO_CARRY'),\n",
       "   ('Gragas', 'Quinn', 'Karthus', 'MissFortune')),\n",
       "  (('MIDDLE', 'JUNGLE', 'DUO_SUPPORT', 'DUO_CARRY'),\n",
       "   ('Karma', 'Nunu', 'Lux', 'Kalista'))): 0.0,\n",
       " ((('TOP', 'MIDDLE', 'JUNGLE', 'DUO_CARRY', 'DUO_SUPPORT'),\n",
       "   ('Gragas', 'Quinn', 'Karthus', 'MissFortune', 'Nami')),\n",
       "  (('MIDDLE', 'JUNGLE', 'DUO_SUPPORT', 'DUO_CARRY'),\n",
       "   ('Karma', 'Nunu', 'Lux', 'Kalista'))): 0}"
      ]
     },
     "execution_count": 134,
     "metadata": {},
     "output_type": "execute_result"
    }
   ],
   "source": [
    "Q"
   ]
  },
  {
   "cell_type": "code",
   "execution_count": 135,
   "metadata": {},
   "outputs": [
    {
     "data": {
      "text/plain": [
       "array([10., 10., 10., 10., 10., 10., 10., 10., 10., 10., 10., 10., 10.,\n",
       "       10., 10., 10., 10., 10., 10., 10., 10., 10., 10., 10., 10., 10.,\n",
       "       10., 10., 10., 10., 10., 10., 10., 10., 10., 10., 10., 10., 10.,\n",
       "       10., 10., 10., 10., 10., 10., 10., 10., 10., 10., 10.])"
      ]
     },
     "execution_count": 135,
     "metadata": {},
     "output_type": "execute_result"
    }
   ],
   "source": [
    "outcomes"
   ]
  },
  {
   "cell_type": "markdown",
   "metadata": {},
   "source": [
    "### Test Q"
   ]
  },
  {
   "cell_type": "markdown",
   "metadata": {},
   "source": [
    "The way my test Q function is written is nothing special. Each player takes a turn that hopefully benefits them (the turn is taken from perspective of either blue or red, as you can see in the epsillonChampGreedy line). Basically it just plays the game Champ Select, and then gives us the ending teams."
   ]
  },
  {
   "cell_type": "code",
   "execution_count": 130,
   "metadata": {},
   "outputs": [],
   "source": [
    "def testQ(Q, league, validMovesF, makeMoveF, bans=[]):\n",
    "    comp1 = {}\n",
    "    comp2 = {}\n",
    "    state = {'blue': comp1, 'red': comp2}\n",
    "    path = [state]\n",
    "    for turn in range(11):\n",
    "        #If blue/comp1 turn [1,4,5,8,9]\n",
    "        if turn+1 == 1 or turn+1 == 4 or turn+1 == 5 or turn+1 == 8 or turn+1 == 9:\n",
    "\n",
    "            # Make a move\n",
    "            move = epsilonChampGreedy(0, Q, league, state['blue'], state['red'], bans)\n",
    "            newComp = makeChampMove(league, move, state['blue'], state['red'], bans=[])\n",
    "            state['blue'] = newComp #Update the blue comp\n",
    "\n",
    "\n",
    "        #If red/comp2 turn [2,3,6,7,10]\n",
    "        elif turn+1 == 2 or turn+1 == 3 or turn+1 == 6 or turn+1 == 7 or turn+1 == 10: \n",
    "\n",
    "            # Make a move\n",
    "            move = epsilonChampGreedy(0, Q, league, state['red'], state['blue'], bans)\n",
    "            newComp = makeChampMove(league, move, state['red'], state['blue'], bans=[])\n",
    "            state['red'] = newComp #Update the red comp\n",
    "            \n",
    "        turn += 1\n",
    "        if winner(league, state)[0]:\n",
    "            #add to state to end of path\n",
    "            return path\n",
    "        \n",
    "    return path"
   ]
  },
  {
   "cell_type": "markdown",
   "metadata": {},
   "source": [
    "# Results"
   ]
  },
  {
   "cell_type": "markdown",
   "metadata": {},
   "source": [
    "Unfortunately, my experiment failed mostly because of time issues. The problem space seems to simply be too large for what I was trying to do given my expectations. I simply couldn't run enough iterations to show that it was functioning."
   ]
  },
  {
   "cell_type": "code",
   "execution_count": 131,
   "metadata": {},
   "outputs": [
    {
     "data": {
      "text/plain": [
       "[{'blue': {'TOP': Aatrox, 266: ['TOP', 'JUNGLE', 'MIDDLE'],\n",
       "   'DUO_SUPPORT': Alistar, 12: ['DUO_SUPPORT'],\n",
       "   'JUNGLE': Amumu, 32: ['JUNGLE'],\n",
       "   'DUO_CARRY': Ashe, 22: ['DUO_CARRY', 'DUO_SUPPORT'],\n",
       "   'MIDDLE': AurelionSol, 136: ['MIDDLE']},\n",
       "  'red': {'TOP': Ahri, 103: ['TOP', 'MIDDLE', 'DUO_SUPPORT'],\n",
       "   'MIDDLE': Akali, 84: ['TOP', 'MIDDLE'],\n",
       "   'DUO_SUPPORT': Anivia, 34: ['TOP', 'MIDDLE', 'DUO_SUPPORT'],\n",
       "   'DUO_CARRY': Annie, 1: ['TOP', 'MIDDLE', 'DUO_CARRY', 'DUO_SUPPORT'],\n",
       "   'JUNGLE': Camille, 164: ['TOP', 'JUNGLE']}}]"
      ]
     },
     "execution_count": 131,
     "metadata": {},
     "output_type": "execute_result"
    }
   ],
   "source": [
    "end = testQ(Q, L, getValidChampMoves, makeChampMove)\n",
    "end"
   ]
  },
  {
   "cell_type": "markdown",
   "metadata": {},
   "source": [
    "Let's at least see which team won."
   ]
  },
  {
   "cell_type": "code",
   "execution_count": 132,
   "metadata": {},
   "outputs": [
    {
     "name": "stdout",
     "output_type": "stream",
     "text": [
      "Bans: []\n",
      "----------------------\n",
      "TOP\n",
      "Aatrox vs Ahri\n",
      "\n",
      "DUO_SUPPORT\n",
      "Alistar vs Akali\n",
      "\n",
      "JUNGLE\n",
      "Amumu vs Anivia\n",
      "\n",
      "DUO_CARRY\n",
      "Ashe vs Annie\n",
      "\n",
      "MIDDLE\n",
      "AurelionSol vs Camille\n",
      "\n",
      "Left team has 0.51 chance of a win.\n",
      "----------------------\n"
     ]
    }
   ],
   "source": [
    "blue = end[0]['blue']\n",
    "red = end[0]['red']\n",
    "printState(blue, red, [])"
   ]
  },
  {
   "cell_type": "markdown",
   "metadata": {},
   "source": [
    "As you can see, the AI didn't learn anything! We always come up with the same composition since the Q table is so ridiculously sparse. The greedy choice is not even able to be taken, as we can see it simply chooses things from valid moves based on alphabetical ordering, only subject to role restrictions."
   ]
  },
  {
   "cell_type": "markdown",
   "metadata": {},
   "source": [
    "## My questions from the proposal:\n",
    "   - \"Can I write a program to break the League champion select meta?\"\n",
    "   I think that this program could come up with some seriously interesting compositions It would purely choose things based on what the numbers told it, rather than its perception of reality or the meta. That beign said, it simply was too inefficiently implemented for how large of a problem it is, so I *didn't* write a program that can break the meta by anything but pure chance.\n",
    "\n",
    "   - \"Can I write a program to win more games?\" \n",
    "   Funnily enough, the \"alphabetical comp\" it came up with is quite awful from my point of view. Perhaps I need to step out of my own comfort zone and try that comp over and over. Who knows, *maybe* I'll win more games. \n",
    "   \n",
    "   In all seriousness, though, the program won't help a player win more games.\n",
    "   \n",
    "   - \"Can I predict which team will win in a championship?\"\n",
    "   This isn't something I ended up aiming for in my final project. That being said, calling the correct functions would give a bit of a stat analysis and could possibly give an inkling towards which team would win. But, it doesn't take into account the ridiculously high skill of the championship players or their pool of champions. It look at stats for the general populace, not for the top 0.00000000001% of players."
   ]
  },
  {
   "cell_type": "markdown",
   "metadata": {},
   "source": [
    "# Conclusions"
   ]
  },
  {
   "cell_type": "markdown",
   "metadata": {},
   "source": [
    "Something I learned that is very important about this project is that my problem space is enormous, and the amount of space I used to represent each part of it, as well as some of my algorithms, made for a VERY slow game. What I mean is, every repetition in the repetitions loop in trainQ takes a noticable amount of time (split second, but the eye catches it). Rather than doing hundreds a second, it does a few. If I were to do this again, I would rethink my design and especially rethink some of my data structure choices. I chalk it up, primarily, to inexperience in Python and to be frank, not giving myself enough time. Without doing thousands of computations, I cannot stand behind any of the data I've accrued. That being said, I learned a lot and genuinely want to continue this project as it is something that I think a *lot* of people in my community would enjoy. I think I am really close to something cool, but as it stands I would need to let my code run for a day or more to really get an AI that understood what was doing on.\n",
    "\n",
    "I needed to be able to run even more repetitions than in tic-tac-toe, but couldn't even match up to 50000 in a reasonable amount of time. This project would need a large overhaul, but that doesn't mean nothing can be learned from it! At least for myself.\n",
    "\n",
    "It was very difficult for me to get the API's working, as I have never done something like that. Working in Python can be a struggle for me since the vast majority of my programming experience comes from Java, and I was programming two other Java programs while writing this one. I also wrote the program *in this notebook*, so I got bogged down on weird issues that I otherwise wouldn't have had I set it up in PyCharm or in a text editor. \n",
    "\n",
    "This project was actually super fun, and I hope to use these resources in the future for something similar to this!\n",
    "\n",
    "\n",
    "Reader,\n",
    "\n",
    "I hope you enjoyed reading, and have a fantastic winter break!"
   ]
  }
 ],
 "metadata": {
  "kernelspec": {
   "display_name": "Python 3",
   "language": "python",
   "name": "python3"
  },
  "language_info": {
   "codemirror_mode": {
    "name": "ipython",
    "version": 3
   },
   "file_extension": ".py",
   "mimetype": "text/x-python",
   "name": "python",
   "nbconvert_exporter": "python",
   "pygments_lexer": "ipython3",
   "version": "3.6.5"
  }
 },
 "nbformat": 4,
 "nbformat_minor": 1
}
